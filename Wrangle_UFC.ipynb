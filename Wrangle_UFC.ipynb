{
 "cells": [
  {
   "cell_type": "markdown",
   "id": "1f604b48",
   "metadata": {},
   "source": [
    "## Acquire and Prepare"
   ]
  },
  {
   "cell_type": "code",
   "execution_count": 1,
   "id": "bf1d8927",
   "metadata": {},
   "outputs": [],
   "source": [
    "# Function to wrangle the UFC data"
   ]
  },
  {
   "cell_type": "code",
   "execution_count": 2,
   "id": "772dbe2f",
   "metadata": {},
   "outputs": [],
   "source": [
    "def get_n_prep_ufc(): \n",
    "    \n",
    "    # imports\n",
    "    import pandas as pd\n",
    "    # Ignore Warnings\n",
    "    import warnings\n",
    "    warnings.filterwarnings(\"ignore\")\n",
    "    \n",
    "    # read .csv\n",
    "    ufc = pd.read_csv('ufc-master-cleaned.csv')\n",
    "    \n",
    "    # add the columns I would like to work with into a new df\n",
    "    ufc_cleaned = ufc[['event_name', 'fullname', 'fighter_two_name', 'w', 'l', 'd', 'nc', 'total_rounds', 'belt', 'womens_bout', 'interim_bout', 'strawweight', 'flyweight', 'bantamweight', 'featherweight', 'lightweight', 'middleweight', 'light_heavyweight', 'heavyweight', 'catch_weight', 'open_weight', 'super_heavyweight', 'superfight', 'fight_city', 'fight_state', 'fight_country', 'height', 'weight', 'reach', 'stance', 'slpm', 'stracc', 'sapm', 'strdef', 'tdavg', 'tdacc', 'tddef', 'subavg', 'age_days', 'age']].copy(0)\n",
    "    \n",
    "    # Drop duplicates if any\n",
    "    df = ufc_cleaned.drop_duplicates()\n",
    "    \n",
    "    # combine w, l, d, nc into on target column called outcome\n",
    "    cols = ['w', 'l', 'd', 'nc']\n",
    "    ufc_cleaned['outcome'] = ufc_cleaned[cols].apply(lambda row: '_'.join(row.values.astype(str)), axis=1)\n",
    "    \n",
    "    # rename the labels in outcome to be human readable \n",
    "    ufc_cleaned['outcome'].replace({'1_0_0_0': 'win', '0_1_0_0': 'loss', '0_0_1_0': 'draw', '0_0_0_1': 'no_contest'}, inplace=True)\n",
    "    \n",
    "    # rename fullname and fighter_two_name to fighter and opponent respectively\n",
    "    ufc_cleaned.rename(columns={'fullname': 'fighter', 'fighter_two_name': 'opponent'}, inplace=True)\n",
    "    \n",
    "    # clean height column\n",
    "    \n",
    "    # replace the -- with 0' 0\" so my function below will work\n",
    "    ufc_cleaned['height'].replace({'--': \"0' 0\\\"\"}, inplace=True)\n",
    "    \n",
    "    # convert ft to in\n",
    "    def parse_ht(ht):\n",
    "        # format: 7' 0.0\"\n",
    "        ht_ = ht.split(\"' \")\n",
    "        ft_ = float(ht_[0])\n",
    "        in_ = float(ht_[1].replace(\"\\\"\",\"\"))\n",
    "        return (12*ft_) + in_\n",
    "    \n",
    "    # apply parse_ht\n",
    "    ufc_cleaned[\"height_in\"] = ufc_cleaned[\"height\"].apply(lambda x:parse_ht(x))\n",
    "\n",
    "    # convert float to int\n",
    "    ufc_cleaned['height_in'] = ufc_cleaned.height_in.astype(int) \n",
    "    \n",
    "    # handle null values\n",
    "    \n",
    "    # fill fight_state null values with the mode which is Navada\n",
    "    ufc_cleaned['fight_state'] = ufc_cleaned.fight_state.fillna(ufc_cleaned.fight_state.mode()[0])\n",
    "    \n",
    "    # drop null rows in specific columns\n",
    "    ufc_cleaned = ufc_cleaned[ufc_cleaned.weight.notnull()]\n",
    "    ufc_cleaned = ufc_cleaned[ufc_cleaned.reach.notnull()]\n",
    "    ufc_cleaned = ufc_cleaned[ufc_cleaned.stance.notnull()]\n",
    "    ufc_cleaned = ufc_cleaned[ufc_cleaned.age.notnull()]\n",
    "    ufc_cleaned = ufc_cleaned[ufc_cleaned.fight_country.notnull()]\n",
    "    \n",
    "    # drop nulls to make sure none were missed\n",
    "    df = df.dropna()\n",
    "    \n",
    "    # create dummy columns for stance column and concat to df\n",
    "    dummy_df = pd.get_dummies(ufc_cleaned[['stance']], dummy_na=False, drop_first=[False])\n",
    "    ufc_cleaned = pd.concat([ufc_cleaned, dummy_df], axis=1)\n",
    "    \n",
    "    # Drop height column\n",
    "    cols_to_drop = ['height']\n",
    "    ufc_cleaned = ufc_cleaned.drop(columns=cols_to_drop)\n",
    "\n",
    "    return ufc_cleaned\n",
    "    "
   ]
  },
  {
   "cell_type": "code",
   "execution_count": 3,
   "id": "f53444b8",
   "metadata": {},
   "outputs": [],
   "source": [
    "# ufc_cleaned = get_n_prep_ufc()"
   ]
  },
  {
   "cell_type": "code",
   "execution_count": 4,
   "id": "2d8faf92",
   "metadata": {},
   "outputs": [],
   "source": [
    "# ufc_cleaned.head()"
   ]
  },
  {
   "cell_type": "markdown",
   "id": "79c8c308",
   "metadata": {},
   "source": [
    "## Split Data"
   ]
  },
  {
   "cell_type": "code",
   "execution_count": 5,
   "id": "318c968d",
   "metadata": {},
   "outputs": [],
   "source": [
    "def train_validate_test_split(ufc_cleaned):\n",
    "    '''\n",
    "    This function takes in a dataframe (df) and returns 3 dfs\n",
    "    (train, validate, and test) split 20%, 24%, 56% respectively. \n",
    "    \n",
    "    Also takes in a random seed for replicating results.  \n",
    "    '''\n",
    "    \n",
    "    from sklearn.model_selection import train_test_split\n",
    "     \n",
    "    train_and_validate, test = train_test_split(\n",
    "        ufc_cleaned, test_size=0.2, random_state=123, stratify=ufc_cleaned.outcome\n",
    "    )\n",
    "    train, validate = train_test_split(\n",
    "        train_and_validate,\n",
    "        test_size=0.3,\n",
    "        random_state=123,\n",
    "        stratify=train_and_validate.outcome,\n",
    "    )\n",
    "    return train, validate, test\n"
   ]
  },
  {
   "cell_type": "code",
   "execution_count": 6,
   "id": "d66a14d1",
   "metadata": {},
   "outputs": [],
   "source": [
    "# train, validate, test = train_validate_test_split(ufc_cleaned)"
   ]
  },
  {
   "cell_type": "code",
   "execution_count": 7,
   "id": "967fb73a",
   "metadata": {},
   "outputs": [],
   "source": [
    "# train.head(1)"
   ]
  },
  {
   "cell_type": "code",
   "execution_count": 8,
   "id": "3df2ee3b",
   "metadata": {},
   "outputs": [],
   "source": [
    "def get_prep_n_split_ufc_data():\n",
    "    ''' \n",
    "    This function runs get_n_prep_ufc and train_validate_test_split functions.\n",
    "    It takes in the original df and returns the split dfs train, validate, test (in that order).\n",
    "    '''\n",
    "    \n",
    "    # imports\n",
    "    import pandas as pd\n",
    "    # Ignore Warnings\n",
    "    import warnings\n",
    "    warnings.filterwarnings(\"ignore\")\n",
    "    from sklearn.model_selection import train_test_split\n",
    "    \n",
    "    \n",
    "    ufc_cleaned = get_n_prep_ufc()\n",
    "    train, validate, test = train_validate_test_split(ufc_cleaned)\n",
    "    return train, validate, test\n"
   ]
  },
  {
   "cell_type": "code",
   "execution_count": 9,
   "id": "71a9e5b3",
   "metadata": {},
   "outputs": [],
   "source": [
    "train, validate, test = get_prep_n_split_ufc_data()"
   ]
  },
  {
   "cell_type": "code",
   "execution_count": 10,
   "id": "8ab20f3b",
   "metadata": {},
   "outputs": [
    {
     "data": {
      "text/html": [
       "<div>\n",
       "<style scoped>\n",
       "    .dataframe tbody tr th:only-of-type {\n",
       "        vertical-align: middle;\n",
       "    }\n",
       "\n",
       "    .dataframe tbody tr th {\n",
       "        vertical-align: top;\n",
       "    }\n",
       "\n",
       "    .dataframe thead th {\n",
       "        text-align: right;\n",
       "    }\n",
       "</style>\n",
       "<table border=\"1\" class=\"dataframe\">\n",
       "  <thead>\n",
       "    <tr style=\"text-align: right;\">\n",
       "      <th></th>\n",
       "      <th>event_name</th>\n",
       "      <th>fighter</th>\n",
       "      <th>opponent</th>\n",
       "      <th>w</th>\n",
       "      <th>l</th>\n",
       "      <th>d</th>\n",
       "      <th>nc</th>\n",
       "      <th>total_rounds</th>\n",
       "      <th>belt</th>\n",
       "      <th>womens_bout</th>\n",
       "      <th>...</th>\n",
       "      <th>tdacc</th>\n",
       "      <th>tddef</th>\n",
       "      <th>subavg</th>\n",
       "      <th>age_days</th>\n",
       "      <th>age</th>\n",
       "      <th>outcome</th>\n",
       "      <th>height_in</th>\n",
       "      <th>stance_Orthodox</th>\n",
       "      <th>stance_Southpaw</th>\n",
       "      <th>stance_Switch</th>\n",
       "    </tr>\n",
       "  </thead>\n",
       "  <tbody>\n",
       "    <tr>\n",
       "      <th>4307</th>\n",
       "      <td>UFC on FOX: Holm vs. Shevchenko</td>\n",
       "      <td>Gilbert Melendez</td>\n",
       "      <td>Edson Barboza</td>\n",
       "      <td>0</td>\n",
       "      <td>1</td>\n",
       "      <td>0</td>\n",
       "      <td>0</td>\n",
       "      <td>3</td>\n",
       "      <td>0</td>\n",
       "      <td>0</td>\n",
       "      <td>...</td>\n",
       "      <td>41</td>\n",
       "      <td>71</td>\n",
       "      <td>0.2</td>\n",
       "      <td>12521</td>\n",
       "      <td>34.0</td>\n",
       "      <td>loss</td>\n",
       "      <td>69</td>\n",
       "      <td>1</td>\n",
       "      <td>0</td>\n",
       "      <td>0</td>\n",
       "    </tr>\n",
       "  </tbody>\n",
       "</table>\n",
       "<p>1 rows × 44 columns</p>\n",
       "</div>"
      ],
      "text/plain": [
       "                           event_name           fighter       opponent  w  l  \\\n",
       "4307  UFC on FOX: Holm vs. Shevchenko  Gilbert Melendez  Edson Barboza  0  1   \n",
       "\n",
       "      d  nc  total_rounds  belt  womens_bout  ...  tdacc  tddef  subavg  \\\n",
       "4307  0   0             3     0            0  ...     41     71     0.2   \n",
       "\n",
       "      age_days   age  outcome  height_in  stance_Orthodox  stance_Southpaw  \\\n",
       "4307     12521  34.0     loss         69                1                0   \n",
       "\n",
       "      stance_Switch  \n",
       "4307              0  \n",
       "\n",
       "[1 rows x 44 columns]"
      ]
     },
     "execution_count": 10,
     "metadata": {},
     "output_type": "execute_result"
    }
   ],
   "source": [
    "train.head(1)"
   ]
  },
  {
   "cell_type": "code",
   "execution_count": 14,
   "id": "03e4c91a",
   "metadata": {},
   "outputs": [],
   "source": [
    "# train.shape"
   ]
  },
  {
   "cell_type": "code",
   "execution_count": 15,
   "id": "715d8960",
   "metadata": {},
   "outputs": [],
   "source": [
    "# validate.shape"
   ]
  },
  {
   "cell_type": "code",
   "execution_count": 16,
   "id": "d8cbb787",
   "metadata": {},
   "outputs": [],
   "source": [
    "# test.shape"
   ]
  },
  {
   "cell_type": "code",
   "execution_count": null,
   "id": "451d136a",
   "metadata": {},
   "outputs": [],
   "source": []
  }
 ],
 "metadata": {
  "kernelspec": {
   "display_name": "Python 3",
   "language": "python",
   "name": "python3"
  },
  "language_info": {
   "codemirror_mode": {
    "name": "ipython",
    "version": 3
   },
   "file_extension": ".py",
   "mimetype": "text/x-python",
   "name": "python",
   "nbconvert_exporter": "python",
   "pygments_lexer": "ipython3",
   "version": "3.8.8"
  }
 },
 "nbformat": 4,
 "nbformat_minor": 5
}
