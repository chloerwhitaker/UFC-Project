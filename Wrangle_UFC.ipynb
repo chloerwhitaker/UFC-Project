{
 "cells": [
  {
   "cell_type": "code",
   "execution_count": 12,
   "id": "d6eea3e3",
   "metadata": {},
   "outputs": [],
   "source": [
    "# Function to wrangle the UFC data"
   ]
  },
  {
   "cell_type": "code",
   "execution_count": 8,
   "id": "e7d0e415",
   "metadata": {},
   "outputs": [],
   "source": [
    "def get_n_prep_ufc(): \n",
    "    \n",
    "    # imports\n",
    "    import pandas as pd\n",
    "    # Ignore Warnings\n",
    "    import warnings\n",
    "    warnings.filterwarnings(\"ignore\")\n",
    "    \n",
    "    # read .csv\n",
    "    ufc = pd.read_csv('ufc-master-cleaned.csv')\n",
    "    \n",
    "    # add the columns I would like to work with into a new df\n",
    "    ufc_cleaned = ufc[['event_name', 'fullname', 'fighter_two_name', 'w', 'l', 'd', 'nc', 'total_rounds', 'belt', 'womens_bout', 'interim_bout', 'strawweight', 'flyweight', 'bantamweight', 'featherweight', 'lightweight', 'middleweight', 'light_heavyweight', 'heavyweight', 'catch_weight', 'open_weight', 'super_heavyweight', 'superfight', 'fight_city', 'fight_state', 'fight_country', 'height', 'weight', 'reach', 'stance', 'slpm', 'stracc', 'sapm', 'strdef', 'tdavg', 'tdacc', 'tddef', 'subavg', 'age_days', 'age']].copy(0)\n",
    "    \n",
    "    # Drop duplicates if any\n",
    "    df = ufc_cleaned.drop_duplicates()\n",
    "    \n",
    "    # combine w, l, d, nc into on target column called outcome\n",
    "    cols = ['w', 'l', 'd', 'nc']\n",
    "    ufc_cleaned['outcome'] = ufc_cleaned[cols].apply(lambda row: '_'.join(row.values.astype(str)), axis=1)\n",
    "    \n",
    "    # rename the labels in outcome to be human readable \n",
    "    ufc_cleaned['outcome'].replace({'1_0_0_0': 'win', '0_1_0_0': 'loss', '0_0_1_0': 'draw', '0_0_0_1': 'no_contest'}, inplace=True)\n",
    "    \n",
    "    # rename fullname and fighter_two_name to fighter and opponent respectively\n",
    "    ufc_cleaned.rename(columns={'fullname': 'fighter', 'fighter_two_name': 'opponent'}, inplace=True)\n",
    "    \n",
    "    # clean height column\n",
    "    \n",
    "    # replace the -- with 0' 0\" so my function below will work\n",
    "    ufc_cleaned['height'].replace({'--': \"0' 0\\\"\"}, inplace=True)\n",
    "    \n",
    "    # convert ft to in\n",
    "    def parse_ht(ht):\n",
    "        # format: 7' 0.0\"\n",
    "        ht_ = ht.split(\"' \")\n",
    "        ft_ = float(ht_[0])\n",
    "        in_ = float(ht_[1].replace(\"\\\"\",\"\"))\n",
    "        return (12*ft_) + in_\n",
    "    \n",
    "    # apply parse_ht\n",
    "    ufc_cleaned[\"height_in\"] = ufc_cleaned[\"height\"].apply(lambda x:parse_ht(x))\n",
    "\n",
    "    # convert float to int\n",
    "    ufc_cleaned['height_in'] = ufc_cleaned.height_in.astype(int) \n",
    "    \n",
    "    # handle null values\n",
    "    \n",
    "    # fill fight_state null values with the mode which is Navada\n",
    "    ufc_cleaned['fight_state'] = ufc_cleaned.fight_state.fillna(ufc_cleaned.fight_state.mode()[0])\n",
    "    \n",
    "    # drop null rows in specific columns\n",
    "    ufc_cleaned = ufc_cleaned[ufc_cleaned.weight.notnull()]\n",
    "    ufc_cleaned = ufc_cleaned[ufc_cleaned.reach.notnull()]\n",
    "    ufc_cleaned = ufc_cleaned[ufc_cleaned.stance.notnull()]\n",
    "    ufc_cleaned = ufc_cleaned[ufc_cleaned.age.notnull()]\n",
    "    ufc_cleaned = ufc_cleaned[ufc_cleaned.fight_country.notnull()]\n",
    "    \n",
    "    # drop nulls to make sure none were missed\n",
    "    df = df.dropna()\n",
    "    \n",
    "    # create dummy columns for stance column and concat to df\n",
    "    dummy_df = pd.get_dummies(ufc_cleaned[['stance']], dummy_na=False, drop_first=[False])\n",
    "    ufc_cleaned = pd.concat([ufc_cleaned, dummy_df], axis=1)\n",
    "    \n",
    "    # Drop height column\n",
    "    cols_to_drop = ['height']\n",
    "    ufc_cleaned = ufc_cleaned.drop(columns=cols_to_drop)\n",
    "\n",
    "    return ufc_cleaned\n",
    "    "
   ]
  },
  {
   "cell_type": "code",
   "execution_count": 9,
   "id": "f28d5009",
   "metadata": {},
   "outputs": [],
   "source": [
    "# ufc_cleaned = get_n_prep_ufc()"
   ]
  },
  {
   "cell_type": "code",
   "execution_count": 11,
   "id": "cfb1894a",
   "metadata": {},
   "outputs": [],
   "source": [
    "# ufc_cleaned.head()"
   ]
  },
  {
   "cell_type": "code",
   "execution_count": null,
   "id": "e946db97",
   "metadata": {},
   "outputs": [],
   "source": []
  }
 ],
 "metadata": {
  "kernelspec": {
   "display_name": "Python 3",
   "language": "python",
   "name": "python3"
  },
  "language_info": {
   "codemirror_mode": {
    "name": "ipython",
    "version": 3
   },
   "file_extension": ".py",
   "mimetype": "text/x-python",
   "name": "python",
   "nbconvert_exporter": "python",
   "pygments_lexer": "ipython3",
   "version": "3.8.8"
  }
 },
 "nbformat": 4,
 "nbformat_minor": 5
}
