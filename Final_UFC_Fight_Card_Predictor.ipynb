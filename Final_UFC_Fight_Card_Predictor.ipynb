{
 "cells": [
  {
   "cell_type": "markdown",
   "id": "1717a398",
   "metadata": {},
   "source": [
    "# UFC Fight Card Predictor"
   ]
  },
  {
   "cell_type": "markdown",
   "id": "9c93e5dd",
   "metadata": {},
   "source": [
    "#### Move over boxing, there's a new girl in town. "
   ]
  },
  {
   "cell_type": "markdown",
   "id": "aa2599dd",
   "metadata": {},
   "source": [
    "## About this Project:"
   ]
  },
  {
   "cell_type": "markdown",
   "id": "d7ef2dd1",
   "metadata": {},
   "source": [
    "UFC may be the new king of the fight game, and I'm here for it. With megastars like Conor McGregor, Jorge Masvidal, Brock Lesnar, and Ronda Rousey commanding over a million PPVs each, the combat sport is cementing its place amoungest the heavyweights. In the past few years the sport has undergone a transformation similar its president Dana White, going from dweeby dodgeball reject to glossy action flick star. \n",
    "\n",
    "I can't even remember what I used to do on saturday nights, but now I crowd around the TV with my friends as we each loudly predict which fighter will win. Just when you thought UFC was for the muscle-bound monster truck bunch, you find out it is really for the nerds. \n",
    "\n",
    "What's more nerdy that breaking down the stats and even betting money your calculations are correct. \n",
    "\n",
    "In this project I will be creating a fight predictor so that like the UFC, I can also be king of Saturday nights. \n",
    "\n"
   ]
  },
  {
   "cell_type": "markdown",
   "id": "5cf99dc7",
   "metadata": {},
   "source": [
    "### Project Goal: "
   ]
  },
  {
   "cell_type": "markdown",
   "id": "36ad8549",
   "metadata": {},
   "source": [
    "The goal of this project is to be able to read in an upcoming fight card and predict the outcome of each fight. "
   ]
  },
  {
   "cell_type": "markdown",
   "id": "e690ae11",
   "metadata": {},
   "source": [
    "### Project Description: "
   ]
  },
  {
   "cell_type": "markdown",
   "id": "d38236a4",
   "metadata": {},
   "source": [
    "For this particular project we will be looking at UFC 272 PPV - Colby Covington vs. Jorge Masvidal."
   ]
  },
  {
   "cell_type": "markdown",
   "id": "1b445fcd",
   "metadata": {},
   "source": [
    "## Let's Get Started... "
   ]
  },
  {
   "cell_type": "markdown",
   "id": "e3631fc0",
   "metadata": {},
   "source": [
    "### Imports"
   ]
  },
  {
   "cell_type": "code",
   "execution_count": null,
   "id": "6bdda78d",
   "metadata": {},
   "outputs": [],
   "source": []
  }
 ],
 "metadata": {
  "kernelspec": {
   "display_name": "Python 3",
   "language": "python",
   "name": "python3"
  },
  "language_info": {
   "codemirror_mode": {
    "name": "ipython",
    "version": 3
   },
   "file_extension": ".py",
   "mimetype": "text/x-python",
   "name": "python",
   "nbconvert_exporter": "python",
   "pygments_lexer": "ipython3",
   "version": "3.8.8"
  }
 },
 "nbformat": 4,
 "nbformat_minor": 5
}
