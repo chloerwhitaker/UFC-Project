{
 "cells": [
  {
   "cell_type": "markdown",
   "id": "0c81d3e2",
   "metadata": {},
   "source": [
    "# UFC Fight Card Predictor"
   ]
  },
  {
   "cell_type": "markdown",
   "id": "b3cb2928",
   "metadata": {},
   "source": [
    "#### Move over boxing, there's a new girl in town. "
   ]
  },
  {
   "cell_type": "markdown",
   "id": "70f6253a",
   "metadata": {},
   "source": [
    "## About this Project:"
   ]
  },
  {
   "cell_type": "markdown",
   "id": "30d540bc",
   "metadata": {},
   "source": [
    "UFC may be the new king of the fight game, and I'm here for it. With megastars like Conor McGregor, Jorge Masvidal, Brock Lesnar, and Ronda Rousey commanding over a million PPVs each, the combat sport is cementing its place amongest the heavyweights. In the past few years the sport has undergone a transformation similar its president Dana White, going from dweeby dodgeball reject to glossy action flick star. \n",
    "\n",
    "I can't even remember what I used to do on saturday nights, but now I crowd around the TV with my friends as we each loudly predict which fighter will win. Just when you thought UFC was for the muscle-bound monster truck bunch, you find out it is really for the nerds. \n",
    "\n",
    "What's more nerdy that breaking down the stats and even betting money your calculations are correct. \n",
    "\n",
    "In this project I will be creating a fight predictor so that like the UFC, I can also be king of Saturday nights. \n",
    "\n"
   ]
  },
  {
   "cell_type": "markdown",
   "id": "411e536b",
   "metadata": {},
   "source": [
    "### Project Goal: "
   ]
  },
  {
   "cell_type": "markdown",
   "id": "2ac60417",
   "metadata": {},
   "source": [
    "The goal of this project is to be able to read in an upcoming fight card and predict the outcome of each fight. "
   ]
  },
  {
   "cell_type": "markdown",
   "id": "7efb9d68",
   "metadata": {},
   "source": [
    "### Project Description: "
   ]
  },
  {
   "cell_type": "markdown",
   "id": "f11cdf45",
   "metadata": {},
   "source": [
    "For this particular project we will be looking at UFC 272 PPV - Colby Covington vs. Jorge Masvidal.\n",
    "\n",
    "Colby Covington and Jorge Masvidal have a legendary fued, with the classic story of turning best friends to sworn enemies in the blink of an eye. UFC 272 will an old fashioned grudge match. \n",
    "\n",
    "Because of this we will focus on the stats of these two fighters and how they match up against each other. "
   ]
  },
  {
   "cell_type": "markdown",
   "id": "df55e91e",
   "metadata": {},
   "source": [
    "### Initial Questions: \n",
    "\n",
    "1) Does fighter1 having a higher striking defense average than fighter2 correlate to fighter 1 winning. \n",
    "\n",
    "2) Does fighter1 having a higher takedown defense average than fighter2 correlate to fighter 1 winning. \n",
    "\n",
    "3) How does Colby Covington and Jorge Masvidal's stats compare to the vlues with the highest correlation to winning? \n",
    "\n",
    "4) How does Colby Covington and Jorge Masvidal's stats compare to each other? "
   ]
  },
  {
   "cell_type": "markdown",
   "id": "207e5d30",
   "metadata": {},
   "source": [
    "## Let's Get Started... "
   ]
  },
  {
   "cell_type": "markdown",
   "id": "88ebdf66",
   "metadata": {},
   "source": [
    "### Data Dictionary\n",
    "\n",
    "A list of the variables in the dataframe and their meaning. \n",
    "\n",
    "| Variable       | Description                         |\n",
    "| -------------- | ----------------------------------- |\n",
    "|event_name\t                | Name of the UFC event|\n",
    "|fighter1 |name of the first fighter |\n",
    "|fighter2 |name of the second fighter |\n",
    "|outcome|fighter1, fighter2, draw, no_contest|\n",
    "|win|1 = win|\n",
    "|loss|1 = loss|\n",
    "|draw|1 = draw|\n",
    "|no_contest|1 = no contest|\n",
    "|weight_f1|fighter1's weight|\n",
    "|reach_f1|fighter1's reach|\n",
    "|stance_f1|fighter1's stance|\n",
    "|strikes_f1|fighter1's strikes|\n",
    "|strike_acc_f1|fighter1's strike accuracy average|\n",
    "|strikes_absorbed_f1|fighter1's strikes absorbed average|\n",
    "|strike_defense_f1|fighter1's strike defense average|\n",
    "|takedowns_f1|fighter1's takedown average|\n",
    "|takedown_acc_f1|fighter1's takedown accuracy average|\n",
    "|takedown_def_f1|fighter1's takedown defense average|\n",
    "|sub_attempt_f1|fighter1's submission attempts average|\n",
    "|age_days_f1|fighter1's age in days|\n",
    "|age_f1|fighter1's age|\n",
    "|outcome_f1|fighter1's win/loss outcome|\n",
    "|height_in_f1|fighter1's height in inches|\n",
    "|stance_Orthodox_f1|1 = Orthodox|\n",
    "|stance_Southpaw_f1|1 = Southpaw|\n",
    "|stance_Switch_f1|1 = Switch|\n",
    "|weight_f2|fighter2's weight|\n",
    "|reach_f2|fighter2's reach|\n",
    "|stance_f2|fighter2's stance|\n",
    "|strikes_f2|fighter2's strikes|\n",
    "|strike_acc_f2|fighter2's strike accuracy average|\n",
    "|strikes_absorbed_f2|fighter2's strikes absorbed average|\n",
    "|strike_defense_f2|fighter2's strike defense average|\n",
    "|takedowns_f2|fighter2's takedown average|\n",
    "|takedown_acc_f2|fighter2's takedown accuracy average|\n",
    "|takedown_def_f2|fighter2's takedown defense average|\n",
    "|sub_attempt_f2|fighter2's submission attempts average|\n",
    "|age_days_f2|fighter2's age in days|\n",
    "|age_f2|fighter2's age|\n",
    "|outcome_f2|fighter2's win/loss outcome|\n",
    "|height_in_f1|fighter1's height in inches|\n",
    "|stance_Orthodox_f2|1 = Orthodox|\n",
    "|stance_Southpaw_f2|1 = Southpaw|\n",
    "|stance_Switch_f2|1 = Switch|"
   ]
  },
  {
   "cell_type": "markdown",
   "id": "4d58107b",
   "metadata": {},
   "source": [
    "### Imports"
   ]
  },
  {
   "cell_type": "markdown",
   "id": "0607bff0",
   "metadata": {},
   "source": [
    "These are the following imports needed to run this notebook:"
   ]
  },
  {
   "cell_type": "code",
   "execution_count": 37,
   "id": "faf22cc1",
   "metadata": {},
   "outputs": [],
   "source": [
    "# imports\n",
    "import numpy as np\n",
    "import pandas as pd\n",
    "\n",
    "# Visualizing\n",
    "import matplotlib.pyplot as plt\n",
    "import seaborn as sns\n",
    "\n",
    "# stats\n",
    "import scipy.stats as stats\n",
    "\n",
    "# Classification Modeling\n",
    "from sklearn.tree import DecisionTreeClassifier\n",
    "from sklearn.tree import export_graphviz\n",
    "from sklearn.metrics import classification_report\n",
    "from sklearn.metrics import confusion_matrix\n",
    "from sklearn.ensemble import RandomForestClassifier\n",
    "from sklearn.neighbors import KNeighborsClassifier\n",
    "\n",
    "# My files\n",
    "from Wrangle_UFC import *"
   ]
  },
  {
   "cell_type": "markdown",
   "id": "41cb765a",
   "metadata": {},
   "source": [
    "### Acquire and Prepare"
   ]
  },
  {
   "cell_type": "markdown",
   "id": "ecf44d7f",
   "metadata": {},
   "source": [
    "The first thing we have to do is acquire the data. The original dataset I started with is called ufc-master.csv that I found here:\n",
    "\n",
    "https://www.kaggle.com/bloodprashure/ufc-p4p-1-dataset/tasks?taskId=4669"
   ]
  },
  {
   "cell_type": "markdown",
   "id": "5fbc72a7",
   "metadata": {},
   "source": [
    "Before reading this csv I cleaned the column names to make them easier to work with in python."
   ]
  },
  {
   "cell_type": "markdown",
   "id": "be504242",
   "metadata": {},
   "source": [
    "I wanted to create a df where the fighter1 and fighter2 stats are on the same row. To do this I created a column that concats the fighter1 and fighter2 columns together. I also did the reverse of that where the names are listed fighter2/fighter1. I wrote a for loop that prints an array of fighter1's stats and finds and prints the corresponding fighter2's stats. Then I joined them together and stored the data in a dataframe. Because of this the df does contain each match twice but it shouldn't affect our exploration or model much at all. "
   ]
  },
  {
   "cell_type": "markdown",
   "id": "caf03f48",
   "metadata": {},
   "source": [
    "To Clean the Data I: \n",
    "\n",
    "- Combined w, l, d, nc into on target column called outcome.\n",
    "- Rename the labels in outcome to be human readable.\n",
    "- rename fullname and fighter_two_name to fighter and opponent respectively. \n",
    "- Cleaned the height column by: \n",
    "    - replacing the -- with 0' 0\" so my function below will work\n",
    "    - converting ft to in\n",
    "    - converting float to int\n",
    "- Handled the Null values by: \n",
    "    - filling fight_state null values with the mode which is Navada\n",
    "    - dropping null rows in columns weight, reach, stance, age, and fight_country\n",
    "- Creating dummy columns for stance column and concat to df.\n",
    "- Dropping the height column.\n"
   ]
  },
  {
   "cell_type": "code",
   "execution_count": 2,
   "id": "0c42ce4c",
   "metadata": {},
   "outputs": [],
   "source": [
    "# Remove Limits On Viewing Dataframes\n",
    "pd.set_option('display.max_columns', None)"
   ]
  },
  {
   "cell_type": "code",
   "execution_count": 3,
   "id": "205e6f5a",
   "metadata": {},
   "outputs": [],
   "source": [
    "final_df, fighter_stat_diff = ufc_stats_difference()"
   ]
  },
  {
   "cell_type": "code",
   "execution_count": 4,
   "id": "22cf12f5",
   "metadata": {},
   "outputs": [
    {
     "data": {
      "text/html": [
       "<div>\n",
       "<style scoped>\n",
       "    .dataframe tbody tr th:only-of-type {\n",
       "        vertical-align: middle;\n",
       "    }\n",
       "\n",
       "    .dataframe tbody tr th {\n",
       "        vertical-align: top;\n",
       "    }\n",
       "\n",
       "    .dataframe thead th {\n",
       "        text-align: right;\n",
       "    }\n",
       "</style>\n",
       "<table border=\"1\" class=\"dataframe\">\n",
       "  <thead>\n",
       "    <tr style=\"text-align: right;\">\n",
       "      <th></th>\n",
       "      <th>Unnamed: 0</th>\n",
       "      <th>event_name</th>\n",
       "      <th>fighter1</th>\n",
       "      <th>fighter2</th>\n",
       "      <th>outcome</th>\n",
       "      <th>win</th>\n",
       "      <th>loss</th>\n",
       "      <th>draw</th>\n",
       "      <th>no_contest</th>\n",
       "      <th>weight_f1</th>\n",
       "      <th>reach_f1</th>\n",
       "      <th>stance_f1</th>\n",
       "      <th>strikes_f1</th>\n",
       "      <th>strike_acc_f1</th>\n",
       "      <th>strikes_absorbed_f1</th>\n",
       "      <th>strike_defense_f1</th>\n",
       "      <th>takedowns_f1</th>\n",
       "      <th>takedown_acc_f1</th>\n",
       "      <th>takedown_def_f1</th>\n",
       "      <th>sub_attempt_f1</th>\n",
       "      <th>age_days_f1</th>\n",
       "      <th>age_f1</th>\n",
       "      <th>outcome_f1</th>\n",
       "      <th>height_in_f1</th>\n",
       "      <th>stance_Orthodox_f1</th>\n",
       "      <th>stance_Southpaw_f1</th>\n",
       "      <th>stance_Switch_f1</th>\n",
       "      <th>weight_f2</th>\n",
       "      <th>reach_f2</th>\n",
       "      <th>stance_f2</th>\n",
       "      <th>strikes_f2</th>\n",
       "      <th>strike_acc_f2</th>\n",
       "      <th>strikes_absorbed_f2</th>\n",
       "      <th>strike_defense_f2</th>\n",
       "      <th>takedowns_f2</th>\n",
       "      <th>takedown_acc_f2</th>\n",
       "      <th>takedown_def_f2</th>\n",
       "      <th>sub_attempt_f2</th>\n",
       "      <th>age_days_f2</th>\n",
       "      <th>age_f2</th>\n",
       "      <th>outcome_f2</th>\n",
       "      <th>height_in_f2</th>\n",
       "      <th>stance_Orthodox_f2</th>\n",
       "      <th>stance_Southpaw_f2</th>\n",
       "      <th>stance_Switch_f2</th>\n",
       "      <th>weight_diff</th>\n",
       "      <th>reach_diff</th>\n",
       "      <th>strike_diff</th>\n",
       "      <th>strike_acc_diff</th>\n",
       "      <th>strikes_absorbed_diff</th>\n",
       "      <th>strikes_defense_diff</th>\n",
       "      <th>takedown_attempts_diff</th>\n",
       "      <th>takedown_acc_diff</th>\n",
       "      <th>takedown_defense_diff</th>\n",
       "      <th>submission_attempt_diff</th>\n",
       "      <th>age_diff</th>\n",
       "      <th>height_diff</th>\n",
       "    </tr>\n",
       "  </thead>\n",
       "  <tbody>\n",
       "    <tr>\n",
       "      <th>0</th>\n",
       "      <td>0</td>\n",
       "      <td>UFC 259: Blachowicz vs. Adesanya</td>\n",
       "      <td>Aalon Cruz</td>\n",
       "      <td>Uros Medic</td>\n",
       "      <td>fighter2</td>\n",
       "      <td>0</td>\n",
       "      <td>1</td>\n",
       "      <td>0</td>\n",
       "      <td>0</td>\n",
       "      <td>145.0</td>\n",
       "      <td>78.0</td>\n",
       "      <td>Switch</td>\n",
       "      <td>7.58</td>\n",
       "      <td>39</td>\n",
       "      <td>8.88</td>\n",
       "      <td>58</td>\n",
       "      <td>0.0</td>\n",
       "      <td>0</td>\n",
       "      <td>0</td>\n",
       "      <td>0.0</td>\n",
       "      <td>11490</td>\n",
       "      <td>31.0</td>\n",
       "      <td>fighter2</td>\n",
       "      <td>72</td>\n",
       "      <td>0</td>\n",
       "      <td>0</td>\n",
       "      <td>1</td>\n",
       "      <td>155.0</td>\n",
       "      <td>71.0</td>\n",
       "      <td>Southpaw</td>\n",
       "      <td>19.91</td>\n",
       "      <td>77</td>\n",
       "      <td>0.52</td>\n",
       "      <td>86</td>\n",
       "      <td>0.0</td>\n",
       "      <td>0</td>\n",
       "      <td>100</td>\n",
       "      <td>0.0</td>\n",
       "      <td>10177</td>\n",
       "      <td>27.0</td>\n",
       "      <td>fighter1</td>\n",
       "      <td>73</td>\n",
       "      <td>0</td>\n",
       "      <td>1</td>\n",
       "      <td>0</td>\n",
       "      <td>-10.0</td>\n",
       "      <td>7.0</td>\n",
       "      <td>-12.33</td>\n",
       "      <td>-38.0</td>\n",
       "      <td>8.36</td>\n",
       "      <td>-28.0</td>\n",
       "      <td>0.0</td>\n",
       "      <td>0.0</td>\n",
       "      <td>-100.0</td>\n",
       "      <td>0.0</td>\n",
       "      <td>1313.0</td>\n",
       "      <td>-1.0</td>\n",
       "    </tr>\n",
       "  </tbody>\n",
       "</table>\n",
       "</div>"
      ],
      "text/plain": [
       "   Unnamed: 0                        event_name    fighter1    fighter2  \\\n",
       "0           0  UFC 259: Blachowicz vs. Adesanya  Aalon Cruz  Uros Medic   \n",
       "\n",
       "    outcome  win  loss  draw  no_contest  weight_f1  reach_f1 stance_f1  \\\n",
       "0  fighter2    0     1     0           0      145.0      78.0    Switch   \n",
       "\n",
       "   strikes_f1  strike_acc_f1  strikes_absorbed_f1  strike_defense_f1  \\\n",
       "0        7.58             39                 8.88                 58   \n",
       "\n",
       "   takedowns_f1  takedown_acc_f1  takedown_def_f1  sub_attempt_f1  \\\n",
       "0           0.0                0                0             0.0   \n",
       "\n",
       "   age_days_f1  age_f1 outcome_f1  height_in_f1  stance_Orthodox_f1  \\\n",
       "0        11490    31.0   fighter2            72                   0   \n",
       "\n",
       "   stance_Southpaw_f1  stance_Switch_f1  weight_f2  reach_f2 stance_f2  \\\n",
       "0                   0                 1      155.0      71.0  Southpaw   \n",
       "\n",
       "   strikes_f2  strike_acc_f2  strikes_absorbed_f2  strike_defense_f2  \\\n",
       "0       19.91             77                 0.52                 86   \n",
       "\n",
       "   takedowns_f2  takedown_acc_f2  takedown_def_f2  sub_attempt_f2  \\\n",
       "0           0.0                0              100             0.0   \n",
       "\n",
       "   age_days_f2  age_f2 outcome_f2  height_in_f2  stance_Orthodox_f2  \\\n",
       "0        10177    27.0   fighter1            73                   0   \n",
       "\n",
       "   stance_Southpaw_f2  stance_Switch_f2  weight_diff  reach_diff  strike_diff  \\\n",
       "0                   1                 0        -10.0         7.0       -12.33   \n",
       "\n",
       "   strike_acc_diff  strikes_absorbed_diff  strikes_defense_diff  \\\n",
       "0            -38.0                   8.36                 -28.0   \n",
       "\n",
       "   takedown_attempts_diff  takedown_acc_diff  takedown_defense_diff  \\\n",
       "0                     0.0                0.0                 -100.0   \n",
       "\n",
       "   submission_attempt_diff  age_diff  height_diff  \n",
       "0                      0.0    1313.0         -1.0  "
      ]
     },
     "execution_count": 4,
     "metadata": {},
     "output_type": "execute_result"
    }
   ],
   "source": [
    "final_df.head(1)"
   ]
  },
  {
   "cell_type": "markdown",
   "id": "e507bba1",
   "metadata": {},
   "source": [
    "### Explore"
   ]
  },
  {
   "cell_type": "markdown",
   "id": "05e8cde7",
   "metadata": {},
   "source": [
    "#### Split Data"
   ]
  },
  {
   "cell_type": "code",
   "execution_count": 5,
   "id": "476a2197",
   "metadata": {},
   "outputs": [],
   "source": [
    "# use function from Wrnagle_UFC to split data\n",
    "train, validate, test = train_validate_test_split(final_df)"
   ]
  },
  {
   "cell_type": "code",
   "execution_count": 6,
   "id": "8c0f4897",
   "metadata": {},
   "outputs": [
    {
     "data": {
      "text/html": [
       "<div>\n",
       "<style scoped>\n",
       "    .dataframe tbody tr th:only-of-type {\n",
       "        vertical-align: middle;\n",
       "    }\n",
       "\n",
       "    .dataframe tbody tr th {\n",
       "        vertical-align: top;\n",
       "    }\n",
       "\n",
       "    .dataframe thead th {\n",
       "        text-align: right;\n",
       "    }\n",
       "</style>\n",
       "<table border=\"1\" class=\"dataframe\">\n",
       "  <thead>\n",
       "    <tr style=\"text-align: right;\">\n",
       "      <th></th>\n",
       "      <th>Unnamed: 0</th>\n",
       "      <th>event_name</th>\n",
       "      <th>fighter1</th>\n",
       "      <th>fighter2</th>\n",
       "      <th>outcome</th>\n",
       "      <th>win</th>\n",
       "      <th>loss</th>\n",
       "      <th>draw</th>\n",
       "      <th>no_contest</th>\n",
       "      <th>weight_f1</th>\n",
       "      <th>reach_f1</th>\n",
       "      <th>stance_f1</th>\n",
       "      <th>strikes_f1</th>\n",
       "      <th>strike_acc_f1</th>\n",
       "      <th>strikes_absorbed_f1</th>\n",
       "      <th>strike_defense_f1</th>\n",
       "      <th>takedowns_f1</th>\n",
       "      <th>takedown_acc_f1</th>\n",
       "      <th>takedown_def_f1</th>\n",
       "      <th>sub_attempt_f1</th>\n",
       "      <th>age_days_f1</th>\n",
       "      <th>age_f1</th>\n",
       "      <th>outcome_f1</th>\n",
       "      <th>height_in_f1</th>\n",
       "      <th>stance_Orthodox_f1</th>\n",
       "      <th>stance_Southpaw_f1</th>\n",
       "      <th>stance_Switch_f1</th>\n",
       "      <th>weight_f2</th>\n",
       "      <th>reach_f2</th>\n",
       "      <th>stance_f2</th>\n",
       "      <th>strikes_f2</th>\n",
       "      <th>strike_acc_f2</th>\n",
       "      <th>strikes_absorbed_f2</th>\n",
       "      <th>strike_defense_f2</th>\n",
       "      <th>takedowns_f2</th>\n",
       "      <th>takedown_acc_f2</th>\n",
       "      <th>takedown_def_f2</th>\n",
       "      <th>sub_attempt_f2</th>\n",
       "      <th>age_days_f2</th>\n",
       "      <th>age_f2</th>\n",
       "      <th>outcome_f2</th>\n",
       "      <th>height_in_f2</th>\n",
       "      <th>stance_Orthodox_f2</th>\n",
       "      <th>stance_Southpaw_f2</th>\n",
       "      <th>stance_Switch_f2</th>\n",
       "      <th>weight_diff</th>\n",
       "      <th>reach_diff</th>\n",
       "      <th>strike_diff</th>\n",
       "      <th>strike_acc_diff</th>\n",
       "      <th>strikes_absorbed_diff</th>\n",
       "      <th>strikes_defense_diff</th>\n",
       "      <th>takedown_attempts_diff</th>\n",
       "      <th>takedown_acc_diff</th>\n",
       "      <th>takedown_defense_diff</th>\n",
       "      <th>submission_attempt_diff</th>\n",
       "      <th>age_diff</th>\n",
       "      <th>height_diff</th>\n",
       "    </tr>\n",
       "  </thead>\n",
       "  <tbody>\n",
       "    <tr>\n",
       "      <th>8625</th>\n",
       "      <td>8625</td>\n",
       "      <td>UFC 112: Invincible</td>\n",
       "      <td>Terry Etim</td>\n",
       "      <td>Rafael Dos Anjos</td>\n",
       "      <td>fighter2</td>\n",
       "      <td>0</td>\n",
       "      <td>1</td>\n",
       "      <td>0</td>\n",
       "      <td>0</td>\n",
       "      <td>155.0</td>\n",
       "      <td>73.0</td>\n",
       "      <td>Orthodox</td>\n",
       "      <td>2.16</td>\n",
       "      <td>35</td>\n",
       "      <td>2.53</td>\n",
       "      <td>67</td>\n",
       "      <td>0.43</td>\n",
       "      <td>30</td>\n",
       "      <td>39</td>\n",
       "      <td>1.4</td>\n",
       "      <td>8855</td>\n",
       "      <td>24.0</td>\n",
       "      <td>fighter2</td>\n",
       "      <td>73</td>\n",
       "      <td>1</td>\n",
       "      <td>0</td>\n",
       "      <td>0</td>\n",
       "      <td>155.0</td>\n",
       "      <td>70.0</td>\n",
       "      <td>Southpaw</td>\n",
       "      <td>3.49</td>\n",
       "      <td>46</td>\n",
       "      <td>3.22</td>\n",
       "      <td>61</td>\n",
       "      <td>1.93</td>\n",
       "      <td>37</td>\n",
       "      <td>58</td>\n",
       "      <td>0.6</td>\n",
       "      <td>9297</td>\n",
       "      <td>25.0</td>\n",
       "      <td>fighter1</td>\n",
       "      <td>68</td>\n",
       "      <td>0</td>\n",
       "      <td>1</td>\n",
       "      <td>0</td>\n",
       "      <td>0.0</td>\n",
       "      <td>3.0</td>\n",
       "      <td>-1.33</td>\n",
       "      <td>-11.0</td>\n",
       "      <td>-0.69</td>\n",
       "      <td>6.0</td>\n",
       "      <td>-1.5</td>\n",
       "      <td>-7.0</td>\n",
       "      <td>-19.0</td>\n",
       "      <td>0.8</td>\n",
       "      <td>-442.0</td>\n",
       "      <td>5.0</td>\n",
       "    </tr>\n",
       "  </tbody>\n",
       "</table>\n",
       "</div>"
      ],
      "text/plain": [
       "      Unnamed: 0           event_name    fighter1          fighter2   outcome  \\\n",
       "8625        8625  UFC 112: Invincible  Terry Etim  Rafael Dos Anjos  fighter2   \n",
       "\n",
       "      win  loss  draw  no_contest  weight_f1  reach_f1 stance_f1  strikes_f1  \\\n",
       "8625    0     1     0           0      155.0      73.0  Orthodox        2.16   \n",
       "\n",
       "      strike_acc_f1  strikes_absorbed_f1  strike_defense_f1  takedowns_f1  \\\n",
       "8625             35                 2.53                 67          0.43   \n",
       "\n",
       "      takedown_acc_f1  takedown_def_f1  sub_attempt_f1  age_days_f1  age_f1  \\\n",
       "8625               30               39             1.4         8855    24.0   \n",
       "\n",
       "     outcome_f1  height_in_f1  stance_Orthodox_f1  stance_Southpaw_f1  \\\n",
       "8625   fighter2            73                   1                   0   \n",
       "\n",
       "      stance_Switch_f1  weight_f2  reach_f2 stance_f2  strikes_f2  \\\n",
       "8625                 0      155.0      70.0  Southpaw        3.49   \n",
       "\n",
       "      strike_acc_f2  strikes_absorbed_f2  strike_defense_f2  takedowns_f2  \\\n",
       "8625             46                 3.22                 61          1.93   \n",
       "\n",
       "      takedown_acc_f2  takedown_def_f2  sub_attempt_f2  age_days_f2  age_f2  \\\n",
       "8625               37               58             0.6         9297    25.0   \n",
       "\n",
       "     outcome_f2  height_in_f2  stance_Orthodox_f2  stance_Southpaw_f2  \\\n",
       "8625   fighter1            68                   0                   1   \n",
       "\n",
       "      stance_Switch_f2  weight_diff  reach_diff  strike_diff  strike_acc_diff  \\\n",
       "8625                 0          0.0         3.0        -1.33            -11.0   \n",
       "\n",
       "      strikes_absorbed_diff  strikes_defense_diff  takedown_attempts_diff  \\\n",
       "8625                  -0.69                   6.0                    -1.5   \n",
       "\n",
       "      takedown_acc_diff  takedown_defense_diff  submission_attempt_diff  \\\n",
       "8625               -7.0                  -19.0                      0.8   \n",
       "\n",
       "      age_diff  height_diff  \n",
       "8625    -442.0          5.0  "
      ]
     },
     "execution_count": 6,
     "metadata": {},
     "output_type": "execute_result"
    }
   ],
   "source": [
    "train.head(1)"
   ]
  },
  {
   "cell_type": "code",
   "execution_count": 7,
   "id": "9de2f8c1",
   "metadata": {},
   "outputs": [],
   "source": [
    "# add numeric columns to df \n",
    "df_num = train.select_dtypes(include='int64')"
   ]
  },
  {
   "cell_type": "code",
   "execution_count": 8,
   "id": "5a6187c5",
   "metadata": {},
   "outputs": [
    {
     "data": {
      "text/html": [
       "<div>\n",
       "<style scoped>\n",
       "    .dataframe tbody tr th:only-of-type {\n",
       "        vertical-align: middle;\n",
       "    }\n",
       "\n",
       "    .dataframe tbody tr th {\n",
       "        vertical-align: top;\n",
       "    }\n",
       "\n",
       "    .dataframe thead th {\n",
       "        text-align: right;\n",
       "    }\n",
       "</style>\n",
       "<table border=\"1\" class=\"dataframe\">\n",
       "  <thead>\n",
       "    <tr style=\"text-align: right;\">\n",
       "      <th></th>\n",
       "      <th>Unnamed: 0</th>\n",
       "      <th>win</th>\n",
       "      <th>loss</th>\n",
       "      <th>draw</th>\n",
       "      <th>no_contest</th>\n",
       "      <th>strike_acc_f1</th>\n",
       "      <th>strike_defense_f1</th>\n",
       "      <th>takedown_acc_f1</th>\n",
       "      <th>takedown_def_f1</th>\n",
       "      <th>age_days_f1</th>\n",
       "      <th>height_in_f1</th>\n",
       "      <th>stance_Orthodox_f1</th>\n",
       "      <th>stance_Southpaw_f1</th>\n",
       "      <th>stance_Switch_f1</th>\n",
       "      <th>strike_acc_f2</th>\n",
       "      <th>strike_defense_f2</th>\n",
       "      <th>takedown_acc_f2</th>\n",
       "      <th>takedown_def_f2</th>\n",
       "      <th>age_days_f2</th>\n",
       "      <th>height_in_f2</th>\n",
       "      <th>stance_Orthodox_f2</th>\n",
       "      <th>stance_Southpaw_f2</th>\n",
       "      <th>stance_Switch_f2</th>\n",
       "    </tr>\n",
       "  </thead>\n",
       "  <tbody>\n",
       "    <tr>\n",
       "      <th>8625</th>\n",
       "      <td>8625</td>\n",
       "      <td>0</td>\n",
       "      <td>1</td>\n",
       "      <td>0</td>\n",
       "      <td>0</td>\n",
       "      <td>35</td>\n",
       "      <td>67</td>\n",
       "      <td>30</td>\n",
       "      <td>39</td>\n",
       "      <td>8855</td>\n",
       "      <td>73</td>\n",
       "      <td>1</td>\n",
       "      <td>0</td>\n",
       "      <td>0</td>\n",
       "      <td>46</td>\n",
       "      <td>61</td>\n",
       "      <td>37</td>\n",
       "      <td>58</td>\n",
       "      <td>9297</td>\n",
       "      <td>68</td>\n",
       "      <td>0</td>\n",
       "      <td>1</td>\n",
       "      <td>0</td>\n",
       "    </tr>\n",
       "  </tbody>\n",
       "</table>\n",
       "</div>"
      ],
      "text/plain": [
       "      Unnamed: 0  win  loss  draw  no_contest  strike_acc_f1  \\\n",
       "8625        8625    0     1     0           0             35   \n",
       "\n",
       "      strike_defense_f1  takedown_acc_f1  takedown_def_f1  age_days_f1  \\\n",
       "8625                 67               30               39         8855   \n",
       "\n",
       "      height_in_f1  stance_Orthodox_f1  stance_Southpaw_f1  stance_Switch_f1  \\\n",
       "8625            73                   1                   0                 0   \n",
       "\n",
       "      strike_acc_f2  strike_defense_f2  takedown_acc_f2  takedown_def_f2  \\\n",
       "8625             46                 61               37               58   \n",
       "\n",
       "      age_days_f2  height_in_f2  stance_Orthodox_f2  stance_Southpaw_f2  \\\n",
       "8625         9297            68                   0                   1   \n",
       "\n",
       "      stance_Switch_f2  \n",
       "8625                 0  "
      ]
     },
     "execution_count": 8,
     "metadata": {},
     "output_type": "execute_result"
    }
   ],
   "source": [
    "df_num.head(1)"
   ]
  },
  {
   "cell_type": "code",
   "execution_count": 9,
   "id": "3fcd367d",
   "metadata": {},
   "outputs": [
    {
     "data": {
      "image/png": "[encoded data removed]",
      "text/plain": [
       "<Figure size 576x864 with 2 Axes>"
      ]
     },
     "metadata": {
      "needs_background": "light"
     },
     "output_type": "display_data"
    }
   ],
   "source": [
    "# heatmap of how the different values correlate to fighter1 winning\n",
    "plt.figure(figsize=(8, 12))\n",
    "heatmap = sns.heatmap(df_num.corr()[['win']].sort_values(by='win', ascending=False), vmin=-1, vmax=1, annot=True, cmap='cubehelix_r')\n",
    "heatmap.set_title('Features Correlating with Winning', fontdict={'fontsize':18}, pad=16);"
   ]
  },
  {
   "cell_type": "markdown",
   "id": "82000da5",
   "metadata": {},
   "source": [
    "Stats Testing:\n"
   ]
  },
  {
   "cell_type": "markdown",
   "id": "825083db",
   "metadata": {},
   "source": [
    "##### I will use stats testing to confirm the correlation between strikes_defense_diff and winning. "
   ]
  },
  {
   "cell_type": "markdown",
   "id": "e3fe09b4",
   "metadata": {},
   "source": [
    "Levene's Test: tests whether the four means that have been taken from sample populations that have equal variance\n",
    "\n",
    "Null Hypothesis: There is no difference in strike defense variance between the four samples\n",
    "\n",
    "Alternaive Hypothesis:  There is a difference in strike defense variance between the four samples"
   ]
  },
  {
   "cell_type": "code",
   "execution_count": 10,
   "id": "5081dc1c",
   "metadata": {},
   "outputs": [
    {
     "data": {
      "text/plain": [
       "LeveneResult(statistic=0.7258354436935065, pvalue=0.536440230089227)"
      ]
     },
     "execution_count": 10,
     "metadata": {},
     "output_type": "execute_result"
    }
   ],
   "source": [
    "stats.levene(\n",
    "    train[train.outcome == \"fighter1\"].strikes_defense_diff,\n",
    "    train[train.outcome == \"fighter2\"].strikes_defense_diff,\n",
    "    train[train.outcome == \"draw\"].strikes_defense_diff,\n",
    "    train[train.outcome == \"no_contest\"].strikes_defense_diff,\n",
    ")"
   ]
  },
  {
   "cell_type": "markdown",
   "id": "c210e9e1",
   "metadata": {},
   "source": [
    "A high P value, means we fail to reject the null hypothesis, that there is no difference in strike defense variance between the four samples."
   ]
  },
  {
   "cell_type": "markdown",
   "id": "5e9d6b90",
   "metadata": {},
   "source": [
    "Because we can assume equal variance we can use a f_oneway ANOVA test."
   ]
  },
  {
   "cell_type": "markdown",
   "id": "24d72e65",
   "metadata": {},
   "source": [
    "An ANOVA test is used because I am comparing one continuous variable anoung multiple categorical values. "
   ]
  },
  {
   "cell_type": "code",
   "execution_count": 11,
   "id": "f7af4956",
   "metadata": {},
   "outputs": [],
   "source": [
    "null_hypothesis = \"Average strike defense is the same for all outcomes\"\n",
    "alternative_hypothesis = \"Average strike defense is different for all outcomes\"\n",
    "alpha = 0.05 # Let's be 95% certain the result we see isn't due to chance/randomness"
   ]
  },
  {
   "cell_type": "code",
   "execution_count": 12,
   "id": "71fb1c62",
   "metadata": {},
   "outputs": [],
   "source": [
    "# Let's isolate out the strike defense by outcome\n",
    "fighter1_strike_d = train[train.outcome == \"fighter1\"].strikes_defense_diff\n",
    "fighter2_strike_d = train[train.outcome == \"fighter2\"].strikes_defense_diff\n",
    "draw_strike_d = train[train.outcome == \"draw\"].strikes_defense_diff\n",
    "no_contest_strike_d = train[train.outcome == \"no_contest\"].strikes_defense_diff\n"
   ]
  },
  {
   "cell_type": "code",
   "execution_count": 13,
   "id": "d74f680d",
   "metadata": {},
   "outputs": [
    {
     "data": {
      "text/plain": [
       "7.889634999402037e-37"
      ]
     },
     "execution_count": 13,
     "metadata": {},
     "output_type": "execute_result"
    }
   ],
   "source": [
    "# f_oneway is our ANOVA test\n",
    "# See https://docs.scipy.org/doc/scipy/reference/generated/scipy.stats.f_oneway.html for more info\n",
    "from scipy.stats import f_oneway\n",
    "\n",
    "f, p = f_oneway(fighter1_strike_d, fighter2_strike_d, draw_strike_d, no_contest_strike_d)\n",
    "p"
   ]
  },
  {
   "cell_type": "code",
   "execution_count": 14,
   "id": "a58d39cb",
   "metadata": {},
   "outputs": [
    {
     "name": "stdout",
     "output_type": "stream",
     "text": [
      "We reject the null hypothesis that Average strike defense is the same for all outcomes\n",
      "We move forward with the alternative hypothesis that Average strike defense is different for all outcomes\n"
     ]
    }
   ],
   "source": [
    "if p < alpha:\n",
    "    print(\"We reject the null hypothesis that\", null_hypothesis)\n",
    "    print(\"We move forward with the alternative hypothesis that\", alternative_hypothesis)\n",
    "else:\n",
    "    print(\"We fail to reject the null hypothesis\")\n",
    "    print(\"Evidence does not support the claim that average strike defense is different for all outcomes\")"
   ]
  },
  {
   "cell_type": "code",
   "execution_count": 15,
   "id": "6beff748",
   "metadata": {},
   "outputs": [
    {
     "data": {
      "text/plain": [
       "MannwhitneyuResult(statistic=4106314.5, pvalue=7.101738632157293e-35)"
      ]
     },
     "execution_count": 15,
     "metadata": {},
     "output_type": "execute_result"
    }
   ],
   "source": [
    "# testing is fighter1 winning has a greater strike defense average than when fighter2 wins\n",
    "stats.mannwhitneyu(train[train.outcome == \"fighter1\"].strikes_defense_diff,\n",
    "                   train[train.outcome == \"fighter2\"].strikes_defense_diff,\n",
    "                   alternative ='greater')"
   ]
  },
  {
   "cell_type": "markdown",
   "id": "8d281d72",
   "metadata": {},
   "source": [
    "Conclusion from mannwhitneyu test:  fighter1 winning has a greater strike defense average than when fighter2 wins"
   ]
  },
  {
   "cell_type": "markdown",
   "id": "252a4ead",
   "metadata": {},
   "source": [
    "##### I will use stats testing to confirm the correlation between takedown_defense_diff and winning. "
   ]
  },
  {
   "cell_type": "code",
   "execution_count": 16,
   "id": "aebd12fc",
   "metadata": {},
   "outputs": [
    {
     "data": {
      "text/plain": [
       "LeveneResult(statistic=0.49396605158263257, pvalue=0.6864700143264336)"
      ]
     },
     "execution_count": 16,
     "metadata": {},
     "output_type": "execute_result"
    }
   ],
   "source": [
    "stats.levene(\n",
    "    train[train.outcome == \"fighter1\"].takedown_defense_diff,\n",
    "    train[train.outcome == \"fighter2\"].takedown_defense_diff,\n",
    "    train[train.outcome == \"draw\"].takedown_defense_diff,\n",
    "    train[train.outcome == \"no_contest\"].takedown_defense_diff,\n",
    ")"
   ]
  },
  {
   "cell_type": "markdown",
   "id": "0ad97730",
   "metadata": {},
   "source": [
    "A high P value, means we fail to reject the null hypothesis, that there is no difference in takedown defense variance between the four samples."
   ]
  },
  {
   "cell_type": "markdown",
   "id": "e8b3d95f",
   "metadata": {},
   "source": [
    "#### How does Colby Covington and Jorge Masvidal's stats compare to the vlues with the highest correlation to winning?"
   ]
  },
  {
   "cell_type": "markdown",
   "id": "19638f2d",
   "metadata": {},
   "source": [
    "I will be looking at Colby and Jorge's stats from the last 10 fights to see how they compare to vlues with the highest correlation to winning."
   ]
  },
  {
   "cell_type": "code",
   "execution_count": 17,
   "id": "73ea6631",
   "metadata": {},
   "outputs": [],
   "source": [
    "colby_diff = get_colby()"
   ]
  },
  {
   "cell_type": "code",
   "execution_count": 18,
   "id": "a73e842c",
   "metadata": {},
   "outputs": [
    {
     "data": {
      "text/html": [
       "<div>\n",
       "<style scoped>\n",
       "    .dataframe tbody tr th:only-of-type {\n",
       "        vertical-align: middle;\n",
       "    }\n",
       "\n",
       "    .dataframe tbody tr th {\n",
       "        vertical-align: top;\n",
       "    }\n",
       "\n",
       "    .dataframe thead th {\n",
       "        text-align: right;\n",
       "    }\n",
       "</style>\n",
       "<table border=\"1\" class=\"dataframe\">\n",
       "  <thead>\n",
       "    <tr style=\"text-align: right;\">\n",
       "      <th></th>\n",
       "      <th>event_name</th>\n",
       "      <th>fighter1</th>\n",
       "      <th>fighter2</th>\n",
       "      <th>outcome</th>\n",
       "      <th>stance_f1</th>\n",
       "      <th>stance_f2</th>\n",
       "      <th>weight_diff</th>\n",
       "      <th>reach_diff</th>\n",
       "      <th>strike_diff</th>\n",
       "      <th>strike_acc_diff</th>\n",
       "      <th>strikes_absorbed_diff</th>\n",
       "      <th>strikes_defense_diff</th>\n",
       "      <th>takedown_attempts_diff</th>\n",
       "      <th>takedown_acc_diff</th>\n",
       "      <th>takedown_defense_diff</th>\n",
       "      <th>submission_attempt_diff</th>\n",
       "      <th>age_diff</th>\n",
       "      <th>height_diff</th>\n",
       "    </tr>\n",
       "  </thead>\n",
       "  <tbody>\n",
       "    <tr>\n",
       "      <th>0</th>\n",
       "      <td>UFC 268: Usman vs. Covington 2</td>\n",
       "      <td>Colby Covington</td>\n",
       "      <td>Kamaru Usman</td>\n",
       "      <td>loss</td>\n",
       "      <td>Orthodox</td>\n",
       "      <td>Switch</td>\n",
       "      <td>0</td>\n",
       "      <td>-4</td>\n",
       "      <td>-0.51</td>\n",
       "      <td>-16</td>\n",
       "      <td>0.46</td>\n",
       "      <td>-2</td>\n",
       "      <td>1.34</td>\n",
       "      <td>2</td>\n",
       "      <td>-25</td>\n",
       "      <td>0.0</td>\n",
       "      <td>-287.0</td>\n",
       "      <td>-1</td>\n",
       "    </tr>\n",
       "  </tbody>\n",
       "</table>\n",
       "</div>"
      ],
      "text/plain": [
       "                       event_name         fighter1      fighter2 outcome  \\\n",
       "0  UFC 268: Usman vs. Covington 2  Colby Covington  Kamaru Usman    loss   \n",
       "\n",
       "  stance_f1 stance_f2  weight_diff  reach_diff  strike_diff  strike_acc_diff  \\\n",
       "0  Orthodox    Switch            0          -4        -0.51              -16   \n",
       "\n",
       "   strikes_absorbed_diff  strikes_defense_diff  takedown_attempts_diff  \\\n",
       "0                   0.46                    -2                    1.34   \n",
       "\n",
       "   takedown_acc_diff  takedown_defense_diff  submission_attempt_diff  \\\n",
       "0                  2                    -25                      0.0   \n",
       "\n",
       "   age_diff  height_diff  \n",
       "0    -287.0           -1  "
      ]
     },
     "execution_count": 18,
     "metadata": {},
     "output_type": "execute_result"
    }
   ],
   "source": [
    "colby_diff.head(1)"
   ]
  },
  {
   "cell_type": "code",
   "execution_count": 19,
   "id": "c9471bb3",
   "metadata": {},
   "outputs": [],
   "source": [
    "jorge_diff = get_jorge()"
   ]
  },
  {
   "cell_type": "code",
   "execution_count": 20,
   "id": "01d0f7b7",
   "metadata": {},
   "outputs": [
    {
     "data": {
      "text/html": [
       "<div>\n",
       "<style scoped>\n",
       "    .dataframe tbody tr th:only-of-type {\n",
       "        vertical-align: middle;\n",
       "    }\n",
       "\n",
       "    .dataframe tbody tr th {\n",
       "        vertical-align: top;\n",
       "    }\n",
       "\n",
       "    .dataframe thead th {\n",
       "        text-align: right;\n",
       "    }\n",
       "</style>\n",
       "<table border=\"1\" class=\"dataframe\">\n",
       "  <thead>\n",
       "    <tr style=\"text-align: right;\">\n",
       "      <th></th>\n",
       "      <th>event_name</th>\n",
       "      <th>fighter1</th>\n",
       "      <th>fighter2</th>\n",
       "      <th>outcome</th>\n",
       "      <th>stance_f1</th>\n",
       "      <th>stance_f2</th>\n",
       "      <th>weight_diff</th>\n",
       "      <th>reach_diff</th>\n",
       "      <th>strike_diff</th>\n",
       "      <th>strike_acc_diff</th>\n",
       "      <th>strikes_absorbed_diff</th>\n",
       "      <th>strikes_defense_diff</th>\n",
       "      <th>takedown_attempts_diff</th>\n",
       "      <th>takedown_acc_diff</th>\n",
       "      <th>takedown_defense_diff</th>\n",
       "      <th>submission_attempt_diff</th>\n",
       "      <th>age_diff</th>\n",
       "      <th>height_diff</th>\n",
       "    </tr>\n",
       "  </thead>\n",
       "  <tbody>\n",
       "    <tr>\n",
       "      <th>0</th>\n",
       "      <td>UFC 261: Usman vs. Masvidal 2</td>\n",
       "      <td>Jorge Masvidal</td>\n",
       "      <td>Kamaru Usman</td>\n",
       "      <td>loss</td>\n",
       "      <td>Orthodox</td>\n",
       "      <td>Switch</td>\n",
       "      <td>0</td>\n",
       "      <td>-2</td>\n",
       "      <td>-0.41</td>\n",
       "      <td>-6</td>\n",
       "      <td>0.61</td>\n",
       "      <td>8</td>\n",
       "      <td>-1.73</td>\n",
       "      <td>11</td>\n",
       "      <td>-25</td>\n",
       "      <td>0.2</td>\n",
       "      <td>483</td>\n",
       "      <td>-1</td>\n",
       "    </tr>\n",
       "  </tbody>\n",
       "</table>\n",
       "</div>"
      ],
      "text/plain": [
       "                      event_name        fighter1      fighter2 outcome  \\\n",
       "0  UFC 261: Usman vs. Masvidal 2  Jorge Masvidal  Kamaru Usman    loss   \n",
       "\n",
       "  stance_f1 stance_f2  weight_diff  reach_diff  strike_diff  strike_acc_diff  \\\n",
       "0  Orthodox    Switch            0          -2        -0.41               -6   \n",
       "\n",
       "   strikes_absorbed_diff  strikes_defense_diff  takedown_attempts_diff  \\\n",
       "0                   0.61                     8                   -1.73   \n",
       "\n",
       "   takedown_acc_diff  takedown_defense_diff  submission_attempt_diff  \\\n",
       "0                 11                    -25                      0.2   \n",
       "\n",
       "   age_diff  height_diff  \n",
       "0       483           -1  "
      ]
     },
     "execution_count": 20,
     "metadata": {},
     "output_type": "execute_result"
    }
   ],
   "source": [
    "jorge_diff.head(1)"
   ]
  },
  {
   "cell_type": "code",
   "execution_count": 21,
   "id": "742a9db5",
   "metadata": {},
   "outputs": [
    {
     "data": {
      "image/png": "[encoded data removed]",
      "text/plain": [
       "<Figure size 432x288 with 1 Axes>"
      ]
     },
     "metadata": {
      "needs_background": "light"
     },
     "output_type": "display_data"
    }
   ],
   "source": [
    "sns.countplot(x=\"outcome\", data=colby_diff, palette=\"husl\");\n",
    "plt.title(\"Colby Covinvton has won 8 out of his last 10 fights.\")\n",
    "plt.show()"
   ]
  },
  {
   "cell_type": "code",
   "execution_count": 22,
   "id": "c60c6ba9",
   "metadata": {},
   "outputs": [
    {
     "data": {
      "image/png": "[encoded data removed]",
      "text/plain": [
       "<Figure size 432x288 with 1 Axes>"
      ]
     },
     "metadata": {
      "needs_background": "light"
     },
     "output_type": "display_data"
    }
   ],
   "source": [
    "sns.countplot(x=\"outcome\", data=jorge_diff, palette=\"husl\");\n",
    "plt.title(\"Jorge Masvidal has won 6 out of his last 10 fights.\")\n",
    "plt.show()"
   ]
  },
  {
   "cell_type": "code",
   "execution_count": 23,
   "id": "5c901475",
   "metadata": {},
   "outputs": [
    {
     "data": {
      "image/png": "[encoded data removed]",
      "text/plain": [
       "<Figure size 432x288 with 1 Axes>"
      ]
     },
     "metadata": {
      "needs_background": "light"
     },
     "output_type": "display_data"
    }
   ],
   "source": [
    "sns.countplot(x=\"strikes_defense_diff\", data=colby_diff, palette=\"husl\");\n",
    "plt.title(\"In his last 10 Fights Colby Covinvton Usually has Worse Strike Defense than his Opponent.\")\n",
    "plt.show()"
   ]
  },
  {
   "cell_type": "code",
   "execution_count": 24,
   "id": "70c20f70",
   "metadata": {},
   "outputs": [
    {
     "data": {
      "image/png": "[encoded data removed]",
      "text/plain": [
       "<Figure size 432x288 with 1 Axes>"
      ]
     },
     "metadata": {
      "needs_background": "light"
     },
     "output_type": "display_data"
    }
   ],
   "source": [
    "sns.countplot(x=\"strikes_defense_diff\", data=jorge_diff, palette=\"husl\");\n",
    "plt.title(\"In his last 10 Fights Jorge Masvidal Usually has Better Strike Defense than his Opponent.\")\n",
    "plt.show()"
   ]
  },
  {
   "cell_type": "code",
   "execution_count": 25,
   "id": "ec045b06",
   "metadata": {},
   "outputs": [
    {
     "data": {
      "image/png": "[encoded data removed]",
      "text/plain": [
       "<Figure size 432x288 with 1 Axes>"
      ]
     },
     "metadata": {
      "needs_background": "light"
     },
     "output_type": "display_data"
    }
   ],
   "source": [
    "sns.countplot(x=\"takedown_defense_diff\", data=colby_diff, palette=\"husl\");\n",
    "plt.title(\"In his last 10 Fights Colby Covinvton Usually has Better Takedown Defense than his Opponent.\")\n",
    "plt.show()"
   ]
  },
  {
   "cell_type": "code",
   "execution_count": 26,
   "id": "794d3c42",
   "metadata": {},
   "outputs": [
    {
     "data": {
      "image/png": "[encoded data removed]",
      "text/plain": [
       "<Figure size 432x288 with 1 Axes>"
      ]
     },
     "metadata": {
      "needs_background": "light"
     },
     "output_type": "display_data"
    }
   ],
   "source": [
    "sns.countplot(x=\"takedown_defense_diff\", data=jorge_diff, palette=\"husl\");\n",
    "plt.title(\"In his last 10 Fights Jorge Masvidal has the Takedown Defense Advantage as Often as his Opponent.\")\n",
    "plt.show()"
   ]
  },
  {
   "cell_type": "code",
   "execution_count": 27,
   "id": "0a29603e",
   "metadata": {},
   "outputs": [
    {
     "data": {
      "image/png": "[encoded data removed]",
      "text/plain": [
       "<Figure size 432x288 with 1 Axes>"
      ]
     },
     "metadata": {
      "needs_background": "light"
     },
     "output_type": "display_data"
    }
   ],
   "source": [
    "sns.countplot(x=\"strike_acc_diff\", data=colby_diff, palette=\"husl\");\n",
    "plt.title(\"In his last 10 Fights Colby Covinvton Always has Worse Strike Accuracy than his Opponent.\")\n",
    "plt.show()"
   ]
  },
  {
   "cell_type": "code",
   "execution_count": 28,
   "id": "7e34dbf1",
   "metadata": {},
   "outputs": [
    {
     "data": {
      "image/png": "[encoded data removed]",
      "text/plain": [
       "<Figure size 432x288 with 1 Axes>"
      ]
     },
     "metadata": {
      "needs_background": "light"
     },
     "output_type": "display_data"
    }
   ],
   "source": [
    "sns.countplot(x=\"strike_acc_diff\", data=jorge_diff, palette=\"husl\");\n",
    "plt.title(\"In his last 10 Fights Jorge Masvidal Usually has Better Strike Accuracy than his Opponent.\")\n",
    "plt.show()"
   ]
  },
  {
   "cell_type": "code",
   "execution_count": 29,
   "id": "8eb75d10",
   "metadata": {},
   "outputs": [
    {
     "data": {
      "image/png": "[encoded data removed]",
      "text/plain": [
       "<Figure size 432x288 with 1 Axes>"
      ]
     },
     "metadata": {
      "needs_background": "light"
     },
     "output_type": "display_data"
    }
   ],
   "source": [
    "sns.countplot(x=\"age_diff\", data=colby_diff, palette=\"husl\");\n",
    "plt.title(\"In his last 10 Fights Colby Covinvton Usually Younger than his Opponent.\")\n",
    "plt.show()"
   ]
  },
  {
   "cell_type": "code",
   "execution_count": 30,
   "id": "d9c331fb",
   "metadata": {},
   "outputs": [
    {
     "data": {
      "image/png": "[encoded data removed]",
      "text/plain": [
       "<Figure size 432x288 with 1 Axes>"
      ]
     },
     "metadata": {
      "needs_background": "light"
     },
     "output_type": "display_data"
    }
   ],
   "source": [
    "sns.countplot(x=\"age_diff\", data=jorge_diff, palette=\"husl\");\n",
    "plt.title(\"In his last 10 Fights Jorge Masvidal was Younger than his Opponent 50%.\")\n",
    "plt.show()"
   ]
  },
  {
   "cell_type": "code",
   "execution_count": 31,
   "id": "3410ca06",
   "metadata": {},
   "outputs": [
    {
     "data": {
      "image/png": "[encoded data removed]",
      "text/plain": [
       "<Figure size 432x288 with 1 Axes>"
      ]
     },
     "metadata": {
      "needs_background": "light"
     },
     "output_type": "display_data"
    }
   ],
   "source": [
    "sns.countplot(x=\"takedown_defense_diff\", data=colby_diff, palette=\"husl\");\n",
    "plt.title(\"In his last 10 Fights Colby Covinvton Usually has Better Takedown Accuracy than his Opponent.\")\n",
    "plt.show()"
   ]
  },
  {
   "cell_type": "code",
   "execution_count": 32,
   "id": "2c646104",
   "metadata": {},
   "outputs": [
    {
     "data": {
      "image/png": "[encoded data removed]",
      "text/plain": [
       "<Figure size 432x288 with 1 Axes>"
      ]
     },
     "metadata": {
      "needs_background": "light"
     },
     "output_type": "display_data"
    }
   ],
   "source": [
    "sns.countplot(x=\"takedown_defense_diff\", data=jorge_diff, palette=\"husl\");\n",
    "plt.title(\"In his last 10 Fights Jorge Masvidal has the Takedown Accuracy Advantage as Often as his Opponent.\")\n",
    "plt.show()"
   ]
  },
  {
   "cell_type": "code",
   "execution_count": 33,
   "id": "d756570b",
   "metadata": {},
   "outputs": [],
   "source": [
    "colby_vs_jorge_diff = get_colby_vs_jorge()"
   ]
  },
  {
   "cell_type": "code",
   "execution_count": 34,
   "id": "fdc771b7",
   "metadata": {},
   "outputs": [],
   "source": [
    "# Create df with desired difference columns\n",
    "colby_vs_jorge_features = colby_vs_jorge_diff[['strike_acc_diff', 'strikes_defense_diff', 'takedown_acc_diff', 'takedown_defense_diff', 'age_diff']].copy(0)\n",
    "    "
   ]
  },
  {
   "cell_type": "code",
   "execution_count": 35,
   "id": "f88daea0",
   "metadata": {},
   "outputs": [
    {
     "data": {
      "text/html": [
       "<div>\n",
       "<style scoped>\n",
       "    .dataframe tbody tr th:only-of-type {\n",
       "        vertical-align: middle;\n",
       "    }\n",
       "\n",
       "    .dataframe tbody tr th {\n",
       "        vertical-align: top;\n",
       "    }\n",
       "\n",
       "    .dataframe thead th {\n",
       "        text-align: right;\n",
       "    }\n",
       "</style>\n",
       "<table border=\"1\" class=\"dataframe\">\n",
       "  <thead>\n",
       "    <tr style=\"text-align: right;\">\n",
       "      <th></th>\n",
       "      <th>strike_acc_diff</th>\n",
       "      <th>strikes_defense_diff</th>\n",
       "      <th>takedown_acc_diff</th>\n",
       "      <th>takedown_defense_diff</th>\n",
       "      <th>age_diff</th>\n",
       "    </tr>\n",
       "  </thead>\n",
       "  <tbody>\n",
       "    <tr>\n",
       "      <th>0</th>\n",
       "      <td>-10</td>\n",
       "      <td>-10</td>\n",
       "      <td>-9</td>\n",
       "      <td>0</td>\n",
       "      <td>-1197</td>\n",
       "    </tr>\n",
       "  </tbody>\n",
       "</table>\n",
       "</div>"
      ],
      "text/plain": [
       "   strike_acc_diff  strikes_defense_diff  takedown_acc_diff  \\\n",
       "0              -10                   -10                 -9   \n",
       "\n",
       "   takedown_defense_diff  age_diff  \n",
       "0                      0     -1197  "
      ]
     },
     "execution_count": 35,
     "metadata": {},
     "output_type": "execute_result"
    }
   ],
   "source": [
    "colby_vs_jorge_features"
   ]
  },
  {
   "cell_type": "markdown",
   "id": "643efae9",
   "metadata": {},
   "source": [
    "From looking at this comparison we can expect that Jorge Masvidal would have a better chance of winning thatn colby. "
   ]
  },
  {
   "cell_type": "markdown",
   "id": "42578e66",
   "metadata": {},
   "source": [
    "#### Features to move forward with : "
   ]
  },
  {
   "cell_type": "markdown",
   "id": "91f38c91",
   "metadata": {},
   "source": [
    "- strikes_defense_diff\n",
    "- takedown_defense_diff\n",
    "- strike_acc_diff \n",
    "- age_diff\n",
    "- takedown_acc_diff"
   ]
  },
  {
   "cell_type": "markdown",
   "id": "7de054a9",
   "metadata": {},
   "source": [
    "### Modeling "
   ]
  },
  {
   "cell_type": "markdown",
   "id": "fbc4780c",
   "metadata": {},
   "source": [
    "I used three different classification models from sklearn than can handle multilabel classification since my target value is outcome: fighter1, fighter2, draw, no_contest. To see all of the models I created go to Model_UFC in my Github repository. "
   ]
  },
  {
   "cell_type": "markdown",
   "id": "47d4c9be",
   "metadata": {},
   "source": [
    "#### Scale the Data"
   ]
  },
  {
   "cell_type": "markdown",
   "id": "46eaa772",
   "metadata": {},
   "source": [
    "Split the fighter_stat_diff df to model on."
   ]
  },
  {
   "cell_type": "code",
   "execution_count": 49,
   "id": "a6a98141",
   "metadata": {},
   "outputs": [],
   "source": [
    "# use function from Wrangle_UFC to split into trin, validate, test\n",
    "train, validate, test = train_validate_test_split(fighter_stat_diff)"
   ]
  },
  {
   "cell_type": "code",
   "execution_count": 50,
   "id": "38140313",
   "metadata": {},
   "outputs": [],
   "source": [
    "# use function from Wrangle_UFC to split data into X and y variables\n",
    "train, validate, test, X_train, y_train, X_validate, y_validate, X_test, y_test = split_tvt_into_variables(train, validate, test, target='outcome')"
   ]
  },
  {
   "cell_type": "code",
   "execution_count": 51,
   "id": "dd200e9f",
   "metadata": {},
   "outputs": [
    {
     "data": {
      "text/html": [
       "<div>\n",
       "<style scoped>\n",
       "    .dataframe tbody tr th:only-of-type {\n",
       "        vertical-align: middle;\n",
       "    }\n",
       "\n",
       "    .dataframe tbody tr th {\n",
       "        vertical-align: top;\n",
       "    }\n",
       "\n",
       "    .dataframe thead th {\n",
       "        text-align: right;\n",
       "    }\n",
       "</style>\n",
       "<table border=\"1\" class=\"dataframe\">\n",
       "  <thead>\n",
       "    <tr style=\"text-align: right;\">\n",
       "      <th></th>\n",
       "      <th>weight_diff</th>\n",
       "      <th>reach_diff</th>\n",
       "      <th>strike_diff</th>\n",
       "      <th>strike_acc_diff</th>\n",
       "      <th>strikes_absorbed_diff</th>\n",
       "      <th>strikes_defense_diff</th>\n",
       "      <th>takedown_attempts_diff</th>\n",
       "      <th>takedown_acc_diff</th>\n",
       "      <th>takedown_defense_diff</th>\n",
       "      <th>submission_attempt_diff</th>\n",
       "      <th>age_diff</th>\n",
       "      <th>height_diff</th>\n",
       "    </tr>\n",
       "  </thead>\n",
       "  <tbody>\n",
       "    <tr>\n",
       "      <th>8625</th>\n",
       "      <td>0.0</td>\n",
       "      <td>3.0</td>\n",
       "      <td>-1.33</td>\n",
       "      <td>-11.0</td>\n",
       "      <td>-0.69</td>\n",
       "      <td>6.0</td>\n",
       "      <td>-1.5</td>\n",
       "      <td>-7.0</td>\n",
       "      <td>-19.0</td>\n",
       "      <td>0.8</td>\n",
       "      <td>-442.0</td>\n",
       "      <td>5.0</td>\n",
       "    </tr>\n",
       "  </tbody>\n",
       "</table>\n",
       "</div>"
      ],
      "text/plain": [
       "      weight_diff  reach_diff  strike_diff  strike_acc_diff  \\\n",
       "8625          0.0         3.0        -1.33            -11.0   \n",
       "\n",
       "      strikes_absorbed_diff  strikes_defense_diff  takedown_attempts_diff  \\\n",
       "8625                  -0.69                   6.0                    -1.5   \n",
       "\n",
       "      takedown_acc_diff  takedown_defense_diff  submission_attempt_diff  \\\n",
       "8625               -7.0                  -19.0                      0.8   \n",
       "\n",
       "      age_diff  height_diff  \n",
       "8625    -442.0          5.0  "
      ]
     },
     "execution_count": 51,
     "metadata": {},
     "output_type": "execute_result"
    }
   ],
   "source": [
    "X_train.head(1)"
   ]
  },
  {
   "cell_type": "code",
   "execution_count": 52,
   "id": "96400b8d",
   "metadata": {},
   "outputs": [],
   "source": [
    "# use function from Wrangle_UFC to scale the data\n",
    "scaler, X_train_scaled, X_validate_scaled, X_test_scaled = Min_Max_Scaler(X_train, X_validate, X_test)"
   ]
  },
  {
   "cell_type": "code",
   "execution_count": 47,
   "id": "c2bac237",
   "metadata": {},
   "outputs": [
    {
     "data": {
      "text/html": [
       "<div>\n",
       "<style scoped>\n",
       "    .dataframe tbody tr th:only-of-type {\n",
       "        vertical-align: middle;\n",
       "    }\n",
       "\n",
       "    .dataframe tbody tr th {\n",
       "        vertical-align: top;\n",
       "    }\n",
       "\n",
       "    .dataframe thead th {\n",
       "        text-align: right;\n",
       "    }\n",
       "</style>\n",
       "<table border=\"1\" class=\"dataframe\">\n",
       "  <thead>\n",
       "    <tr style=\"text-align: right;\">\n",
       "      <th></th>\n",
       "      <th>weight_diff</th>\n",
       "      <th>reach_diff</th>\n",
       "      <th>strike_diff</th>\n",
       "      <th>strike_acc_diff</th>\n",
       "      <th>strikes_absorbed_diff</th>\n",
       "      <th>strikes_defense_diff</th>\n",
       "      <th>takedown_attempts_diff</th>\n",
       "      <th>takedown_acc_diff</th>\n",
       "      <th>takedown_defense_diff</th>\n",
       "      <th>submission_attempt_diff</th>\n",
       "      <th>age_diff</th>\n",
       "      <th>height_diff</th>\n",
       "    </tr>\n",
       "  </thead>\n",
       "  <tbody>\n",
       "    <tr>\n",
       "      <th>8625</th>\n",
       "      <td>0.516129</td>\n",
       "      <td>0.615385</td>\n",
       "      <td>0.464444</td>\n",
       "      <td>0.363636</td>\n",
       "      <td>0.481659</td>\n",
       "      <td>0.566667</td>\n",
       "      <td>0.430939</td>\n",
       "      <td>0.465</td>\n",
       "      <td>0.405</td>\n",
       "      <td>0.554795</td>\n",
       "      <td>0.464216</td>\n",
       "      <td>0.692308</td>\n",
       "    </tr>\n",
       "  </tbody>\n",
       "</table>\n",
       "</div>"
      ],
      "text/plain": [
       "      weight_diff  reach_diff  strike_diff  strike_acc_diff  \\\n",
       "8625     0.516129    0.615385     0.464444         0.363636   \n",
       "\n",
       "      strikes_absorbed_diff  strikes_defense_diff  takedown_attempts_diff  \\\n",
       "8625               0.481659              0.566667                0.430939   \n",
       "\n",
       "      takedown_acc_diff  takedown_defense_diff  submission_attempt_diff  \\\n",
       "8625              0.465                  0.405                 0.554795   \n",
       "\n",
       "      age_diff  height_diff  \n",
       "8625  0.464216     0.692308  "
      ]
     },
     "execution_count": 47,
     "metadata": {},
     "output_type": "execute_result"
    }
   ],
   "source": [
    "X_train_scaled.head(1)"
   ]
  },
  {
   "cell_type": "markdown",
   "id": "a60db5ea",
   "metadata": {},
   "source": [
    "##### Create a Baseline"
   ]
  },
  {
   "cell_type": "code",
   "execution_count": 54,
   "id": "df347913",
   "metadata": {},
   "outputs": [
    {
     "data": {
      "text/plain": [
       "0    fighter1\n",
       "1    fighter2\n",
       "dtype: object"
      ]
     },
     "execution_count": 54,
     "metadata": {},
     "output_type": "execute_result"
    }
   ],
   "source": [
    "# baseline prediction = most common value\n",
    "baseline = y_train.mode()\n",
    "baseline"
   ]
  },
  {
   "cell_type": "markdown",
   "id": "8bb51c29",
   "metadata": {},
   "source": [
    "Fighter1 and Fighter2 win/lose an equal amount of times so I chose Fighter1. "
   ]
  },
  {
   "cell_type": "code",
   "execution_count": 55,
   "id": "a1f669a2",
   "metadata": {},
   "outputs": [],
   "source": [
    "match_bsl_prediction = y_train == 'fighter1'"
   ]
  },
  {
   "cell_type": "code",
   "execution_count": 56,
   "id": "f9168639",
   "metadata": {},
   "outputs": [],
   "source": [
    "baseline_accuracy = match_bsl_prediction.mean()"
   ]
  },
  {
   "cell_type": "code",
   "execution_count": 57,
   "id": "b17c6fce",
   "metadata": {},
   "outputs": [
    {
     "data": {
      "text/plain": [
       "0.492114156965828"
      ]
     },
     "execution_count": 57,
     "metadata": {},
     "output_type": "execute_result"
    }
   ],
   "source": [
    "baseline_accuracy"
   ]
  },
  {
   "cell_type": "markdown",
   "id": "979976e4",
   "metadata": {},
   "source": [
    "My basline accuracy is 49%."
   ]
  },
  {
   "cell_type": "markdown",
   "id": "6e68a7be",
   "metadata": {},
   "source": [
    "#### Random Forest Model"
   ]
  },
  {
   "cell_type": "markdown",
   "id": "8e824680",
   "metadata": {},
   "source": [
    "The random forest model with 10 minimum samples per leaf and a max depth of 6 was my best model with 64% accuracy on validate data. "
   ]
  },
  {
   "cell_type": "code",
   "execution_count": 59,
   "id": "77d42b0b",
   "metadata": {},
   "outputs": [],
   "source": [
    "# create model\n",
    "rf1_clf = RandomForestClassifier(max_depth=6, min_samples_leaf=10, random_state=123)  "
   ]
  },
  {
   "cell_type": "code",
   "execution_count": 60,
   "id": "8fd2ede9",
   "metadata": {},
   "outputs": [
    {
     "data": {
      "text/plain": [
       "RandomForestClassifier(max_depth=6, min_samples_leaf=10, random_state=123)"
      ]
     },
     "execution_count": 60,
     "metadata": {},
     "output_type": "execute_result"
    }
   ],
   "source": [
    "# fit model \n",
    "rf1_clf.fit(X_train, y_train)"
   ]
  },
  {
   "cell_type": "code",
   "execution_count": 61,
   "id": "a738c39d",
   "metadata": {},
   "outputs": [
    {
     "name": "stdout",
     "output_type": "stream",
     "text": [
      "[0.02026831 0.02326123 0.20800547 0.07423172 0.1797331  0.09480763\n",
      " 0.07494676 0.04768312 0.11470719 0.04278209 0.10113275 0.01844061]\n"
     ]
    }
   ],
   "source": [
    "# show feature importance\n",
    "print(rf1_clf.feature_importances_)"
   ]
  },
  {
   "cell_type": "code",
   "execution_count": 62,
   "id": "5e667e16",
   "metadata": {},
   "outputs": [
    {
     "data": {
      "text/plain": [
       "array(['fighter2', 'fighter2', 'fighter1', ..., 'fighter1', 'fighter1',\n",
       "       'fighter1'], dtype=object)"
      ]
     },
     "execution_count": 62,
     "metadata": {},
     "output_type": "execute_result"
    }
   ],
   "source": [
    "# predict target\n",
    "y_pred = rf1_clf.predict(X_train)\n",
    "y_pred"
   ]
  },
  {
   "cell_type": "code",
   "execution_count": 63,
   "id": "640b600a",
   "metadata": {},
   "outputs": [],
   "source": [
    "y_pred_proba = rf1_clf.predict_proba(X_train)"
   ]
  },
  {
   "cell_type": "code",
   "execution_count": 64,
   "id": "4cec2517",
   "metadata": {},
   "outputs": [
    {
     "name": "stdout",
     "output_type": "stream",
     "text": [
      "Accuracy of random forest classifier on training set: 0.69\n"
     ]
    }
   ],
   "source": [
    "print('Accuracy of random forest classifier on training set: {:.2f}'\n",
    "     .format(rf1_clf.score(X_train, y_train)))"
   ]
  },
  {
   "cell_type": "code",
   "execution_count": 65,
   "id": "ba6801a2",
   "metadata": {},
   "outputs": [
    {
     "name": "stdout",
     "output_type": "stream",
     "text": [
      "Tree1 depth\n"
     ]
    },
    {
     "data": {
      "text/html": [
       "<div>\n",
       "<style scoped>\n",
       "    .dataframe tbody tr th:only-of-type {\n",
       "        vertical-align: middle;\n",
       "    }\n",
       "\n",
       "    .dataframe tbody tr th {\n",
       "        vertical-align: top;\n",
       "    }\n",
       "\n",
       "    .dataframe thead th {\n",
       "        text-align: right;\n",
       "    }\n",
       "</style>\n",
       "<table border=\"1\" class=\"dataframe\">\n",
       "  <thead>\n",
       "    <tr style=\"text-align: right;\">\n",
       "      <th></th>\n",
       "      <th>draw</th>\n",
       "      <th>fighter1</th>\n",
       "      <th>fighter2</th>\n",
       "      <th>no_contest</th>\n",
       "      <th>accuracy</th>\n",
       "      <th>macro avg</th>\n",
       "      <th>weighted avg</th>\n",
       "    </tr>\n",
       "  </thead>\n",
       "  <tbody>\n",
       "    <tr>\n",
       "      <th>precision</th>\n",
       "      <td>0.0</td>\n",
       "      <td>0.680859</td>\n",
       "      <td>0.693561</td>\n",
       "      <td>0.0</td>\n",
       "      <td>0.687007</td>\n",
       "      <td>0.343605</td>\n",
       "      <td>0.676371</td>\n",
       "    </tr>\n",
       "    <tr>\n",
       "      <th>recall</th>\n",
       "      <td>0.0</td>\n",
       "      <td>0.713850</td>\n",
       "      <td>0.682182</td>\n",
       "      <td>0.0</td>\n",
       "      <td>0.687007</td>\n",
       "      <td>0.349008</td>\n",
       "      <td>0.687007</td>\n",
       "    </tr>\n",
       "    <tr>\n",
       "      <th>f1-score</th>\n",
       "      <td>0.0</td>\n",
       "      <td>0.696964</td>\n",
       "      <td>0.687825</td>\n",
       "      <td>0.0</td>\n",
       "      <td>0.687007</td>\n",
       "      <td>0.346197</td>\n",
       "      <td>0.681474</td>\n",
       "    </tr>\n",
       "    <tr>\n",
       "      <th>support</th>\n",
       "      <td>32.0</td>\n",
       "      <td>2621.000000</td>\n",
       "      <td>2621.000000</td>\n",
       "      <td>52.0</td>\n",
       "      <td>0.687007</td>\n",
       "      <td>5326.000000</td>\n",
       "      <td>5326.000000</td>\n",
       "    </tr>\n",
       "  </tbody>\n",
       "</table>\n",
       "</div>"
      ],
      "text/plain": [
       "           draw     fighter1     fighter2  no_contest  accuracy    macro avg  \\\n",
       "precision   0.0     0.680859     0.693561         0.0  0.687007     0.343605   \n",
       "recall      0.0     0.713850     0.682182         0.0  0.687007     0.349008   \n",
       "f1-score    0.0     0.696964     0.687825         0.0  0.687007     0.346197   \n",
       "support    32.0  2621.000000  2621.000000        52.0  0.687007  5326.000000   \n",
       "\n",
       "           weighted avg  \n",
       "precision      0.676371  \n",
       "recall         0.687007  \n",
       "f1-score       0.681474  \n",
       "support     5326.000000  "
      ]
     },
     "execution_count": 65,
     "metadata": {},
     "output_type": "execute_result"
    }
   ],
   "source": [
    "class_report = classification_report(y_train, y_pred, output_dict=(True))\n",
    "print(\"Tree1 depth\")\n",
    "pd.DataFrame(class_report)"
   ]
  },
  {
   "cell_type": "markdown",
   "id": "d054cfdb",
   "metadata": {},
   "source": [
    "##### Best model on test dataset:"
   ]
  },
  {
   "cell_type": "code",
   "execution_count": 67,
   "id": "8c57921b",
   "metadata": {},
   "outputs": [
    {
     "data": {
      "text/plain": [
       "array(['fighter1', 'fighter1', 'fighter2', ..., 'fighter1', 'fighter2',\n",
       "       'fighter2'], dtype=object)"
      ]
     },
     "execution_count": 67,
     "metadata": {},
     "output_type": "execute_result"
    }
   ],
   "source": [
    "# predict target\n",
    "y_pred = rf1_clf.predict(X_test)\n",
    "y_pred"
   ]
  },
  {
   "cell_type": "code",
   "execution_count": 68,
   "id": "05290807",
   "metadata": {},
   "outputs": [],
   "source": [
    "y_pred_proba = rf1_clf.predict_proba(X_test)"
   ]
  },
  {
   "cell_type": "code",
   "execution_count": 71,
   "id": "637755f3",
   "metadata": {},
   "outputs": [
    {
     "name": "stdout",
     "output_type": "stream",
     "text": [
      "Accuracy of random forest classifier on test set: 0.64\n"
     ]
    }
   ],
   "source": [
    "print('Accuracy of random forest classifier on test set: {:.2f}'\n",
    "     .format(rf1_clf.score(X_test, y_test)))"
   ]
  },
  {
   "cell_type": "code",
   "execution_count": 72,
   "id": "7f594d5b",
   "metadata": {},
   "outputs": [
    {
     "data": {
      "text/html": [
       "<div>\n",
       "<style scoped>\n",
       "    .dataframe tbody tr th:only-of-type {\n",
       "        vertical-align: middle;\n",
       "    }\n",
       "\n",
       "    .dataframe tbody tr th {\n",
       "        vertical-align: top;\n",
       "    }\n",
       "\n",
       "    .dataframe thead th {\n",
       "        text-align: right;\n",
       "    }\n",
       "</style>\n",
       "<table border=\"1\" class=\"dataframe\">\n",
       "  <thead>\n",
       "    <tr style=\"text-align: right;\">\n",
       "      <th></th>\n",
       "      <th>draw</th>\n",
       "      <th>fighter1</th>\n",
       "      <th>fighter2</th>\n",
       "      <th>no_contest</th>\n",
       "      <th>accuracy</th>\n",
       "      <th>macro avg</th>\n",
       "      <th>weighted avg</th>\n",
       "    </tr>\n",
       "  </thead>\n",
       "  <tbody>\n",
       "    <tr>\n",
       "      <th>precision</th>\n",
       "      <td>0.0</td>\n",
       "      <td>0.628743</td>\n",
       "      <td>0.645949</td>\n",
       "      <td>0.0</td>\n",
       "      <td>0.636889</td>\n",
       "      <td>0.318673</td>\n",
       "      <td>0.627294</td>\n",
       "    </tr>\n",
       "    <tr>\n",
       "      <th>recall</th>\n",
       "      <td>0.0</td>\n",
       "      <td>0.672359</td>\n",
       "      <td>0.621795</td>\n",
       "      <td>0.0</td>\n",
       "      <td>0.636889</td>\n",
       "      <td>0.323538</td>\n",
       "      <td>0.636889</td>\n",
       "    </tr>\n",
       "    <tr>\n",
       "      <th>f1-score</th>\n",
       "      <td>0.0</td>\n",
       "      <td>0.649819</td>\n",
       "      <td>0.633642</td>\n",
       "      <td>0.0</td>\n",
       "      <td>0.636889</td>\n",
       "      <td>0.320865</td>\n",
       "      <td>0.631618</td>\n",
       "    </tr>\n",
       "    <tr>\n",
       "      <th>support</th>\n",
       "      <td>11.0</td>\n",
       "      <td>937.000000</td>\n",
       "      <td>936.000000</td>\n",
       "      <td>19.0</td>\n",
       "      <td>0.636889</td>\n",
       "      <td>1903.000000</td>\n",
       "      <td>1903.000000</td>\n",
       "    </tr>\n",
       "  </tbody>\n",
       "</table>\n",
       "</div>"
      ],
      "text/plain": [
       "           draw    fighter1    fighter2  no_contest  accuracy    macro avg  \\\n",
       "precision   0.0    0.628743    0.645949         0.0  0.636889     0.318673   \n",
       "recall      0.0    0.672359    0.621795         0.0  0.636889     0.323538   \n",
       "f1-score    0.0    0.649819    0.633642         0.0  0.636889     0.320865   \n",
       "support    11.0  937.000000  936.000000        19.0  0.636889  1903.000000   \n",
       "\n",
       "           weighted avg  \n",
       "precision      0.627294  \n",
       "recall         0.636889  \n",
       "f1-score       0.631618  \n",
       "support     1903.000000  "
      ]
     },
     "execution_count": 72,
     "metadata": {},
     "output_type": "execute_result"
    }
   ],
   "source": [
    "pd.DataFrame(classification_report(y_test, y_pred, output_dict=True))"
   ]
  },
  {
   "cell_type": "markdown",
   "id": "735e1eb1",
   "metadata": {},
   "source": [
    "##### Best Random Forest is 64% accurate on test dataset. "
   ]
  },
  {
   "cell_type": "markdown",
   "id": "44017fd4",
   "metadata": {},
   "source": [
    "An increase from 49 to 64 represents a positive change of 30.61%"
   ]
  },
  {
   "cell_type": "markdown",
   "id": "72e4ab60",
   "metadata": {},
   "source": [
    "## Conclusion:"
   ]
  },
  {
   "cell_type": "markdown",
   "id": "90b5f0a6",
   "metadata": {},
   "source": [
    "In this project I found that the greatest predictors of winning are a high strike defense, takedown defense, strike accuracy, and takedown accuracy average as well as being younger than your opponent. \n",
    "\n",
    "After comparing these stats for Covington and Masvidal I came to the conclusion that with the advantage in the first three categories and a tie in the forth, Masvidal has a better chance of winning than Covington. The only advantage Covington has according to these metrics is that he is younger by a few years. \n",
    "\n",
    "I created a model using the features strikes_defense_diff, takedown_defense_diff, strike_acc_diff, age_diff, and takedown_acc_diff.\n",
    "\n",
    "My model is 64 percent accurate on unseen data. With an increase from 49 to 64, I improved my model from the baseline by 30.61%"
   ]
  },
  {
   "cell_type": "markdown",
   "id": "b7d4d0ac",
   "metadata": {},
   "source": [
    "## With More Time,..."
   ]
  },
  {
   "cell_type": "markdown",
   "id": "fc17ed7b",
   "metadata": {},
   "source": [
    "- Predict on fight card and add predictions to CSV.\n",
    "- Scrape for most recent data. \n",
    "- Add win/loss record as a feature.\n",
    "- Figure out how to add stance as a feature. \n",
    "- Once accuracy is increaed by a stisfactory amout, create a front end app that takes in two fighter and returns the predicted outcome. \n"
   ]
  },
  {
   "cell_type": "code",
   "execution_count": null,
   "id": "afa37b26",
   "metadata": {},
   "outputs": [],
   "source": []
  }
 ],
 "metadata": {
  "kernelspec": {
   "display_name": "Python 3",
   "language": "python",
   "name": "python3"
  },
  "language_info": {
   "codemirror_mode": {
    "name": "ipython",
    "version": 3
   },
   "file_extension": ".py",
   "mimetype": "text/x-python",
   "name": "python",
   "nbconvert_exporter": "python",
   "pygments_lexer": "ipython3",
   "version": "3.8.8"
  }
 },
 "nbformat": 4,
 "nbformat_minor": 5
}
