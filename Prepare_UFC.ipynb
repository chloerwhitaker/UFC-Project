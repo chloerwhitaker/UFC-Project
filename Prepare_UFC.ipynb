{
 "cells": [
  {
   "cell_type": "code",
   "execution_count": 1,
   "id": "7cbc9e1e",
   "metadata": {},
   "outputs": [],
   "source": [
    "from Wrangle_UFC import *"
   ]
  },
  {
   "cell_type": "code",
   "execution_count": 2,
   "id": "a64f1d43",
   "metadata": {},
   "outputs": [],
   "source": [
    "ufc_cleaned = get_n_prep_ufc()"
   ]
  },
  {
   "cell_type": "code",
   "execution_count": 3,
   "id": "54f432d8",
   "metadata": {},
   "outputs": [
    {
     "data": {
      "text/html": [
       "<div>\n",
       "<style scoped>\n",
       "    .dataframe tbody tr th:only-of-type {\n",
       "        vertical-align: middle;\n",
       "    }\n",
       "\n",
       "    .dataframe tbody tr th {\n",
       "        vertical-align: top;\n",
       "    }\n",
       "\n",
       "    .dataframe thead th {\n",
       "        text-align: right;\n",
       "    }\n",
       "</style>\n",
       "<table border=\"1\" class=\"dataframe\">\n",
       "  <thead>\n",
       "    <tr style=\"text-align: right;\">\n",
       "      <th></th>\n",
       "      <th>event_name</th>\n",
       "      <th>fighter</th>\n",
       "      <th>opponent</th>\n",
       "      <th>w</th>\n",
       "      <th>l</th>\n",
       "      <th>d</th>\n",
       "      <th>nc</th>\n",
       "      <th>total_rounds</th>\n",
       "      <th>belt</th>\n",
       "      <th>womens_bout</th>\n",
       "      <th>...</th>\n",
       "      <th>tdacc</th>\n",
       "      <th>tddef</th>\n",
       "      <th>subavg</th>\n",
       "      <th>age_days</th>\n",
       "      <th>age</th>\n",
       "      <th>outcome</th>\n",
       "      <th>height_in</th>\n",
       "      <th>stance_Orthodox</th>\n",
       "      <th>stance_Southpaw</th>\n",
       "      <th>stance_Switch</th>\n",
       "    </tr>\n",
       "  </thead>\n",
       "  <tbody>\n",
       "    <tr>\n",
       "      <th>0</th>\n",
       "      <td>UFC 259: Blachowicz vs. Adesanya</td>\n",
       "      <td>Aalon Cruz</td>\n",
       "      <td>Uros Medic</td>\n",
       "      <td>0</td>\n",
       "      <td>1</td>\n",
       "      <td>0</td>\n",
       "      <td>0</td>\n",
       "      <td>3</td>\n",
       "      <td>0</td>\n",
       "      <td>0</td>\n",
       "      <td>...</td>\n",
       "      <td>0</td>\n",
       "      <td>0</td>\n",
       "      <td>0.0</td>\n",
       "      <td>11490</td>\n",
       "      <td>31.0</td>\n",
       "      <td>loss</td>\n",
       "      <td>72</td>\n",
       "      <td>0</td>\n",
       "      <td>0</td>\n",
       "      <td>1</td>\n",
       "    </tr>\n",
       "    <tr>\n",
       "      <th>1</th>\n",
       "      <td>UFC Fight Night: Benavidez vs. Figueiredo</td>\n",
       "      <td>Aalon Cruz</td>\n",
       "      <td>Spike Carlyle</td>\n",
       "      <td>0</td>\n",
       "      <td>1</td>\n",
       "      <td>0</td>\n",
       "      <td>0</td>\n",
       "      <td>3</td>\n",
       "      <td>0</td>\n",
       "      <td>0</td>\n",
       "      <td>...</td>\n",
       "      <td>0</td>\n",
       "      <td>0</td>\n",
       "      <td>0.0</td>\n",
       "      <td>11119</td>\n",
       "      <td>30.0</td>\n",
       "      <td>loss</td>\n",
       "      <td>72</td>\n",
       "      <td>0</td>\n",
       "      <td>0</td>\n",
       "      <td>1</td>\n",
       "    </tr>\n",
       "    <tr>\n",
       "      <th>3</th>\n",
       "      <td>UFC Fight Night: Henderson vs Dos Anjos</td>\n",
       "      <td>Aaron Phillips</td>\n",
       "      <td>Matt Hobar</td>\n",
       "      <td>0</td>\n",
       "      <td>1</td>\n",
       "      <td>0</td>\n",
       "      <td>0</td>\n",
       "      <td>3</td>\n",
       "      <td>0</td>\n",
       "      <td>0</td>\n",
       "      <td>...</td>\n",
       "      <td>0</td>\n",
       "      <td>44</td>\n",
       "      <td>0.4</td>\n",
       "      <td>9149</td>\n",
       "      <td>25.0</td>\n",
       "      <td>loss</td>\n",
       "      <td>69</td>\n",
       "      <td>0</td>\n",
       "      <td>1</td>\n",
       "      <td>0</td>\n",
       "    </tr>\n",
       "    <tr>\n",
       "      <th>4</th>\n",
       "      <td>UFC Fight Night: Kattar vs. Ige</td>\n",
       "      <td>Aaron Phillips</td>\n",
       "      <td>Jack Shore</td>\n",
       "      <td>0</td>\n",
       "      <td>1</td>\n",
       "      <td>0</td>\n",
       "      <td>0</td>\n",
       "      <td>3</td>\n",
       "      <td>0</td>\n",
       "      <td>0</td>\n",
       "      <td>...</td>\n",
       "      <td>0</td>\n",
       "      <td>44</td>\n",
       "      <td>0.4</td>\n",
       "      <td>11302</td>\n",
       "      <td>30.0</td>\n",
       "      <td>loss</td>\n",
       "      <td>69</td>\n",
       "      <td>0</td>\n",
       "      <td>1</td>\n",
       "      <td>0</td>\n",
       "    </tr>\n",
       "    <tr>\n",
       "      <th>5</th>\n",
       "      <td>UFC 173: Barao vs Dillashaw</td>\n",
       "      <td>Aaron Phillips</td>\n",
       "      <td>Sam Sicilia</td>\n",
       "      <td>0</td>\n",
       "      <td>1</td>\n",
       "      <td>0</td>\n",
       "      <td>0</td>\n",
       "      <td>3</td>\n",
       "      <td>0</td>\n",
       "      <td>0</td>\n",
       "      <td>...</td>\n",
       "      <td>0</td>\n",
       "      <td>44</td>\n",
       "      <td>0.4</td>\n",
       "      <td>9058</td>\n",
       "      <td>24.0</td>\n",
       "      <td>loss</td>\n",
       "      <td>69</td>\n",
       "      <td>0</td>\n",
       "      <td>1</td>\n",
       "      <td>0</td>\n",
       "    </tr>\n",
       "  </tbody>\n",
       "</table>\n",
       "<p>5 rows × 44 columns</p>\n",
       "</div>"
      ],
      "text/plain": [
       "                                  event_name         fighter       opponent  \\\n",
       "0           UFC 259: Blachowicz vs. Adesanya      Aalon Cruz     Uros Medic   \n",
       "1  UFC Fight Night: Benavidez vs. Figueiredo      Aalon Cruz  Spike Carlyle   \n",
       "3    UFC Fight Night: Henderson vs Dos Anjos  Aaron Phillips     Matt Hobar   \n",
       "4            UFC Fight Night: Kattar vs. Ige  Aaron Phillips     Jack Shore   \n",
       "5                UFC 173: Barao vs Dillashaw  Aaron Phillips    Sam Sicilia   \n",
       "\n",
       "   w  l  d  nc  total_rounds  belt  womens_bout  ...  tdacc  tddef  subavg  \\\n",
       "0  0  1  0   0             3     0            0  ...      0      0     0.0   \n",
       "1  0  1  0   0             3     0            0  ...      0      0     0.0   \n",
       "3  0  1  0   0             3     0            0  ...      0     44     0.4   \n",
       "4  0  1  0   0             3     0            0  ...      0     44     0.4   \n",
       "5  0  1  0   0             3     0            0  ...      0     44     0.4   \n",
       "\n",
       "   age_days   age  outcome  height_in  stance_Orthodox  stance_Southpaw  \\\n",
       "0     11490  31.0     loss         72                0                0   \n",
       "1     11119  30.0     loss         72                0                0   \n",
       "3      9149  25.0     loss         69                0                1   \n",
       "4     11302  30.0     loss         69                0                1   \n",
       "5      9058  24.0     loss         69                0                1   \n",
       "\n",
       "   stance_Switch  \n",
       "0              1  \n",
       "1              1  \n",
       "3              0  \n",
       "4              0  \n",
       "5              0  \n",
       "\n",
       "[5 rows x 44 columns]"
      ]
     },
     "execution_count": 3,
     "metadata": {},
     "output_type": "execute_result"
    }
   ],
   "source": [
    "ufc_cleaned.head()"
   ]
  },
  {
   "cell_type": "code",
   "execution_count": 4,
   "id": "c926e86d",
   "metadata": {},
   "outputs": [
    {
     "data": {
      "text/plain": [
       "Index(['event_name', 'fighter', 'opponent', 'w', 'l', 'd', 'nc',\n",
       "       'total_rounds', 'belt', 'womens_bout', 'interim_bout', 'strawweight',\n",
       "       'flyweight', 'bantamweight', 'featherweight', 'lightweight',\n",
       "       'middleweight', 'light_heavyweight', 'heavyweight', 'catch_weight',\n",
       "       'open_weight', 'super_heavyweight', 'superfight', 'fight_city',\n",
       "       'fight_state', 'fight_country', 'weight', 'reach', 'stance', 'slpm',\n",
       "       'stracc', 'sapm', 'strdef', 'tdavg', 'tdacc', 'tddef', 'subavg',\n",
       "       'age_days', 'age', 'outcome', 'height_in', 'stance_Orthodox',\n",
       "       'stance_Southpaw', 'stance_Switch'],\n",
       "      dtype='object')"
      ]
     },
     "execution_count": 4,
     "metadata": {},
     "output_type": "execute_result"
    }
   ],
   "source": [
    "ufc_cleaned.columns"
   ]
  },
  {
   "cell_type": "markdown",
   "id": "4be53390",
   "metadata": {},
   "source": [
    "### Plan and Scope"
   ]
  },
  {
   "cell_type": "markdown",
   "id": "2464b4fb",
   "metadata": {},
   "source": [
    "I want to create a df for the bouts only that lists : 'event_name', 'fighter', 'opponent', 'w', 'l', 'd', 'nc',\n",
    "       'total_rounds', 'belt', 'womens_bout', 'interim_bout', 'strawweight',\n",
    "       'flyweight', 'bantamweight', 'featherweight', 'lightweight',\n",
    "       'middleweight', 'light_heavyweight', 'heavyweight', 'catch_weight',\n",
    "       'open_weight', 'super_heavyweight', 'superfight', 'fight_city',\n",
    "       'fight_state', 'fight_country', 'outcome'"
   ]
  },
  {
   "cell_type": "markdown",
   "id": "9f989043",
   "metadata": {},
   "source": [
    "I also want to create a df for the first fighter with all of their stats. "
   ]
  },
  {
   "cell_type": "markdown",
   "id": "0fe500bb",
   "metadata": {},
   "source": [
    "I want to create another df for the second fighter will all of their stats. "
   ]
  },
  {
   "cell_type": "markdown",
   "id": "bb1a35b3",
   "metadata": {},
   "source": [
    "I want to merge all three df together. "
   ]
  },
  {
   "cell_type": "markdown",
   "id": "29f50e67",
   "metadata": {},
   "source": [
    "Split and explore. "
   ]
  },
  {
   "cell_type": "markdown",
   "id": "df50145b",
   "metadata": {},
   "source": [
    "To model this \n",
    "\n",
    "If I find the differences in stats between the two fighters and assign it to just one fighter like: fighter1 +23 average strikes, fighter1 -2 average takedown defense, etc. Then the target will be outcome (fighter1 or fighter2). It will then associate positive averages with fighter1 and negative averages with fighter2 winning. "
   ]
  },
  {
   "cell_type": "code",
   "execution_count": null,
   "id": "1b25eb38",
   "metadata": {},
   "outputs": [],
   "source": []
  }
 ],
 "metadata": {
  "kernelspec": {
   "display_name": "Python 3",
   "language": "python",
   "name": "python3"
  },
  "language_info": {
   "codemirror_mode": {
    "name": "ipython",
    "version": 3
   },
   "file_extension": ".py",
   "mimetype": "text/x-python",
   "name": "python",
   "nbconvert_exporter": "python",
   "pygments_lexer": "ipython3",
   "version": "3.8.8"
  }
 },
 "nbformat": 4,
 "nbformat_minor": 5
}
