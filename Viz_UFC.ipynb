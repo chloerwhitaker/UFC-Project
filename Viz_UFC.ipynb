{
 "cells": [
  {
   "cell_type": "markdown",
   "id": "99864491",
   "metadata": {},
   "source": [
    "## UFC VIZ Functions"
   ]
  },
  {
   "cell_type": "markdown",
   "id": "7d087d59",
   "metadata": {},
   "source": [
    "This is my notebook for the visual functions for my UFC project. "
   ]
  },
  {
   "cell_type": "markdown",
   "id": "13d49afa",
   "metadata": {},
   "source": [
    "### imports"
   ]
  },
  {
   "cell_type": "code",
   "execution_count": 1,
   "id": "56be4fec",
   "metadata": {},
   "outputs": [],
   "source": [
    "# imports\n",
    "import numpy as np\n",
    "import pandas as pd\n",
    "\n",
    "# Visualizing\n",
    "import matplotlib.pyplot as plt\n",
    "import seaborn as sns\n",
    "\n",
    "# My files\n",
    "from Wrangle_UFC import *\n",
    "\n",
    "# Remove Limits On Viewing Dataframes\n",
    "pd.set_option('display.max_columns', None)"
   ]
  },
  {
   "cell_type": "markdown",
   "id": "8f9ad187",
   "metadata": {},
   "source": [
    "#### Visualizing what makes a winner: "
   ]
  },
  {
   "cell_type": "code",
   "execution_count": 9,
   "id": "798897c5",
   "metadata": {},
   "outputs": [],
   "source": [
    "# acquire data using function from Wrangle_UFC.py\n",
    "final_df, fighter_stat_diff = ufc_stats_difference()"
   ]
  },
  {
   "cell_type": "code",
   "execution_count": 10,
   "id": "e86547e5",
   "metadata": {},
   "outputs": [],
   "source": [
    "# use function from Wrnagle_UFC to split data\n",
    "train, validate, test = train_validate_test_split(final_df)"
   ]
  },
  {
   "cell_type": "code",
   "execution_count": 11,
   "id": "5e8596cf",
   "metadata": {},
   "outputs": [],
   "source": [
    "# add numeric columns to df \n",
    "df_num = train.select_dtypes(include='int64')"
   ]
  },
  {
   "cell_type": "code",
   "execution_count": null,
   "id": "902921ec",
   "metadata": {},
   "outputs": [],
   "source": [
    "def winning_corr_viz():\n",
    "    '''\n",
    "    heatmap of how the different values correlate to fighter1 winning\n",
    "    ''' \n",
    "    plt.figure(figsize=(8, 12))\n",
    "    heatmap = sns.heatmap(df_num.corr()[['win']].sort_values(by='win', ascending=False), vmin=-1, vmax=1, annot=True, cmap='cubehelix_r')\n",
    "    heatmap.set_title('Features Correlating with Winning', fontdict={'fontsize':18}, pad=16);\n",
    "    plt.show();\n",
    "    "
   ]
  },
  {
   "cell_type": "code",
   "execution_count": null,
   "id": "efca60cc",
   "metadata": {},
   "outputs": [],
   "source": [
    "# winning_corr = winning_corr_viz()"
   ]
  },
  {
   "cell_type": "markdown",
   "id": "3e2014a6",
   "metadata": {},
   "source": [
    "#### How does Colby Covington and Jorge Masvidal's stats compare to the values with the highest correlation to winning?"
   ]
  },
  {
   "cell_type": "code",
   "execution_count": 2,
   "id": "e07ca7f4",
   "metadata": {},
   "outputs": [],
   "source": [
    "# acquire last 10 colby fights using a function from Wrangle_UFC.py\n",
    "colby_diff = get_colby()"
   ]
  },
  {
   "cell_type": "code",
   "execution_count": 3,
   "id": "b9ace815",
   "metadata": {},
   "outputs": [],
   "source": [
    "# confirm acquire\n",
    "# colby_diff.head(1)"
   ]
  },
  {
   "cell_type": "code",
   "execution_count": 4,
   "id": "7fe556c5",
   "metadata": {},
   "outputs": [],
   "source": [
    "# acquire last 10 jorge fights using a function from Wrangle_UFC.py\n",
    "jorge_diff = get_jorge()"
   ]
  },
  {
   "cell_type": "code",
   "execution_count": 5,
   "id": "aa8a49bd",
   "metadata": {},
   "outputs": [],
   "source": [
    "# confirm acquire\n",
    "# jorge_diff.head(1)"
   ]
  },
  {
   "cell_type": "code",
   "execution_count": null,
   "id": "6dba9f54",
   "metadata": {},
   "outputs": [],
   "source": [
    "def win_loss_viz():\n",
    "\n",
    "    plt.rcParams[\"figure.figsize\"] = [12.00, 6.50]\n",
    "    plt.rcParams[\"figure.autolayout\"] = True\n",
    "    fig, ax =plt.subplots(1,2)\n",
    "    fig.suptitle('Colby Covinvton has won 8 out of his last 10 fights and Jorge Masvidal has won 6 out of his last 10 fights.')\n",
    "\n",
    "    sns.countplot(x=\"outcome\", data=colby_diff, palette=\"husl\", ax=ax[0])\n",
    "    ax[0].set_title('Colby')\n",
    "\n",
    "    sns.countplot(x=\"outcome\", data=jorge_diff, palette=\"husl\", ax=ax[1])\n",
    "    ax[1].set_title('Jorge')\n",
    "    fig.show();\n"
   ]
  },
  {
   "cell_type": "code",
   "execution_count": null,
   "id": "779edb53",
   "metadata": {},
   "outputs": [],
   "source": [
    "# win_loss = win_loss_viz()"
   ]
  },
  {
   "cell_type": "code",
   "execution_count": null,
   "id": "b4acf09a",
   "metadata": {},
   "outputs": [],
   "source": [
    "def strikes_defense_viz():\n",
    "\n",
    "    plt.rcParams[\"figure.figsize\"] = [12.00, 6.50]\n",
    "    plt.rcParams[\"figure.autolayout\"] = True\n",
    "    fig, ax =plt.subplots(1,2)\n",
    "    fig.suptitle('Colby Covinvton Usually has Worse Strike Defense and Jorge Masvidal Usually has Better Strike Defense than his Opponent.')\n",
    "\n",
    "    sns.countplot(x=\"strikes_defense_diff\", data=colby_diff, palette=\"husl\", ax=ax[0])\n",
    "    ax[0].set_title('Colby')\n",
    "\n",
    "    sns.countplot(x=\"strikes_defense_diff\", data=jorge_diff, palette=\"husl\", ax=ax[1])\n",
    "    ax[1].set_title('Jorge')\n",
    "    fig.show();\n"
   ]
  },
  {
   "cell_type": "code",
   "execution_count": null,
   "id": "4c0146bb",
   "metadata": {},
   "outputs": [],
   "source": [
    "# stike_def = strikes_defense_viz()"
   ]
  },
  {
   "cell_type": "code",
   "execution_count": null,
   "id": "bb458a0b",
   "metadata": {},
   "outputs": [],
   "source": [
    "def takedown_defense_viz():\n",
    "\n",
    "    plt.rcParams[\"figure.figsize\"] = [12.00, 6.50]\n",
    "    plt.rcParams[\"figure.autolayout\"] = True\n",
    "    fig, ax =plt.subplots(1,2)\n",
    "    fig.suptitle('Colby Covinvton Usually has Better Takedown Defense and Jorge Masvidal has the Takedown Defense Advantage as Often as his Opponent.')\n",
    "\n",
    "    sns.countplot(x=\"takedown_defense_diff\", data=colby_diff, palette=\"husl\", ax=ax[0])\n",
    "    ax[0].set_title('Colby')\n",
    "\n",
    "    sns.countplot(x=\"takedown_defense_diff\", data=jorge_diff, palette=\"husl\", ax=ax[1])\n",
    "    ax[1].set_title('Jorge')\n",
    "    fig.show();"
   ]
  },
  {
   "cell_type": "code",
   "execution_count": null,
   "id": "00af1505",
   "metadata": {
    "scrolled": true
   },
   "outputs": [],
   "source": [
    "# takedown_def = takedown_defense_viz()"
   ]
  },
  {
   "cell_type": "code",
   "execution_count": null,
   "id": "f062d2bf",
   "metadata": {},
   "outputs": [],
   "source": [
    "def strike_acc_viz():\n",
    "\n",
    "    plt.rcParams[\"figure.figsize\"] = [12.00, 6.50]\n",
    "    plt.rcParams[\"figure.autolayout\"] = True\n",
    "    fig, ax =plt.subplots(1,2)\n",
    "    fig.suptitle('Colby Covinvton Always has Worse Strike Accuracy and Jorge Masvidal Usually has Better Strike Accuracy than his Opponent.')\n",
    "\n",
    "    sns.countplot(x=\"strike_acc_diff\", data=colby_diff, palette=\"husl\", ax=ax[0])\n",
    "    ax[0].set_title('Colby')\n",
    "\n",
    "    sns.countplot(x=\"strike_acc_diff\", data=jorge_diff, palette=\"husl\", ax=ax[1])\n",
    "    ax[1].set_title('Jorge')\n",
    "    fig.show();"
   ]
  },
  {
   "cell_type": "code",
   "execution_count": null,
   "id": "5b6623eb",
   "metadata": {},
   "outputs": [],
   "source": [
    "# strike_acc = strike_acc_viz()"
   ]
  },
  {
   "cell_type": "code",
   "execution_count": null,
   "id": "72b04c04",
   "metadata": {},
   "outputs": [],
   "source": [
    "def age_diff_viz():\n",
    "\n",
    "    plt.rcParams[\"figure.figsize\"] = [12.00, 6.50]\n",
    "    plt.rcParams[\"figure.autolayout\"] = True\n",
    "    fig, ax =plt.subplots(1,2)\n",
    "    fig.suptitle('Colby Covinvton Usually Younger than his Opponent and Jorge Masvidal was Younger than his Opponent 50%.')\n",
    "\n",
    "    sns.countplot(x=\"age_diff\", data=colby_diff, palette=\"husl\", ax=ax[0])\n",
    "    ax[0].set_title('Colby')\n",
    "\n",
    "    sns.countplot(x=\"age_diff\", data=jorge_diff, palette=\"husl\", ax=ax[1])\n",
    "    ax[1].set_title('Jorge')\n",
    "    fig.show();"
   ]
  },
  {
   "cell_type": "code",
   "execution_count": null,
   "id": "45ffb563",
   "metadata": {},
   "outputs": [],
   "source": [
    "# age_diff = age_diff_viz()"
   ]
  },
  {
   "cell_type": "code",
   "execution_count": null,
   "id": "f6550a48",
   "metadata": {},
   "outputs": [],
   "source": [
    "def takedown_acc_viz():\n",
    "\n",
    "    plt.rcParams[\"figure.figsize\"] = [12.00, 6.50]\n",
    "    plt.rcParams[\"figure.autolayout\"] = True\n",
    "    fig, ax =plt.subplots(1,2)\n",
    "    fig.suptitle('Colby Covinvton Usually has Better Takedown Accuracy and Jorge Masvidal always has better Takedown Accuracy than his Opponent.')\n",
    "\n",
    "    sns.countplot(x=\"takedown_acc_diff\", data=colby_diff, palette=\"husl\", ax=ax[0])\n",
    "    ax[0].set_title('Colby')\n",
    "\n",
    "    sns.countplot(x=\"takedown_acc_diff\", data=jorge_diff, palette=\"husl\", ax=ax[1])\n",
    "    ax[1].set_title('Jorge')\n",
    "    fig.show();"
   ]
  },
  {
   "cell_type": "code",
   "execution_count": null,
   "id": "6f997d35",
   "metadata": {},
   "outputs": [],
   "source": [
    "# takedown_acc = takedown_acc_viz()"
   ]
  },
  {
   "cell_type": "code",
   "execution_count": 46,
   "id": "6d2446aa",
   "metadata": {},
   "outputs": [],
   "source": [
    "# plt.figure(figsize=(8, 12))\n",
    "# heatmap = sns.heatmap(df_num.corr()[['win']].sort_values(by='win', ascending=False), vmin=-1, vmax=1, annot=True, cmap='vlag_r')\n",
    "# heatmap.set_title('Features Correlating with Winning', fontdict={'fontsize':18}, pad=16);\n",
    "# plt.show();\n",
    "\n"
   ]
  },
  {
   "cell_type": "code",
   "execution_count": 47,
   "id": "e029b5ac",
   "metadata": {},
   "outputs": [],
   "source": [
    "# # Create an array with the colors you want to use\n",
    "# colors = [\"#7c889aff\", \"#d20808ff\", \"#333333ff\", \"#0513b1ff\", \"#00000bff\"]\n",
    "# # Set your custom color palette\n",
    "# sns.set_palette(sns.color_palette(colors))\n",
    "\n",
    "# plt.rcParams[\"figure.figsize\"] = [12.00, 6.50]\n",
    "# plt.rcParams[\"figure.autolayout\"] = True\n",
    "# fig, ax =plt.subplots(1,2)\n",
    "# fig.suptitle('Colby Covinvton Usually has Better Takedown Accuracy and Jorge Masvidal always has better Takedown Accuracy than his Opponent.')\n",
    "\n",
    "# sns.countplot(x=\"takedown_acc_diff\", data=colby_diff, palette=colors, ax=ax[0])\n",
    "# ax[0].set_title('Colby')\n",
    "\n",
    "# sns.countplot(x=\"takedown_acc_diff\", data=jorge_diff, palette=colors, ax=ax[1])\n",
    "# ax[1].set_title('Jorge')\n",
    "# fig.show();"
   ]
  },
  {
   "cell_type": "code",
   "execution_count": null,
   "id": "bb9db7d1",
   "metadata": {},
   "outputs": [],
   "source": []
  }
 ],
 "metadata": {
  "kernelspec": {
   "display_name": "Python 3",
   "language": "python",
   "name": "python3"
  },
  "language_info": {
   "codemirror_mode": {
    "name": "ipython",
    "version": 3
   },
   "file_extension": ".py",
   "mimetype": "text/x-python",
   "name": "python",
   "nbconvert_exporter": "python",
   "pygments_lexer": "ipython3",
   "version": "3.8.8"
  }
 },
 "nbformat": 4,
 "nbformat_minor": 5
}
