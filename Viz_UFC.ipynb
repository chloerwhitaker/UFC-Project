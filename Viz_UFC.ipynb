{
 "cells": [
  {
   "cell_type": "markdown",
   "id": "9cf6725d",
   "metadata": {},
   "source": [
    "This is my notebook for the visual functions for my UFC project. "
   ]
  },
  {
   "cell_type": "markdown",
   "id": "53394519",
   "metadata": {},
   "source": [
    "### imports"
   ]
  },
  {
   "cell_type": "code",
   "execution_count": 1,
   "id": "5d385244",
   "metadata": {},
   "outputs": [],
   "source": [
    "# imports\n",
    "import numpy as np\n",
    "import pandas as pd\n",
    "\n",
    "# Visualizing\n",
    "import matplotlib.pyplot as plt\n",
    "import seaborn as sns\n",
    "\n",
    "# My files\n",
    "from Wrangle_UFC import *\n",
    "\n",
    "# Remove Limits On Viewing Dataframes\n",
    "pd.set_option('display.max_columns', None)"
   ]
  },
  {
   "cell_type": "markdown",
   "id": "88c490e2",
   "metadata": {},
   "source": [
    "#### How does Colby Covington and Jorge Masvidal's stats compare to the values with the highest correlation to winning?"
   ]
  },
  {
   "cell_type": "code",
   "execution_count": 2,
   "id": "82510346",
   "metadata": {},
   "outputs": [],
   "source": [
    "# acquire last 10 colby fights using a function from Wrangle_UFC.py\n",
    "colby_diff = get_colby()"
   ]
  },
  {
   "cell_type": "code",
   "execution_count": 3,
   "id": "3de95af6",
   "metadata": {},
   "outputs": [
    {
     "data": {
      "text/html": [
       "<div>\n",
       "<style scoped>\n",
       "    .dataframe tbody tr th:only-of-type {\n",
       "        vertical-align: middle;\n",
       "    }\n",
       "\n",
       "    .dataframe tbody tr th {\n",
       "        vertical-align: top;\n",
       "    }\n",
       "\n",
       "    .dataframe thead th {\n",
       "        text-align: right;\n",
       "    }\n",
       "</style>\n",
       "<table border=\"1\" class=\"dataframe\">\n",
       "  <thead>\n",
       "    <tr style=\"text-align: right;\">\n",
       "      <th></th>\n",
       "      <th>event_name</th>\n",
       "      <th>fighter1</th>\n",
       "      <th>fighter2</th>\n",
       "      <th>outcome</th>\n",
       "      <th>stance_f1</th>\n",
       "      <th>stance_f2</th>\n",
       "      <th>weight_diff</th>\n",
       "      <th>reach_diff</th>\n",
       "      <th>strike_diff</th>\n",
       "      <th>strike_acc_diff</th>\n",
       "      <th>strikes_absorbed_diff</th>\n",
       "      <th>strikes_defense_diff</th>\n",
       "      <th>takedown_attempts_diff</th>\n",
       "      <th>takedown_acc_diff</th>\n",
       "      <th>takedown_defense_diff</th>\n",
       "      <th>submission_attempt_diff</th>\n",
       "      <th>age_diff</th>\n",
       "      <th>height_diff</th>\n",
       "    </tr>\n",
       "  </thead>\n",
       "  <tbody>\n",
       "    <tr>\n",
       "      <th>0</th>\n",
       "      <td>UFC 268: Usman vs. Covington 2</td>\n",
       "      <td>Colby Covington</td>\n",
       "      <td>Kamaru Usman</td>\n",
       "      <td>loss</td>\n",
       "      <td>Orthodox</td>\n",
       "      <td>Switch</td>\n",
       "      <td>0</td>\n",
       "      <td>-4</td>\n",
       "      <td>-0.51</td>\n",
       "      <td>-16</td>\n",
       "      <td>0.46</td>\n",
       "      <td>-2</td>\n",
       "      <td>1.34</td>\n",
       "      <td>2</td>\n",
       "      <td>-25</td>\n",
       "      <td>0.0</td>\n",
       "      <td>-287.0</td>\n",
       "      <td>-1</td>\n",
       "    </tr>\n",
       "  </tbody>\n",
       "</table>\n",
       "</div>"
      ],
      "text/plain": [
       "                       event_name         fighter1      fighter2 outcome  \\\n",
       "0  UFC 268: Usman vs. Covington 2  Colby Covington  Kamaru Usman    loss   \n",
       "\n",
       "  stance_f1 stance_f2  weight_diff  reach_diff  strike_diff  strike_acc_diff  \\\n",
       "0  Orthodox    Switch            0          -4        -0.51              -16   \n",
       "\n",
       "   strikes_absorbed_diff  strikes_defense_diff  takedown_attempts_diff  \\\n",
       "0                   0.46                    -2                    1.34   \n",
       "\n",
       "   takedown_acc_diff  takedown_defense_diff  submission_attempt_diff  \\\n",
       "0                  2                    -25                      0.0   \n",
       "\n",
       "   age_diff  height_diff  \n",
       "0    -287.0           -1  "
      ]
     },
     "execution_count": 3,
     "metadata": {},
     "output_type": "execute_result"
    }
   ],
   "source": [
    "# confirm acquire\n",
    "colby_diff.head(1)"
   ]
  },
  {
   "cell_type": "code",
   "execution_count": 4,
   "id": "68b5671f",
   "metadata": {},
   "outputs": [],
   "source": [
    "# acquire last 10 jorge fights using a function from Wrangle_UFC.py\n",
    "jorge_diff = get_jorge()"
   ]
  },
  {
   "cell_type": "code",
   "execution_count": 5,
   "id": "d1c8a604",
   "metadata": {},
   "outputs": [
    {
     "data": {
      "text/html": [
       "<div>\n",
       "<style scoped>\n",
       "    .dataframe tbody tr th:only-of-type {\n",
       "        vertical-align: middle;\n",
       "    }\n",
       "\n",
       "    .dataframe tbody tr th {\n",
       "        vertical-align: top;\n",
       "    }\n",
       "\n",
       "    .dataframe thead th {\n",
       "        text-align: right;\n",
       "    }\n",
       "</style>\n",
       "<table border=\"1\" class=\"dataframe\">\n",
       "  <thead>\n",
       "    <tr style=\"text-align: right;\">\n",
       "      <th></th>\n",
       "      <th>event_name</th>\n",
       "      <th>fighter1</th>\n",
       "      <th>fighter2</th>\n",
       "      <th>outcome</th>\n",
       "      <th>stance_f1</th>\n",
       "      <th>stance_f2</th>\n",
       "      <th>weight_diff</th>\n",
       "      <th>reach_diff</th>\n",
       "      <th>strike_diff</th>\n",
       "      <th>strike_acc_diff</th>\n",
       "      <th>strikes_absorbed_diff</th>\n",
       "      <th>strikes_defense_diff</th>\n",
       "      <th>takedown_attempts_diff</th>\n",
       "      <th>takedown_acc_diff</th>\n",
       "      <th>takedown_defense_diff</th>\n",
       "      <th>submission_attempt_diff</th>\n",
       "      <th>age_diff</th>\n",
       "      <th>height_diff</th>\n",
       "    </tr>\n",
       "  </thead>\n",
       "  <tbody>\n",
       "    <tr>\n",
       "      <th>0</th>\n",
       "      <td>UFC 261: Usman vs. Masvidal 2</td>\n",
       "      <td>Jorge Masvidal</td>\n",
       "      <td>Kamaru Usman</td>\n",
       "      <td>loss</td>\n",
       "      <td>Orthodox</td>\n",
       "      <td>Switch</td>\n",
       "      <td>0</td>\n",
       "      <td>-2</td>\n",
       "      <td>-0.41</td>\n",
       "      <td>-6</td>\n",
       "      <td>0.61</td>\n",
       "      <td>8</td>\n",
       "      <td>-1.73</td>\n",
       "      <td>11</td>\n",
       "      <td>-25</td>\n",
       "      <td>0.2</td>\n",
       "      <td>483</td>\n",
       "      <td>-1</td>\n",
       "    </tr>\n",
       "  </tbody>\n",
       "</table>\n",
       "</div>"
      ],
      "text/plain": [
       "                      event_name        fighter1      fighter2 outcome  \\\n",
       "0  UFC 261: Usman vs. Masvidal 2  Jorge Masvidal  Kamaru Usman    loss   \n",
       "\n",
       "  stance_f1 stance_f2  weight_diff  reach_diff  strike_diff  strike_acc_diff  \\\n",
       "0  Orthodox    Switch            0          -2        -0.41               -6   \n",
       "\n",
       "   strikes_absorbed_diff  strikes_defense_diff  takedown_attempts_diff  \\\n",
       "0                   0.61                     8                   -1.73   \n",
       "\n",
       "   takedown_acc_diff  takedown_defense_diff  submission_attempt_diff  \\\n",
       "0                 11                    -25                      0.2   \n",
       "\n",
       "   age_diff  height_diff  \n",
       "0       483           -1  "
      ]
     },
     "execution_count": 5,
     "metadata": {},
     "output_type": "execute_result"
    }
   ],
   "source": [
    "# confirm acquire\n",
    "jorge_diff.head(1)"
   ]
  },
  {
   "cell_type": "code",
   "execution_count": 8,
   "id": "fe45470a",
   "metadata": {},
   "outputs": [],
   "source": [
    "def win_loss_viz():\n",
    "\n",
    "    plt.rcParams[\"figure.figsize\"] = [10.00, 4.50]\n",
    "    plt.rcParams[\"figure.autolayout\"] = True\n",
    "    fig, ax =plt.subplots(1,2)\n",
    "    fig.suptitle('Colby Covinvton has won 8 out of his last 10 fights and Jorge Masvidal has won 6 out of his last 10 fights.')\n",
    "\n",
    "    sns.countplot(x=\"outcome\", data=colby_diff, palette=\"husl\", ax=ax[0])\n",
    "    ax[0].set_title('Colby')\n",
    "\n",
    "    sns.countplot(x=\"outcome\", data=jorge_diff, palette=\"husl\", ax=ax[1])\n",
    "    ax[1].set_title('Jorge')\n",
    "    fig.show();\n"
   ]
  },
  {
   "cell_type": "code",
   "execution_count": 9,
   "id": "db3ac0f9",
   "metadata": {},
   "outputs": [
    {
     "data": {
      "image/png": "[encoded data removed]",
      "text/plain": [
       "<Figure size 720x324 with 2 Axes>"
      ]
     },
     "metadata": {
      "needs_background": "light"
     },
     "output_type": "display_data"
    }
   ],
   "source": [
    "win_loss = win_loss_viz()"
   ]
  },
  {
   "cell_type": "code",
   "execution_count": 10,
   "id": "6f946a81",
   "metadata": {},
   "outputs": [],
   "source": [
    "def strikes_defense_viz():\n",
    "\n",
    "    plt.rcParams[\"figure.figsize\"] = [10.00, 4.50]\n",
    "    plt.rcParams[\"figure.autolayout\"] = True\n",
    "    fig, ax =plt.subplots(1,2)\n",
    "    fig.suptitle('Colby Covinvton Usually has Worse Strike Defense than his Opponent and Jorge Masvidal Usually has Better Strike Defense than his Opponent.')\n",
    "\n",
    "    sns.countplot(x=\"strikes_defense_diff\", data=colby_diff, palette=\"husl\", ax=ax[0])\n",
    "    ax[0].set_title('Colby')\n",
    "\n",
    "    sns.countplot(x=\"strikes_defense_diff\", data=jorge_diff, palette=\"husl\", ax=ax[1])\n",
    "    ax[1].set_title('Jorge')\n",
    "    fig.show();\n"
   ]
  },
  {
   "cell_type": "code",
   "execution_count": 12,
   "id": "7cb42ed3",
   "metadata": {},
   "outputs": [
    {
     "data": {
      "image/png": "[encoded data removed]",
      "text/plain": [
       "<Figure size 720x324 with 2 Axes>"
      ]
     },
     "metadata": {
      "needs_background": "light"
     },
     "output_type": "display_data"
    }
   ],
   "source": [
    "stike_def = strikes_defense_viz()"
   ]
  },
  {
   "cell_type": "code",
   "execution_count": 13,
   "id": "baee7e47",
   "metadata": {},
   "outputs": [],
   "source": [
    "def takedown_defense_viz():\n",
    "\n",
    "    plt.rcParams[\"figure.figsize\"] = [10.00, 4.50]\n",
    "    plt.rcParams[\"figure.autolayout\"] = True\n",
    "    fig, ax =plt.subplots(1,2)\n",
    "    fig.suptitle('Colby Covinvton Usually has Better Takedown Defense than his Opponent and Jorge Masvidal has the Takedown Defense Advantage as Often as his Opponent.')\n",
    "\n",
    "    sns.countplot(x=\"takedown_defense_diff\", data=colby_diff, palette=\"husl\", ax=ax[0])\n",
    "    ax[0].set_title('Colby')\n",
    "\n",
    "    sns.countplot(x=\"takedown_defense_diff\", data=jorge_diff, palette=\"husl\", ax=ax[1])\n",
    "    ax[1].set_title('Jorge')\n",
    "    fig.show();"
   ]
  },
  {
   "cell_type": "code",
   "execution_count": 14,
   "id": "1e750b42",
   "metadata": {},
   "outputs": [
    {
     "data": {
      "image/png": "[encoded data removed]",
      "text/plain": [
       "<Figure size 720x324 with 2 Axes>"
      ]
     },
     "metadata": {
      "needs_background": "light"
     },
     "output_type": "display_data"
    }
   ],
   "source": [
    "takedown_def = takedown_defense_viz()"
   ]
  }
 ],
 "metadata": {
  "kernelspec": {
   "display_name": "Python 3",
   "language": "python",
   "name": "python3"
  },
  "language_info": {
   "codemirror_mode": {
    "name": "ipython",
    "version": 3
   },
   "file_extension": ".py",
   "mimetype": "text/x-python",
   "name": "python",
   "nbconvert_exporter": "python",
   "pygments_lexer": "ipython3",
   "version": "3.8.8"
  }
 },
 "nbformat": 4,
 "nbformat_minor": 5
}
