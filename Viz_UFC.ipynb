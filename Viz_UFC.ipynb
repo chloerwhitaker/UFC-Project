{
 "cells": [
  {
   "cell_type": "markdown",
   "id": "a82503f2",
   "metadata": {},
   "source": [
    "## UFC VIZ Functions"
   ]
  },
  {
   "cell_type": "markdown",
   "id": "d123d369",
   "metadata": {},
   "source": [
    "This is my notebook for the visual functions for my UFC project. "
   ]
  },
  {
   "cell_type": "markdown",
   "id": "347de71a",
   "metadata": {},
   "source": [
    "### imports"
   ]
  },
  {
   "cell_type": "code",
   "execution_count": 1,
   "id": "4864ad9f",
   "metadata": {},
   "outputs": [],
   "source": [
    "# imports\n",
    "import numpy as np\n",
    "import pandas as pd\n",
    "\n",
    "# Visualizing\n",
    "import matplotlib.pyplot as plt\n",
    "import seaborn as sns\n",
    "\n",
    "# My files\n",
    "from Wrangle_UFC import *\n",
    "\n",
    "# Remove Limits On Viewing Dataframes\n",
    "pd.set_option('display.max_columns', None)"
   ]
  },
  {
   "cell_type": "markdown",
   "id": "09490509",
   "metadata": {},
   "source": [
    "#### Visualizing what makes a winner: "
   ]
  },
  {
   "cell_type": "code",
   "execution_count": 36,
   "id": "a05a7b55",
   "metadata": {},
   "outputs": [],
   "source": [
    "# acquire data using function from Wrangle_UFC.py\n",
    "final_df, fighter_stat_diff = ufc_stats_difference()"
   ]
  },
  {
   "cell_type": "code",
   "execution_count": 37,
   "id": "abe8554b",
   "metadata": {},
   "outputs": [],
   "source": [
    "# use function from Wrnagle_UFC to split data\n",
    "train, validate, test = train_validate_test_split(final_df)"
   ]
  },
  {
   "cell_type": "code",
   "execution_count": 39,
   "id": "9de0a6db",
   "metadata": {},
   "outputs": [],
   "source": [
    "# add numeric columns to df \n",
    "df_num = train.select_dtypes(include='int64')"
   ]
  },
  {
   "cell_type": "code",
   "execution_count": 46,
   "id": "f085fd8b",
   "metadata": {},
   "outputs": [],
   "source": [
    "def winning_corr_viz():\n",
    "    '''\n",
    "    heatmap of how the different values correlate to fighter1 winning\n",
    "    ''' \n",
    "    plt.figure(figsize=(8, 12))\n",
    "    heatmap = sns.heatmap(df_num.corr()[['win']].sort_values(by='win', ascending=False), vmin=-1, vmax=1, annot=True, cmap='cubehelix_r')\n",
    "    heatmap.set_title('Features Correlating with Winning', fontdict={'fontsize':18}, pad=16);\n",
    "    plt.show();\n",
    "    "
   ]
  },
  {
   "cell_type": "code",
   "execution_count": 48,
   "id": "c59fb0d3",
   "metadata": {},
   "outputs": [],
   "source": [
    "# winning_corr = winning_corr_viz()"
   ]
  },
  {
   "cell_type": "markdown",
   "id": "d215f4b7",
   "metadata": {},
   "source": [
    "#### How does Colby Covington and Jorge Masvidal's stats compare to the values with the highest correlation to winning?"
   ]
  },
  {
   "cell_type": "code",
   "execution_count": 2,
   "id": "6af39a40",
   "metadata": {},
   "outputs": [],
   "source": [
    "# acquire last 10 colby fights using a function from Wrangle_UFC.py\n",
    "colby_diff = get_colby()"
   ]
  },
  {
   "cell_type": "code",
   "execution_count": 49,
   "id": "0d439cf3",
   "metadata": {},
   "outputs": [],
   "source": [
    "# confirm acquire\n",
    "# colby_diff.head(1)"
   ]
  },
  {
   "cell_type": "code",
   "execution_count": 4,
   "id": "c3b9ed84",
   "metadata": {},
   "outputs": [],
   "source": [
    "# acquire last 10 jorge fights using a function from Wrangle_UFC.py\n",
    "jorge_diff = get_jorge()"
   ]
  },
  {
   "cell_type": "code",
   "execution_count": 50,
   "id": "3ada02d3",
   "metadata": {},
   "outputs": [],
   "source": [
    "# confirm acquire\n",
    "# jorge_diff.head(1)"
   ]
  },
  {
   "cell_type": "code",
   "execution_count": 60,
   "id": "0e5191ad",
   "metadata": {},
   "outputs": [],
   "source": [
    "def win_loss_viz():\n",
    "\n",
    "    plt.rcParams[\"figure.figsize\"] = [12.00, 6.50]\n",
    "    plt.rcParams[\"figure.autolayout\"] = True\n",
    "    fig, ax =plt.subplots(1,2)\n",
    "    fig.suptitle('Colby Covinvton has won 8 out of his last 10 fights and Jorge Masvidal has won 6 out of his last 10 fights.')\n",
    "\n",
    "    sns.countplot(x=\"outcome\", data=colby_diff, palette=\"husl\", ax=ax[0])\n",
    "    ax[0].set_title('Colby')\n",
    "\n",
    "    sns.countplot(x=\"outcome\", data=jorge_diff, palette=\"husl\", ax=ax[1])\n",
    "    ax[1].set_title('Jorge')\n",
    "    fig.show();\n"
   ]
  },
  {
   "cell_type": "code",
   "execution_count": 72,
   "id": "904caa24",
   "metadata": {},
   "outputs": [],
   "source": [
    "# win_loss = win_loss_viz()"
   ]
  },
  {
   "cell_type": "code",
   "execution_count": 62,
   "id": "7048e9d9",
   "metadata": {},
   "outputs": [],
   "source": [
    "def strikes_defense_viz():\n",
    "\n",
    "    plt.rcParams[\"figure.figsize\"] = [12.00, 6.50]\n",
    "    plt.rcParams[\"figure.autolayout\"] = True\n",
    "    fig, ax =plt.subplots(1,2)\n",
    "    fig.suptitle('Colby Covinvton Usually has Worse Strike Defense and Jorge Masvidal Usually has Better Strike Defense than his Opponent.')\n",
    "\n",
    "    sns.countplot(x=\"strikes_defense_diff\", data=colby_diff, palette=\"husl\", ax=ax[0])\n",
    "    ax[0].set_title('Colby')\n",
    "\n",
    "    sns.countplot(x=\"strikes_defense_diff\", data=jorge_diff, palette=\"husl\", ax=ax[1])\n",
    "    ax[1].set_title('Jorge')\n",
    "    fig.show();\n"
   ]
  },
  {
   "cell_type": "code",
   "execution_count": 73,
   "id": "ac713621",
   "metadata": {},
   "outputs": [],
   "source": [
    "# stike_def = strikes_defense_viz()"
   ]
  },
  {
   "cell_type": "code",
   "execution_count": 64,
   "id": "e1b8ada7",
   "metadata": {},
   "outputs": [],
   "source": [
    "def takedown_defense_viz():\n",
    "\n",
    "    plt.rcParams[\"figure.figsize\"] = [12.00, 6.50]\n",
    "    plt.rcParams[\"figure.autolayout\"] = True\n",
    "    fig, ax =plt.subplots(1,2)\n",
    "    fig.suptitle('Colby Covinvton Usually has Better Takedown Defense and Jorge Masvidal has the Takedown Defense Advantage as Often as his Opponent.')\n",
    "\n",
    "    sns.countplot(x=\"takedown_defense_diff\", data=colby_diff, palette=\"husl\", ax=ax[0])\n",
    "    ax[0].set_title('Colby')\n",
    "\n",
    "    sns.countplot(x=\"takedown_defense_diff\", data=jorge_diff, palette=\"husl\", ax=ax[1])\n",
    "    ax[1].set_title('Jorge')\n",
    "    fig.show();"
   ]
  },
  {
   "cell_type": "code",
   "execution_count": 74,
   "id": "1fa8ef83",
   "metadata": {
    "scrolled": true
   },
   "outputs": [],
   "source": [
    "# takedown_def = takedown_defense_viz()"
   ]
  },
  {
   "cell_type": "code",
   "execution_count": 66,
   "id": "89526e45",
   "metadata": {},
   "outputs": [],
   "source": [
    "def strike_acc_viz():\n",
    "\n",
    "    plt.rcParams[\"figure.figsize\"] = [12.00, 6.50]\n",
    "    plt.rcParams[\"figure.autolayout\"] = True\n",
    "    fig, ax =plt.subplots(1,2)\n",
    "    fig.suptitle('Colby Covinvton Always has Worse Strike Accuracy and Jorge Masvidal Usually has Better Strike Accuracy than his Opponent.')\n",
    "\n",
    "    sns.countplot(x=\"strike_acc_diff\", data=colby_diff, palette=\"husl\", ax=ax[0])\n",
    "    ax[0].set_title('Colby')\n",
    "\n",
    "    sns.countplot(x=\"strike_acc_diff\", data=jorge_diff, palette=\"husl\", ax=ax[1])\n",
    "    ax[1].set_title('Jorge')\n",
    "    fig.show();"
   ]
  },
  {
   "cell_type": "code",
   "execution_count": 75,
   "id": "157f25c1",
   "metadata": {},
   "outputs": [],
   "source": [
    "# strike_acc = strike_acc_viz()"
   ]
  },
  {
   "cell_type": "code",
   "execution_count": 68,
   "id": "6c2643ec",
   "metadata": {},
   "outputs": [],
   "source": [
    "def age_diff_viz():\n",
    "\n",
    "    plt.rcParams[\"figure.figsize\"] = [12.00, 6.50]\n",
    "    plt.rcParams[\"figure.autolayout\"] = True\n",
    "    fig, ax =plt.subplots(1,2)\n",
    "    fig.suptitle('Colby Covinvton Usually Younger than his Opponent and Jorge Masvidal was Younger than his Opponent 50%.')\n",
    "\n",
    "    sns.countplot(x=\"age_diff\", data=colby_diff, palette=\"husl\", ax=ax[0])\n",
    "    ax[0].set_title('Colby')\n",
    "\n",
    "    sns.countplot(x=\"age_diff\", data=jorge_diff, palette=\"husl\", ax=ax[1])\n",
    "    ax[1].set_title('Jorge')\n",
    "    fig.show();"
   ]
  },
  {
   "cell_type": "code",
   "execution_count": 76,
   "id": "162383be",
   "metadata": {},
   "outputs": [],
   "source": [
    "# age_diff = age_diff_viz()"
   ]
  },
  {
   "cell_type": "code",
   "execution_count": 81,
   "id": "1f7bd7eb",
   "metadata": {},
   "outputs": [],
   "source": [
    "def takedown_acc_viz():\n",
    "\n",
    "    plt.rcParams[\"figure.figsize\"] = [12.00, 6.50]\n",
    "    plt.rcParams[\"figure.autolayout\"] = True\n",
    "    fig, ax =plt.subplots(1,2)\n",
    "    fig.suptitle('Colby Covinvton Usually has Better Takedown Accuracy and Jorge Masvidal always has better Takedown Accuracy than his Opponent.')\n",
    "\n",
    "    sns.countplot(x=\"takedown_acc_diff\", data=colby_diff, palette=\"husl\", ax=ax[0])\n",
    "    ax[0].set_title('Colby')\n",
    "\n",
    "    sns.countplot(x=\"takedown_acc_diff\", data=jorge_diff, palette=\"husl\", ax=ax[1])\n",
    "    ax[1].set_title('Jorge')\n",
    "    fig.show();"
   ]
  },
  {
   "cell_type": "code",
   "execution_count": 82,
   "id": "685eb37d",
   "metadata": {},
   "outputs": [],
   "source": [
    "# takedown_acc = takedown_acc_viz()"
   ]
  },
  {
   "cell_type": "code",
   "execution_count": null,
   "id": "c447a0e0",
   "metadata": {},
   "outputs": [],
   "source": []
  }
 ],
 "metadata": {
  "kernelspec": {
   "display_name": "Python 3",
   "language": "python",
   "name": "python3"
  },
  "language_info": {
   "codemirror_mode": {
    "name": "ipython",
    "version": 3
   },
   "file_extension": ".py",
   "mimetype": "text/x-python",
   "name": "python",
   "nbconvert_exporter": "python",
   "pygments_lexer": "ipython3",
   "version": "3.8.8"
  }
 },
 "nbformat": 4,
 "nbformat_minor": 5
}
