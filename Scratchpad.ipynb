{
 "cells": [
  {
   "cell_type": "markdown",
   "id": "96e5eaba",
   "metadata": {},
   "source": [
    "# UFC Fight Card Predictor"
   ]
  },
  {
   "cell_type": "markdown",
   "id": "5f629fd7",
   "metadata": {},
   "source": [
    "## About this Project:"
   ]
  },
  {
   "cell_type": "markdown",
   "id": "00aba881",
   "metadata": {},
   "source": [
    "### Project Goal: "
   ]
  },
  {
   "cell_type": "markdown",
   "id": "5ecbf5ba",
   "metadata": {},
   "source": [
    "The goal of this project is to be able to read in an upcoming fight card and predict the outcome of each fight. \n"
   ]
  },
  {
   "cell_type": "markdown",
   "id": "92ead518",
   "metadata": {},
   "source": [
    "For this particular project we will be looking at UFC 272 PPV - Colby Covington vs. Jorge Masvidal."
   ]
  },
  {
   "cell_type": "markdown",
   "id": "21f0220d",
   "metadata": {},
   "source": [
    "### Project Description: "
   ]
  },
  {
   "cell_type": "markdown",
   "id": "4b2501d2",
   "metadata": {},
   "source": [
    "## Let's Get Started... "
   ]
  },
  {
   "cell_type": "markdown",
   "id": "a79a9e00",
   "metadata": {},
   "source": [
    "### Imports"
   ]
  },
  {
   "cell_type": "markdown",
   "id": "a8c54b23",
   "metadata": {},
   "source": [
    "These are the following imports needed to run this notebook: "
   ]
  },
  {
   "cell_type": "code",
   "execution_count": 1,
   "id": "6a582f84",
   "metadata": {},
   "outputs": [],
   "source": [
    "import numpy as np\n",
    "import pandas as pd\n",
    "\n",
    "# Visualizing\n",
    "import matplotlib.pyplot as plt\n",
    "import seaborn as sns\n",
    "\n",
    "# default pandas decimal number display format\n",
    "pd.options.display.float_format = '{:.2f}'.format\n",
    "\n",
    "# Split \n",
    "from sklearn.model_selection import train_test_split\n",
    "\n",
    "# Scale\n",
    "from sklearn.preprocessing import MinMaxScaler\n",
    "\n",
    "# Stats\n",
    "import scipy.stats as stats\n",
    "\n",
    "# Ignore Warnings\n",
    "import warnings\n",
    "warnings.filterwarnings(\"ignore\")"
   ]
  },
  {
   "cell_type": "markdown",
   "id": "3b3f6b1e",
   "metadata": {},
   "source": [
    "### Acquire"
   ]
  },
  {
   "cell_type": "markdown",
   "id": "12d87db6",
   "metadata": {},
   "source": [
    "The first thing we have to do is acquire the data. I will be using a dataset called ufc-master.csv that I found here: \n",
    "\n",
    "https://www.kaggle.com/bloodprashure/ufc-p4p-1-dataset/tasks?taskId=4669"
   ]
  },
  {
   "cell_type": "markdown",
   "id": "7ef7d688",
   "metadata": {},
   "source": [
    "Before reading this csv I cleaned the column names to make them easier to work with in python. "
   ]
  },
  {
   "cell_type": "code",
   "execution_count": 2,
   "id": "a8459a42",
   "metadata": {},
   "outputs": [],
   "source": [
    "# read csv locally \n",
    "ufc = pd.read_csv('ufc-master-cleaned.csv')"
   ]
  },
  {
   "cell_type": "code",
   "execution_count": 3,
   "id": "779c76ac",
   "metadata": {},
   "outputs": [
    {
     "data": {
      "text/html": [
       "<div>\n",
       "<style scoped>\n",
       "    .dataframe tbody tr th:only-of-type {\n",
       "        vertical-align: middle;\n",
       "    }\n",
       "\n",
       "    .dataframe tbody tr th {\n",
       "        vertical-align: top;\n",
       "    }\n",
       "\n",
       "    .dataframe thead th {\n",
       "        text-align: right;\n",
       "    }\n",
       "</style>\n",
       "<table border=\"1\" class=\"dataframe\">\n",
       "  <thead>\n",
       "    <tr style=\"text-align: right;\">\n",
       "      <th></th>\n",
       "      <th>Unnamed: 0</th>\n",
       "      <th>date</th>\n",
       "      <th>event_code</th>\n",
       "      <th>event_name</th>\n",
       "      <th>fullname</th>\n",
       "      <th>fighter_two_name</th>\n",
       "      <th>w</th>\n",
       "      <th>l</th>\n",
       "      <th>d</th>\n",
       "      <th>nc</th>\n",
       "      <th>...</th>\n",
       "      <th>round_five_takedown_percent</th>\n",
       "      <th>round_five_submission_attempt</th>\n",
       "      <th>round_five_submission_reverse</th>\n",
       "      <th>round_five_control_time</th>\n",
       "      <th>round_five_head</th>\n",
       "      <th>round_five_body</th>\n",
       "      <th>round_five_leg</th>\n",
       "      <th>round_five_distance</th>\n",
       "      <th>round_five_clinch</th>\n",
       "      <th>round_five_ground</th>\n",
       "    </tr>\n",
       "  </thead>\n",
       "  <tbody>\n",
       "    <tr>\n",
       "      <th>0</th>\n",
       "      <td>0</td>\n",
       "      <td>2021-03-06 0:00:00</td>\n",
       "      <td>6e2b1d631832921d</td>\n",
       "      <td>UFC 259: Blachowicz vs. Adesanya</td>\n",
       "      <td>Aalon Cruz</td>\n",
       "      <td>Uros Medic</td>\n",
       "      <td>0</td>\n",
       "      <td>1</td>\n",
       "      <td>0</td>\n",
       "      <td>0</td>\n",
       "      <td>...</td>\n",
       "      <td>0</td>\n",
       "      <td>0</td>\n",
       "      <td>0</td>\n",
       "      <td>NaN</td>\n",
       "      <td>NaN</td>\n",
       "      <td>NaN</td>\n",
       "      <td>NaN</td>\n",
       "      <td>NaN</td>\n",
       "      <td>NaN</td>\n",
       "      <td>NaN</td>\n",
       "    </tr>\n",
       "  </tbody>\n",
       "</table>\n",
       "<p>1 rows × 171 columns</p>\n",
       "</div>"
      ],
      "text/plain": [
       "   Unnamed: 0                date        event_code  \\\n",
       "0           0  2021-03-06 0:00:00  6e2b1d631832921d   \n",
       "\n",
       "                         event_name    fullname fighter_two_name  w  l  d  nc  \\\n",
       "0  UFC 259: Blachowicz vs. Adesanya  Aalon Cruz       Uros Medic  0  1  0   0   \n",
       "\n",
       "   ...  round_five_takedown_percent  round_five_submission_attempt  \\\n",
       "0  ...                            0                              0   \n",
       "\n",
       "   round_five_submission_reverse  round_five_control_time  round_five_head  \\\n",
       "0                              0                      NaN              NaN   \n",
       "\n",
       "   round_five_body  round_five_leg  round_five_distance  round_five_clinch  \\\n",
       "0              NaN             NaN                  NaN                NaN   \n",
       "\n",
       "   round_five_ground  \n",
       "0                NaN  \n",
       "\n",
       "[1 rows x 171 columns]"
      ]
     },
     "execution_count": 3,
     "metadata": {},
     "output_type": "execute_result"
    }
   ],
   "source": [
    "# verify data was properly acquired\n",
    "ufc.head(1)"
   ]
  },
  {
   "cell_type": "code",
   "execution_count": 4,
   "id": "77ea3629",
   "metadata": {},
   "outputs": [
    {
     "data": {
      "text/plain": [
       "(12156, 171)"
      ]
     },
     "execution_count": 4,
     "metadata": {},
     "output_type": "execute_result"
    }
   ],
   "source": [
    "# check row/column shape\n",
    "ufc.shape"
   ]
  },
  {
   "cell_type": "markdown",
   "id": "cab31ecb",
   "metadata": {},
   "source": [
    "### The Plan"
   ]
  },
  {
   "cell_type": "markdown",
   "id": "d8485f69",
   "metadata": {},
   "source": [
    "This df has 172 columns. \n",
    "\n",
    "A lot of these columns are full of stats from that specific event, so since I will not have these stats prior to the fight, I won't want to use them as features. \n",
    "\n",
    "I will now create a df of stats that I can know before the fight that already exist like height/weight etc.. \n",
    "\n",
    "I'll clean and prepare the data. \n",
    "\n",
    "After that I can do some exploring and create an mvp,… \n",
    "\n",
    "I'll go back to the original df and do more exploration with the goal of creating new features from the stats from past fights that i can turn into averages for that fighter. \n",
    "\n",
    "I’ll redo the models with the new features. "
   ]
  },
  {
   "cell_type": "markdown",
   "id": "f89476ac",
   "metadata": {},
   "source": [
    "### Prepare"
   ]
  },
  {
   "cell_type": "code",
   "execution_count": 5,
   "id": "1b11ae6c",
   "metadata": {},
   "outputs": [],
   "source": [
    "# add the columns I would like to work with into a new df\n",
    "ufc_cleaned = ufc[['event_name', 'fullname', 'fighter_two_name', 'w', 'l', 'd', 'nc', 'total_rounds', 'belt', 'womens_bout', 'interim_bout', 'strawweight', 'flyweight', 'bantamweight', 'featherweight', 'lightweight', 'middleweight', 'light_heavyweight', 'heavyweight', 'catch_weight', 'open_weight', 'super_heavyweight', 'superfight', 'fight_city', 'fight_state', 'fight_country', 'height', 'weight', 'reach', 'stance', 'slpm', 'stracc', 'sapm', 'strdef', 'tdavg', 'tdacc', 'tddef', 'subavg', 'age_days', 'age']].copy(0)"
   ]
  },
  {
   "cell_type": "code",
   "execution_count": 6,
   "id": "2ccbe4d6",
   "metadata": {},
   "outputs": [
    {
     "data": {
      "text/html": [
       "<div>\n",
       "<style scoped>\n",
       "    .dataframe tbody tr th:only-of-type {\n",
       "        vertical-align: middle;\n",
       "    }\n",
       "\n",
       "    .dataframe tbody tr th {\n",
       "        vertical-align: top;\n",
       "    }\n",
       "\n",
       "    .dataframe thead th {\n",
       "        text-align: right;\n",
       "    }\n",
       "</style>\n",
       "<table border=\"1\" class=\"dataframe\">\n",
       "  <thead>\n",
       "    <tr style=\"text-align: right;\">\n",
       "      <th></th>\n",
       "      <th>event_name</th>\n",
       "      <th>fullname</th>\n",
       "      <th>fighter_two_name</th>\n",
       "      <th>w</th>\n",
       "      <th>l</th>\n",
       "      <th>d</th>\n",
       "      <th>nc</th>\n",
       "      <th>total_rounds</th>\n",
       "      <th>belt</th>\n",
       "      <th>womens_bout</th>\n",
       "      <th>...</th>\n",
       "      <th>slpm</th>\n",
       "      <th>stracc</th>\n",
       "      <th>sapm</th>\n",
       "      <th>strdef</th>\n",
       "      <th>tdavg</th>\n",
       "      <th>tdacc</th>\n",
       "      <th>tddef</th>\n",
       "      <th>subavg</th>\n",
       "      <th>age_days</th>\n",
       "      <th>age</th>\n",
       "    </tr>\n",
       "  </thead>\n",
       "  <tbody>\n",
       "    <tr>\n",
       "      <th>0</th>\n",
       "      <td>UFC 259: Blachowicz vs. Adesanya</td>\n",
       "      <td>Aalon Cruz</td>\n",
       "      <td>Uros Medic</td>\n",
       "      <td>0</td>\n",
       "      <td>1</td>\n",
       "      <td>0</td>\n",
       "      <td>0</td>\n",
       "      <td>3</td>\n",
       "      <td>0</td>\n",
       "      <td>0</td>\n",
       "      <td>...</td>\n",
       "      <td>7.58</td>\n",
       "      <td>39</td>\n",
       "      <td>8.88</td>\n",
       "      <td>58</td>\n",
       "      <td>0.00</td>\n",
       "      <td>0</td>\n",
       "      <td>0</td>\n",
       "      <td>0.00</td>\n",
       "      <td>11490</td>\n",
       "      <td>31.00</td>\n",
       "    </tr>\n",
       "    <tr>\n",
       "      <th>1</th>\n",
       "      <td>UFC Fight Night: Benavidez vs. Figueiredo</td>\n",
       "      <td>Aalon Cruz</td>\n",
       "      <td>Spike Carlyle</td>\n",
       "      <td>0</td>\n",
       "      <td>1</td>\n",
       "      <td>0</td>\n",
       "      <td>0</td>\n",
       "      <td>3</td>\n",
       "      <td>0</td>\n",
       "      <td>0</td>\n",
       "      <td>...</td>\n",
       "      <td>7.58</td>\n",
       "      <td>39</td>\n",
       "      <td>8.88</td>\n",
       "      <td>58</td>\n",
       "      <td>0.00</td>\n",
       "      <td>0</td>\n",
       "      <td>0</td>\n",
       "      <td>0.00</td>\n",
       "      <td>11119</td>\n",
       "      <td>30.00</td>\n",
       "    </tr>\n",
       "    <tr>\n",
       "      <th>2</th>\n",
       "      <td>UFC 28: High Stakes</td>\n",
       "      <td>Aaron Brink</td>\n",
       "      <td>Andrei Arlovski</td>\n",
       "      <td>0</td>\n",
       "      <td>1</td>\n",
       "      <td>0</td>\n",
       "      <td>0</td>\n",
       "      <td>3</td>\n",
       "      <td>0</td>\n",
       "      <td>0</td>\n",
       "      <td>...</td>\n",
       "      <td>3.49</td>\n",
       "      <td>42</td>\n",
       "      <td>5.71</td>\n",
       "      <td>57</td>\n",
       "      <td>0.00</td>\n",
       "      <td>0</td>\n",
       "      <td>0</td>\n",
       "      <td>0.00</td>\n",
       "      <td>9502</td>\n",
       "      <td>26.00</td>\n",
       "    </tr>\n",
       "    <tr>\n",
       "      <th>3</th>\n",
       "      <td>UFC Fight Night: Henderson vs Dos Anjos</td>\n",
       "      <td>Aaron Phillips</td>\n",
       "      <td>Matt Hobar</td>\n",
       "      <td>0</td>\n",
       "      <td>1</td>\n",
       "      <td>0</td>\n",
       "      <td>0</td>\n",
       "      <td>3</td>\n",
       "      <td>0</td>\n",
       "      <td>0</td>\n",
       "      <td>...</td>\n",
       "      <td>1.65</td>\n",
       "      <td>56</td>\n",
       "      <td>3.44</td>\n",
       "      <td>39</td>\n",
       "      <td>0.00</td>\n",
       "      <td>0</td>\n",
       "      <td>44</td>\n",
       "      <td>0.40</td>\n",
       "      <td>9149</td>\n",
       "      <td>25.00</td>\n",
       "    </tr>\n",
       "    <tr>\n",
       "      <th>4</th>\n",
       "      <td>UFC Fight Night: Kattar vs. Ige</td>\n",
       "      <td>Aaron Phillips</td>\n",
       "      <td>Jack Shore</td>\n",
       "      <td>0</td>\n",
       "      <td>1</td>\n",
       "      <td>0</td>\n",
       "      <td>0</td>\n",
       "      <td>3</td>\n",
       "      <td>0</td>\n",
       "      <td>0</td>\n",
       "      <td>...</td>\n",
       "      <td>1.65</td>\n",
       "      <td>56</td>\n",
       "      <td>3.44</td>\n",
       "      <td>39</td>\n",
       "      <td>0.00</td>\n",
       "      <td>0</td>\n",
       "      <td>44</td>\n",
       "      <td>0.40</td>\n",
       "      <td>11302</td>\n",
       "      <td>30.00</td>\n",
       "    </tr>\n",
       "  </tbody>\n",
       "</table>\n",
       "<p>5 rows × 40 columns</p>\n",
       "</div>"
      ],
      "text/plain": [
       "                                  event_name        fullname fighter_two_name  \\\n",
       "0           UFC 259: Blachowicz vs. Adesanya      Aalon Cruz       Uros Medic   \n",
       "1  UFC Fight Night: Benavidez vs. Figueiredo      Aalon Cruz    Spike Carlyle   \n",
       "2                        UFC 28: High Stakes     Aaron Brink  Andrei Arlovski   \n",
       "3    UFC Fight Night: Henderson vs Dos Anjos  Aaron Phillips       Matt Hobar   \n",
       "4            UFC Fight Night: Kattar vs. Ige  Aaron Phillips       Jack Shore   \n",
       "\n",
       "   w  l  d  nc  total_rounds  belt  womens_bout  ...  slpm  stracc  sapm  \\\n",
       "0  0  1  0   0             3     0            0  ...  7.58      39  8.88   \n",
       "1  0  1  0   0             3     0            0  ...  7.58      39  8.88   \n",
       "2  0  1  0   0             3     0            0  ...  3.49      42  5.71   \n",
       "3  0  1  0   0             3     0            0  ...  1.65      56  3.44   \n",
       "4  0  1  0   0             3     0            0  ...  1.65      56  3.44   \n",
       "\n",
       "   strdef  tdavg  tdacc  tddef  subavg  age_days   age  \n",
       "0      58   0.00      0      0    0.00     11490 31.00  \n",
       "1      58   0.00      0      0    0.00     11119 30.00  \n",
       "2      57   0.00      0      0    0.00      9502 26.00  \n",
       "3      39   0.00      0     44    0.40      9149 25.00  \n",
       "4      39   0.00      0     44    0.40     11302 30.00  \n",
       "\n",
       "[5 rows x 40 columns]"
      ]
     },
     "execution_count": 6,
     "metadata": {},
     "output_type": "execute_result"
    }
   ],
   "source": [
    "ufc_cleaned.head()"
   ]
  },
  {
   "cell_type": "code",
   "execution_count": 7,
   "id": "8c8244a5",
   "metadata": {},
   "outputs": [
    {
     "data": {
      "text/plain": [
       "(12156, 40)"
      ]
     },
     "execution_count": 7,
     "metadata": {},
     "output_type": "execute_result"
    }
   ],
   "source": [
    "ufc_cleaned.shape"
   ]
  },
  {
   "cell_type": "code",
   "execution_count": 8,
   "id": "b06cd3ea",
   "metadata": {},
   "outputs": [
    {
     "name": "stdout",
     "output_type": "stream",
     "text": [
      "(12156, 40)\n",
      "(12156, 40)\n"
     ]
    }
   ],
   "source": [
    "# Drop duplicates if any\n",
    "\n",
    "print(ufc_cleaned.shape)\n",
    "df = ufc_cleaned.drop_duplicates()\n",
    "print(ufc_cleaned.shape)"
   ]
  },
  {
   "cell_type": "markdown",
   "id": "7a2f72d8",
   "metadata": {},
   "source": [
    "There are no duplicates."
   ]
  },
  {
   "cell_type": "code",
   "execution_count": 9,
   "id": "72ee2b3a",
   "metadata": {},
   "outputs": [],
   "source": [
    "# combine w, l, d, nc into on target column called outcome"
   ]
  },
  {
   "cell_type": "code",
   "execution_count": 10,
   "id": "b31cf391",
   "metadata": {},
   "outputs": [],
   "source": [
    "cols = ['w', 'l', 'd', 'nc']\n",
    "ufc_cleaned['outcome'] = ufc_cleaned[cols].apply(lambda row: '_'.join(row.values.astype(str)), axis=1)"
   ]
  },
  {
   "cell_type": "code",
   "execution_count": 11,
   "id": "78a6f6cc",
   "metadata": {},
   "outputs": [
    {
     "data": {
      "text/html": [
       "<div>\n",
       "<style scoped>\n",
       "    .dataframe tbody tr th:only-of-type {\n",
       "        vertical-align: middle;\n",
       "    }\n",
       "\n",
       "    .dataframe tbody tr th {\n",
       "        vertical-align: top;\n",
       "    }\n",
       "\n",
       "    .dataframe thead th {\n",
       "        text-align: right;\n",
       "    }\n",
       "</style>\n",
       "<table border=\"1\" class=\"dataframe\">\n",
       "  <thead>\n",
       "    <tr style=\"text-align: right;\">\n",
       "      <th></th>\n",
       "      <th>event_name</th>\n",
       "      <th>fullname</th>\n",
       "      <th>fighter_two_name</th>\n",
       "      <th>w</th>\n",
       "      <th>l</th>\n",
       "      <th>d</th>\n",
       "      <th>nc</th>\n",
       "      <th>total_rounds</th>\n",
       "      <th>belt</th>\n",
       "      <th>womens_bout</th>\n",
       "      <th>...</th>\n",
       "      <th>stracc</th>\n",
       "      <th>sapm</th>\n",
       "      <th>strdef</th>\n",
       "      <th>tdavg</th>\n",
       "      <th>tdacc</th>\n",
       "      <th>tddef</th>\n",
       "      <th>subavg</th>\n",
       "      <th>age_days</th>\n",
       "      <th>age</th>\n",
       "      <th>outcome</th>\n",
       "    </tr>\n",
       "  </thead>\n",
       "  <tbody>\n",
       "    <tr>\n",
       "      <th>8808</th>\n",
       "      <td>UFC Fight Night: Covington vs. Woodley</td>\n",
       "      <td>Niko Price</td>\n",
       "      <td>Donald Cerrone</td>\n",
       "      <td>0</td>\n",
       "      <td>0</td>\n",
       "      <td>0</td>\n",
       "      <td>1</td>\n",
       "      <td>3</td>\n",
       "      <td>0</td>\n",
       "      <td>0</td>\n",
       "      <td>...</td>\n",
       "      <td>41</td>\n",
       "      <td>5.83</td>\n",
       "      <td>49</td>\n",
       "      <td>0.89</td>\n",
       "      <td>22</td>\n",
       "      <td>72</td>\n",
       "      <td>0.90</td>\n",
       "      <td>11313</td>\n",
       "      <td>30.00</td>\n",
       "      <td>0_0_0_1</td>\n",
       "    </tr>\n",
       "  </tbody>\n",
       "</table>\n",
       "<p>1 rows × 41 columns</p>\n",
       "</div>"
      ],
      "text/plain": [
       "                                  event_name    fullname fighter_two_name  w  \\\n",
       "8808  UFC Fight Night: Covington vs. Woodley  Niko Price   Donald Cerrone  0   \n",
       "\n",
       "      l  d  nc  total_rounds  belt  womens_bout  ...  stracc  sapm  strdef  \\\n",
       "8808  0  0   1             3     0            0  ...      41  5.83      49   \n",
       "\n",
       "      tdavg  tdacc  tddef  subavg  age_days   age  outcome  \n",
       "8808   0.89     22     72    0.90     11313 30.00  0_0_0_1  \n",
       "\n",
       "[1 rows x 41 columns]"
      ]
     },
     "execution_count": 11,
     "metadata": {},
     "output_type": "execute_result"
    }
   ],
   "source": [
    "ufc_cleaned.sample(1)"
   ]
  },
  {
   "cell_type": "code",
   "execution_count": 12,
   "id": "7ccdbf38",
   "metadata": {},
   "outputs": [],
   "source": [
    "# rename the labels in outcome to be human readable "
   ]
  },
  {
   "cell_type": "code",
   "execution_count": 13,
   "id": "e4ccdb85",
   "metadata": {},
   "outputs": [],
   "source": [
    "ufc_cleaned['outcome'].replace({'1_0_0_0': 'win', '0_1_0_0': 'loss', '0_0_1_0': 'draw', '0_0_0_1': 'no_contest'}, inplace=True)"
   ]
  },
  {
   "cell_type": "code",
   "execution_count": 14,
   "id": "641530f3",
   "metadata": {},
   "outputs": [
    {
     "data": {
      "text/html": [
       "<div>\n",
       "<style scoped>\n",
       "    .dataframe tbody tr th:only-of-type {\n",
       "        vertical-align: middle;\n",
       "    }\n",
       "\n",
       "    .dataframe tbody tr th {\n",
       "        vertical-align: top;\n",
       "    }\n",
       "\n",
       "    .dataframe thead th {\n",
       "        text-align: right;\n",
       "    }\n",
       "</style>\n",
       "<table border=\"1\" class=\"dataframe\">\n",
       "  <thead>\n",
       "    <tr style=\"text-align: right;\">\n",
       "      <th></th>\n",
       "      <th>event_name</th>\n",
       "      <th>fullname</th>\n",
       "      <th>fighter_two_name</th>\n",
       "      <th>w</th>\n",
       "      <th>l</th>\n",
       "      <th>d</th>\n",
       "      <th>nc</th>\n",
       "      <th>total_rounds</th>\n",
       "      <th>belt</th>\n",
       "      <th>womens_bout</th>\n",
       "      <th>...</th>\n",
       "      <th>stracc</th>\n",
       "      <th>sapm</th>\n",
       "      <th>strdef</th>\n",
       "      <th>tdavg</th>\n",
       "      <th>tdacc</th>\n",
       "      <th>tddef</th>\n",
       "      <th>subavg</th>\n",
       "      <th>age_days</th>\n",
       "      <th>age</th>\n",
       "      <th>outcome</th>\n",
       "    </tr>\n",
       "  </thead>\n",
       "  <tbody>\n",
       "    <tr>\n",
       "      <th>0</th>\n",
       "      <td>UFC 259: Blachowicz vs. Adesanya</td>\n",
       "      <td>Aalon Cruz</td>\n",
       "      <td>Uros Medic</td>\n",
       "      <td>0</td>\n",
       "      <td>1</td>\n",
       "      <td>0</td>\n",
       "      <td>0</td>\n",
       "      <td>3</td>\n",
       "      <td>0</td>\n",
       "      <td>0</td>\n",
       "      <td>...</td>\n",
       "      <td>39</td>\n",
       "      <td>8.88</td>\n",
       "      <td>58</td>\n",
       "      <td>0.00</td>\n",
       "      <td>0</td>\n",
       "      <td>0</td>\n",
       "      <td>0.00</td>\n",
       "      <td>11490</td>\n",
       "      <td>31.00</td>\n",
       "      <td>loss</td>\n",
       "    </tr>\n",
       "    <tr>\n",
       "      <th>1</th>\n",
       "      <td>UFC Fight Night: Benavidez vs. Figueiredo</td>\n",
       "      <td>Aalon Cruz</td>\n",
       "      <td>Spike Carlyle</td>\n",
       "      <td>0</td>\n",
       "      <td>1</td>\n",
       "      <td>0</td>\n",
       "      <td>0</td>\n",
       "      <td>3</td>\n",
       "      <td>0</td>\n",
       "      <td>0</td>\n",
       "      <td>...</td>\n",
       "      <td>39</td>\n",
       "      <td>8.88</td>\n",
       "      <td>58</td>\n",
       "      <td>0.00</td>\n",
       "      <td>0</td>\n",
       "      <td>0</td>\n",
       "      <td>0.00</td>\n",
       "      <td>11119</td>\n",
       "      <td>30.00</td>\n",
       "      <td>loss</td>\n",
       "    </tr>\n",
       "    <tr>\n",
       "      <th>2</th>\n",
       "      <td>UFC 28: High Stakes</td>\n",
       "      <td>Aaron Brink</td>\n",
       "      <td>Andrei Arlovski</td>\n",
       "      <td>0</td>\n",
       "      <td>1</td>\n",
       "      <td>0</td>\n",
       "      <td>0</td>\n",
       "      <td>3</td>\n",
       "      <td>0</td>\n",
       "      <td>0</td>\n",
       "      <td>...</td>\n",
       "      <td>42</td>\n",
       "      <td>5.71</td>\n",
       "      <td>57</td>\n",
       "      <td>0.00</td>\n",
       "      <td>0</td>\n",
       "      <td>0</td>\n",
       "      <td>0.00</td>\n",
       "      <td>9502</td>\n",
       "      <td>26.00</td>\n",
       "      <td>loss</td>\n",
       "    </tr>\n",
       "    <tr>\n",
       "      <th>3</th>\n",
       "      <td>UFC Fight Night: Henderson vs Dos Anjos</td>\n",
       "      <td>Aaron Phillips</td>\n",
       "      <td>Matt Hobar</td>\n",
       "      <td>0</td>\n",
       "      <td>1</td>\n",
       "      <td>0</td>\n",
       "      <td>0</td>\n",
       "      <td>3</td>\n",
       "      <td>0</td>\n",
       "      <td>0</td>\n",
       "      <td>...</td>\n",
       "      <td>56</td>\n",
       "      <td>3.44</td>\n",
       "      <td>39</td>\n",
       "      <td>0.00</td>\n",
       "      <td>0</td>\n",
       "      <td>44</td>\n",
       "      <td>0.40</td>\n",
       "      <td>9149</td>\n",
       "      <td>25.00</td>\n",
       "      <td>loss</td>\n",
       "    </tr>\n",
       "    <tr>\n",
       "      <th>4</th>\n",
       "      <td>UFC Fight Night: Kattar vs. Ige</td>\n",
       "      <td>Aaron Phillips</td>\n",
       "      <td>Jack Shore</td>\n",
       "      <td>0</td>\n",
       "      <td>1</td>\n",
       "      <td>0</td>\n",
       "      <td>0</td>\n",
       "      <td>3</td>\n",
       "      <td>0</td>\n",
       "      <td>0</td>\n",
       "      <td>...</td>\n",
       "      <td>56</td>\n",
       "      <td>3.44</td>\n",
       "      <td>39</td>\n",
       "      <td>0.00</td>\n",
       "      <td>0</td>\n",
       "      <td>44</td>\n",
       "      <td>0.40</td>\n",
       "      <td>11302</td>\n",
       "      <td>30.00</td>\n",
       "      <td>loss</td>\n",
       "    </tr>\n",
       "  </tbody>\n",
       "</table>\n",
       "<p>5 rows × 41 columns</p>\n",
       "</div>"
      ],
      "text/plain": [
       "                                  event_name        fullname fighter_two_name  \\\n",
       "0           UFC 259: Blachowicz vs. Adesanya      Aalon Cruz       Uros Medic   \n",
       "1  UFC Fight Night: Benavidez vs. Figueiredo      Aalon Cruz    Spike Carlyle   \n",
       "2                        UFC 28: High Stakes     Aaron Brink  Andrei Arlovski   \n",
       "3    UFC Fight Night: Henderson vs Dos Anjos  Aaron Phillips       Matt Hobar   \n",
       "4            UFC Fight Night: Kattar vs. Ige  Aaron Phillips       Jack Shore   \n",
       "\n",
       "   w  l  d  nc  total_rounds  belt  womens_bout  ...  stracc  sapm  strdef  \\\n",
       "0  0  1  0   0             3     0            0  ...      39  8.88      58   \n",
       "1  0  1  0   0             3     0            0  ...      39  8.88      58   \n",
       "2  0  1  0   0             3     0            0  ...      42  5.71      57   \n",
       "3  0  1  0   0             3     0            0  ...      56  3.44      39   \n",
       "4  0  1  0   0             3     0            0  ...      56  3.44      39   \n",
       "\n",
       "   tdavg  tdacc  tddef  subavg  age_days   age  outcome  \n",
       "0   0.00      0      0    0.00     11490 31.00     loss  \n",
       "1   0.00      0      0    0.00     11119 30.00     loss  \n",
       "2   0.00      0      0    0.00      9502 26.00     loss  \n",
       "3   0.00      0     44    0.40      9149 25.00     loss  \n",
       "4   0.00      0     44    0.40     11302 30.00     loss  \n",
       "\n",
       "[5 rows x 41 columns]"
      ]
     },
     "execution_count": 14,
     "metadata": {},
     "output_type": "execute_result"
    }
   ],
   "source": [
    "ufc_cleaned.head()"
   ]
  },
  {
   "cell_type": "code",
   "execution_count": 15,
   "id": "23aed846",
   "metadata": {},
   "outputs": [],
   "source": [
    "# rename fullname and fighter_two_name to fighter and opponent respectively"
   ]
  },
  {
   "cell_type": "code",
   "execution_count": 16,
   "id": "fd410f08",
   "metadata": {},
   "outputs": [],
   "source": [
    "ufc_cleaned.rename(columns={'fullname': 'fighter', 'fighter_two_name': 'opponent'}, inplace=True)"
   ]
  },
  {
   "cell_type": "code",
   "execution_count": 17,
   "id": "b35ba845",
   "metadata": {
    "scrolled": true
   },
   "outputs": [
    {
     "data": {
      "text/html": [
       "<div>\n",
       "<style scoped>\n",
       "    .dataframe tbody tr th:only-of-type {\n",
       "        vertical-align: middle;\n",
       "    }\n",
       "\n",
       "    .dataframe tbody tr th {\n",
       "        vertical-align: top;\n",
       "    }\n",
       "\n",
       "    .dataframe thead th {\n",
       "        text-align: right;\n",
       "    }\n",
       "</style>\n",
       "<table border=\"1\" class=\"dataframe\">\n",
       "  <thead>\n",
       "    <tr style=\"text-align: right;\">\n",
       "      <th></th>\n",
       "      <th>event_name</th>\n",
       "      <th>fighter</th>\n",
       "      <th>opponent</th>\n",
       "      <th>w</th>\n",
       "      <th>l</th>\n",
       "      <th>d</th>\n",
       "      <th>nc</th>\n",
       "      <th>total_rounds</th>\n",
       "      <th>belt</th>\n",
       "      <th>womens_bout</th>\n",
       "      <th>...</th>\n",
       "      <th>stracc</th>\n",
       "      <th>sapm</th>\n",
       "      <th>strdef</th>\n",
       "      <th>tdavg</th>\n",
       "      <th>tdacc</th>\n",
       "      <th>tddef</th>\n",
       "      <th>subavg</th>\n",
       "      <th>age_days</th>\n",
       "      <th>age</th>\n",
       "      <th>outcome</th>\n",
       "    </tr>\n",
       "  </thead>\n",
       "  <tbody>\n",
       "    <tr>\n",
       "      <th>0</th>\n",
       "      <td>UFC 259: Blachowicz vs. Adesanya</td>\n",
       "      <td>Aalon Cruz</td>\n",
       "      <td>Uros Medic</td>\n",
       "      <td>0</td>\n",
       "      <td>1</td>\n",
       "      <td>0</td>\n",
       "      <td>0</td>\n",
       "      <td>3</td>\n",
       "      <td>0</td>\n",
       "      <td>0</td>\n",
       "      <td>...</td>\n",
       "      <td>39</td>\n",
       "      <td>8.88</td>\n",
       "      <td>58</td>\n",
       "      <td>0.00</td>\n",
       "      <td>0</td>\n",
       "      <td>0</td>\n",
       "      <td>0.00</td>\n",
       "      <td>11490</td>\n",
       "      <td>31.00</td>\n",
       "      <td>loss</td>\n",
       "    </tr>\n",
       "    <tr>\n",
       "      <th>1</th>\n",
       "      <td>UFC Fight Night: Benavidez vs. Figueiredo</td>\n",
       "      <td>Aalon Cruz</td>\n",
       "      <td>Spike Carlyle</td>\n",
       "      <td>0</td>\n",
       "      <td>1</td>\n",
       "      <td>0</td>\n",
       "      <td>0</td>\n",
       "      <td>3</td>\n",
       "      <td>0</td>\n",
       "      <td>0</td>\n",
       "      <td>...</td>\n",
       "      <td>39</td>\n",
       "      <td>8.88</td>\n",
       "      <td>58</td>\n",
       "      <td>0.00</td>\n",
       "      <td>0</td>\n",
       "      <td>0</td>\n",
       "      <td>0.00</td>\n",
       "      <td>11119</td>\n",
       "      <td>30.00</td>\n",
       "      <td>loss</td>\n",
       "    </tr>\n",
       "    <tr>\n",
       "      <th>2</th>\n",
       "      <td>UFC 28: High Stakes</td>\n",
       "      <td>Aaron Brink</td>\n",
       "      <td>Andrei Arlovski</td>\n",
       "      <td>0</td>\n",
       "      <td>1</td>\n",
       "      <td>0</td>\n",
       "      <td>0</td>\n",
       "      <td>3</td>\n",
       "      <td>0</td>\n",
       "      <td>0</td>\n",
       "      <td>...</td>\n",
       "      <td>42</td>\n",
       "      <td>5.71</td>\n",
       "      <td>57</td>\n",
       "      <td>0.00</td>\n",
       "      <td>0</td>\n",
       "      <td>0</td>\n",
       "      <td>0.00</td>\n",
       "      <td>9502</td>\n",
       "      <td>26.00</td>\n",
       "      <td>loss</td>\n",
       "    </tr>\n",
       "    <tr>\n",
       "      <th>3</th>\n",
       "      <td>UFC Fight Night: Henderson vs Dos Anjos</td>\n",
       "      <td>Aaron Phillips</td>\n",
       "      <td>Matt Hobar</td>\n",
       "      <td>0</td>\n",
       "      <td>1</td>\n",
       "      <td>0</td>\n",
       "      <td>0</td>\n",
       "      <td>3</td>\n",
       "      <td>0</td>\n",
       "      <td>0</td>\n",
       "      <td>...</td>\n",
       "      <td>56</td>\n",
       "      <td>3.44</td>\n",
       "      <td>39</td>\n",
       "      <td>0.00</td>\n",
       "      <td>0</td>\n",
       "      <td>44</td>\n",
       "      <td>0.40</td>\n",
       "      <td>9149</td>\n",
       "      <td>25.00</td>\n",
       "      <td>loss</td>\n",
       "    </tr>\n",
       "    <tr>\n",
       "      <th>4</th>\n",
       "      <td>UFC Fight Night: Kattar vs. Ige</td>\n",
       "      <td>Aaron Phillips</td>\n",
       "      <td>Jack Shore</td>\n",
       "      <td>0</td>\n",
       "      <td>1</td>\n",
       "      <td>0</td>\n",
       "      <td>0</td>\n",
       "      <td>3</td>\n",
       "      <td>0</td>\n",
       "      <td>0</td>\n",
       "      <td>...</td>\n",
       "      <td>56</td>\n",
       "      <td>3.44</td>\n",
       "      <td>39</td>\n",
       "      <td>0.00</td>\n",
       "      <td>0</td>\n",
       "      <td>44</td>\n",
       "      <td>0.40</td>\n",
       "      <td>11302</td>\n",
       "      <td>30.00</td>\n",
       "      <td>loss</td>\n",
       "    </tr>\n",
       "  </tbody>\n",
       "</table>\n",
       "<p>5 rows × 41 columns</p>\n",
       "</div>"
      ],
      "text/plain": [
       "                                  event_name         fighter         opponent  \\\n",
       "0           UFC 259: Blachowicz vs. Adesanya      Aalon Cruz       Uros Medic   \n",
       "1  UFC Fight Night: Benavidez vs. Figueiredo      Aalon Cruz    Spike Carlyle   \n",
       "2                        UFC 28: High Stakes     Aaron Brink  Andrei Arlovski   \n",
       "3    UFC Fight Night: Henderson vs Dos Anjos  Aaron Phillips       Matt Hobar   \n",
       "4            UFC Fight Night: Kattar vs. Ige  Aaron Phillips       Jack Shore   \n",
       "\n",
       "   w  l  d  nc  total_rounds  belt  womens_bout  ...  stracc  sapm  strdef  \\\n",
       "0  0  1  0   0             3     0            0  ...      39  8.88      58   \n",
       "1  0  1  0   0             3     0            0  ...      39  8.88      58   \n",
       "2  0  1  0   0             3     0            0  ...      42  5.71      57   \n",
       "3  0  1  0   0             3     0            0  ...      56  3.44      39   \n",
       "4  0  1  0   0             3     0            0  ...      56  3.44      39   \n",
       "\n",
       "   tdavg  tdacc  tddef  subavg  age_days   age  outcome  \n",
       "0   0.00      0      0    0.00     11490 31.00     loss  \n",
       "1   0.00      0      0    0.00     11119 30.00     loss  \n",
       "2   0.00      0      0    0.00      9502 26.00     loss  \n",
       "3   0.00      0     44    0.40      9149 25.00     loss  \n",
       "4   0.00      0     44    0.40     11302 30.00     loss  \n",
       "\n",
       "[5 rows x 41 columns]"
      ]
     },
     "execution_count": 17,
     "metadata": {},
     "output_type": "execute_result"
    }
   ],
   "source": [
    "ufc_cleaned.head()"
   ]
  },
  {
   "cell_type": "code",
   "execution_count": 18,
   "id": "fb21bb2d",
   "metadata": {},
   "outputs": [
    {
     "data": {
      "text/plain": [
       "event_name            object\n",
       "fighter               object\n",
       "opponent              object\n",
       "w                      int64\n",
       "l                      int64\n",
       "d                      int64\n",
       "nc                     int64\n",
       "total_rounds           int64\n",
       "belt                   int64\n",
       "womens_bout            int64\n",
       "interim_bout           int64\n",
       "strawweight            int64\n",
       "flyweight              int64\n",
       "bantamweight           int64\n",
       "featherweight          int64\n",
       "lightweight            int64\n",
       "middleweight           int64\n",
       "light_heavyweight      int64\n",
       "heavyweight            int64\n",
       "catch_weight           int64\n",
       "open_weight            int64\n",
       "super_heavyweight      int64\n",
       "superfight             int64\n",
       "fight_city            object\n",
       "fight_state           object\n",
       "fight_country         object\n",
       "height                object\n",
       "weight               float64\n",
       "reach                float64\n",
       "stance                object\n",
       "slpm                 float64\n",
       "stracc                 int64\n",
       "sapm                 float64\n",
       "strdef                 int64\n",
       "tdavg                float64\n",
       "tdacc                  int64\n",
       "tddef                  int64\n",
       "subavg               float64\n",
       "age_days               int64\n",
       "age                  float64\n",
       "outcome               object\n",
       "dtype: object"
      ]
     },
     "execution_count": 18,
     "metadata": {},
     "output_type": "execute_result"
    }
   ],
   "source": [
    "ufc_cleaned.dtypes"
   ]
  },
  {
   "cell_type": "markdown",
   "id": "050e7f5b",
   "metadata": {},
   "source": [
    "I want to convert height to a float value. I will also convert it to inches to make it more workable. "
   ]
  },
  {
   "cell_type": "code",
   "execution_count": 19,
   "id": "5fdc4635",
   "metadata": {},
   "outputs": [],
   "source": [
    "# check the min and max vals for height"
   ]
  },
  {
   "cell_type": "code",
   "execution_count": 20,
   "id": "cc8b755b",
   "metadata": {},
   "outputs": [
    {
     "data": {
      "text/plain": [
       "'--'"
      ]
     },
     "execution_count": 20,
     "metadata": {},
     "output_type": "execute_result"
    }
   ],
   "source": [
    "ufc_cleaned.height.min()"
   ]
  },
  {
   "cell_type": "code",
   "execution_count": 21,
   "id": "fb11697d",
   "metadata": {},
   "outputs": [
    {
     "data": {
      "text/plain": [
       "'6\\' 8\"'"
      ]
     },
     "execution_count": 21,
     "metadata": {},
     "output_type": "execute_result"
    }
   ],
   "source": [
    "ufc_cleaned.height.max()"
   ]
  },
  {
   "cell_type": "code",
   "execution_count": 22,
   "id": "4b35a274",
   "metadata": {},
   "outputs": [],
   "source": [
    "# replace the -- with 0' 0\" so my function below will work"
   ]
  },
  {
   "cell_type": "code",
   "execution_count": 23,
   "id": "b05e3f88",
   "metadata": {},
   "outputs": [],
   "source": [
    "ufc_cleaned['height'].replace({'--': \"0' 0\\\"\"}, inplace=True)"
   ]
  },
  {
   "cell_type": "code",
   "execution_count": 24,
   "id": "82862dac",
   "metadata": {},
   "outputs": [
    {
     "data": {
      "text/plain": [
       "'0\\' 0\"'"
      ]
     },
     "execution_count": 24,
     "metadata": {},
     "output_type": "execute_result"
    }
   ],
   "source": [
    "ufc_cleaned.height.min()"
   ]
  },
  {
   "cell_type": "code",
   "execution_count": 28,
   "id": "bb1eab1d",
   "metadata": {},
   "outputs": [],
   "source": [
    "# convert ft to in"
   ]
  },
  {
   "cell_type": "code",
   "execution_count": 36,
   "id": "c43da254",
   "metadata": {},
   "outputs": [],
   "source": [
    "def parse_ht(ht):\n",
    "    # format: 7' 0.0\"\n",
    "    ht_ = ht.split(\"' \")\n",
    "    ft_ = float(ht_[0])\n",
    "    in_ = float(ht_[1].replace(\"\\\"\",\"\"))\n",
    "    return (12*ft_) + in_\n",
    "\n"
   ]
  },
  {
   "cell_type": "code",
   "execution_count": 30,
   "id": "70c65147",
   "metadata": {},
   "outputs": [],
   "source": [
    "# apply parse_ht"
   ]
  },
  {
   "cell_type": "code",
   "execution_count": 31,
   "id": "babaf468",
   "metadata": {},
   "outputs": [],
   "source": [
    "ufc_cleaned[\"height_in\"] = ufc_cleaned[\"height\"].apply(lambda x:parse_ht(x))"
   ]
  },
  {
   "cell_type": "code",
   "execution_count": 32,
   "id": "f79f16f9",
   "metadata": {},
   "outputs": [
    {
     "data": {
      "text/html": [
       "<div>\n",
       "<style scoped>\n",
       "    .dataframe tbody tr th:only-of-type {\n",
       "        vertical-align: middle;\n",
       "    }\n",
       "\n",
       "    .dataframe tbody tr th {\n",
       "        vertical-align: top;\n",
       "    }\n",
       "\n",
       "    .dataframe thead th {\n",
       "        text-align: right;\n",
       "    }\n",
       "</style>\n",
       "<table border=\"1\" class=\"dataframe\">\n",
       "  <thead>\n",
       "    <tr style=\"text-align: right;\">\n",
       "      <th></th>\n",
       "      <th>event_name</th>\n",
       "      <th>fighter</th>\n",
       "      <th>opponent</th>\n",
       "      <th>w</th>\n",
       "      <th>l</th>\n",
       "      <th>d</th>\n",
       "      <th>nc</th>\n",
       "      <th>total_rounds</th>\n",
       "      <th>belt</th>\n",
       "      <th>womens_bout</th>\n",
       "      <th>...</th>\n",
       "      <th>sapm</th>\n",
       "      <th>strdef</th>\n",
       "      <th>tdavg</th>\n",
       "      <th>tdacc</th>\n",
       "      <th>tddef</th>\n",
       "      <th>subavg</th>\n",
       "      <th>age_days</th>\n",
       "      <th>age</th>\n",
       "      <th>outcome</th>\n",
       "      <th>height_in</th>\n",
       "    </tr>\n",
       "  </thead>\n",
       "  <tbody>\n",
       "    <tr>\n",
       "      <th>0</th>\n",
       "      <td>UFC 259: Blachowicz vs. Adesanya</td>\n",
       "      <td>Aalon Cruz</td>\n",
       "      <td>Uros Medic</td>\n",
       "      <td>0</td>\n",
       "      <td>1</td>\n",
       "      <td>0</td>\n",
       "      <td>0</td>\n",
       "      <td>3</td>\n",
       "      <td>0</td>\n",
       "      <td>0</td>\n",
       "      <td>...</td>\n",
       "      <td>8.88</td>\n",
       "      <td>58</td>\n",
       "      <td>0.00</td>\n",
       "      <td>0</td>\n",
       "      <td>0</td>\n",
       "      <td>0.00</td>\n",
       "      <td>11490</td>\n",
       "      <td>31.00</td>\n",
       "      <td>loss</td>\n",
       "      <td>72.00</td>\n",
       "    </tr>\n",
       "  </tbody>\n",
       "</table>\n",
       "<p>1 rows × 42 columns</p>\n",
       "</div>"
      ],
      "text/plain": [
       "                         event_name     fighter    opponent  w  l  d  nc  \\\n",
       "0  UFC 259: Blachowicz vs. Adesanya  Aalon Cruz  Uros Medic  0  1  0   0   \n",
       "\n",
       "   total_rounds  belt  womens_bout  ...  sapm  strdef  tdavg  tdacc  tddef  \\\n",
       "0             3     0            0  ...  8.88      58   0.00      0      0   \n",
       "\n",
       "   subavg  age_days   age  outcome  height_in  \n",
       "0    0.00     11490 31.00     loss      72.00  \n",
       "\n",
       "[1 rows x 42 columns]"
      ]
     },
     "execution_count": 32,
     "metadata": {},
     "output_type": "execute_result"
    }
   ],
   "source": [
    "ufc_cleaned.head(1)"
   ]
  },
  {
   "cell_type": "code",
   "execution_count": 42,
   "id": "1cfeb67a",
   "metadata": {},
   "outputs": [],
   "source": [
    "# convert float to int"
   ]
  },
  {
   "cell_type": "code",
   "execution_count": 40,
   "id": "c4f16450",
   "metadata": {},
   "outputs": [],
   "source": [
    "ufc_cleaned['height_in'] = ufc_cleaned.height_in.astype(int) "
   ]
  },
  {
   "cell_type": "code",
   "execution_count": 41,
   "id": "a5acf64f",
   "metadata": {},
   "outputs": [
    {
     "data": {
      "text/plain": [
       "0    72\n",
       "1    72\n",
       "2    75\n",
       "3    69\n",
       "4    69\n",
       "Name: height_in, dtype: int64"
      ]
     },
     "execution_count": 41,
     "metadata": {},
     "output_type": "execute_result"
    }
   ],
   "source": [
    "ufc_cleaned.height_in.head()"
   ]
  },
  {
   "cell_type": "code",
   "execution_count": 55,
   "id": "af157f0d",
   "metadata": {},
   "outputs": [],
   "source": [
    "# check for nulls"
   ]
  },
  {
   "cell_type": "code",
   "execution_count": 56,
   "id": "62c69692",
   "metadata": {},
   "outputs": [
    {
     "data": {
      "text/plain": [
       "event_name              0\n",
       "fighter                 0\n",
       "opponent                0\n",
       "w                       0\n",
       "l                       0\n",
       "d                       0\n",
       "nc                      0\n",
       "total_rounds            0\n",
       "belt                    0\n",
       "womens_bout             0\n",
       "interim_bout            0\n",
       "strawweight             0\n",
       "flyweight               0\n",
       "bantamweight            0\n",
       "featherweight           0\n",
       "lightweight             0\n",
       "middleweight            0\n",
       "light_heavyweight       0\n",
       "heavyweight             0\n",
       "catch_weight            0\n",
       "open_weight             0\n",
       "super_heavyweight       0\n",
       "superfight              0\n",
       "fight_city              0\n",
       "fight_state          1011\n",
       "fight_country           0\n",
       "height                  0\n",
       "weight                 13\n",
       "reach                1292\n",
       "stance                 95\n",
       "slpm                    0\n",
       "stracc                  0\n",
       "sapm                    0\n",
       "strdef                  0\n",
       "tdavg                   0\n",
       "tdacc                   0\n",
       "tddef                   0\n",
       "subavg                  0\n",
       "age_days                0\n",
       "age                   238\n",
       "outcome                 0\n",
       "height_in               0\n",
       "stance_Orthodox         0\n",
       "stance_Sideways         0\n",
       "stance_Southpaw         0\n",
       "stance_Switch           0\n",
       "dtype: int64"
      ]
     },
     "execution_count": 56,
     "metadata": {},
     "output_type": "execute_result"
    }
   ],
   "source": [
    "ufc_cleaned.isnull().sum()"
   ]
  },
  {
   "cell_type": "code",
   "execution_count": 57,
   "id": "231dccaf",
   "metadata": {},
   "outputs": [],
   "source": [
    "# fill fight_state null values with the mode which is Navada"
   ]
  },
  {
   "cell_type": "code",
   "execution_count": 58,
   "id": "b21297f7",
   "metadata": {},
   "outputs": [],
   "source": [
    "ufc_cleaned['fight_state'] = ufc_cleaned.fight_state.fillna(ufc_cleaned.fight_state.mode()[0])"
   ]
  },
  {
   "cell_type": "code",
   "execution_count": 59,
   "id": "d73989ec",
   "metadata": {},
   "outputs": [
    {
     "data": {
      "text/plain": [
       "event_name              0\n",
       "fighter                 0\n",
       "opponent                0\n",
       "w                       0\n",
       "l                       0\n",
       "d                       0\n",
       "nc                      0\n",
       "total_rounds            0\n",
       "belt                    0\n",
       "womens_bout             0\n",
       "interim_bout            0\n",
       "strawweight             0\n",
       "flyweight               0\n",
       "bantamweight            0\n",
       "featherweight           0\n",
       "lightweight             0\n",
       "middleweight            0\n",
       "light_heavyweight       0\n",
       "heavyweight             0\n",
       "catch_weight            0\n",
       "open_weight             0\n",
       "super_heavyweight       0\n",
       "superfight              0\n",
       "fight_city              0\n",
       "fight_state             0\n",
       "fight_country           0\n",
       "height                  0\n",
       "weight                 13\n",
       "reach                1292\n",
       "stance                 95\n",
       "slpm                    0\n",
       "stracc                  0\n",
       "sapm                    0\n",
       "strdef                  0\n",
       "tdavg                   0\n",
       "tdacc                   0\n",
       "tddef                   0\n",
       "subavg                  0\n",
       "age_days                0\n",
       "age                   238\n",
       "outcome                 0\n",
       "height_in               0\n",
       "stance_Orthodox         0\n",
       "stance_Sideways         0\n",
       "stance_Southpaw         0\n",
       "stance_Switch           0\n",
       "dtype: int64"
      ]
     },
     "execution_count": 59,
     "metadata": {},
     "output_type": "execute_result"
    }
   ],
   "source": [
    "ufc_cleaned.isnull().sum()"
   ]
  },
  {
   "cell_type": "code",
   "execution_count": 60,
   "id": "daaa16f8",
   "metadata": {},
   "outputs": [],
   "source": [
    "# drop null rows in weight column"
   ]
  },
  {
   "cell_type": "code",
   "execution_count": 61,
   "id": "c43fffa2",
   "metadata": {},
   "outputs": [],
   "source": [
    "ufc_cleaned = ufc_cleaned[ufc_cleaned.weight.notnull()]"
   ]
  },
  {
   "cell_type": "code",
   "execution_count": 62,
   "id": "ff991f56",
   "metadata": {},
   "outputs": [
    {
     "data": {
      "text/plain": [
       "event_name              0\n",
       "fighter                 0\n",
       "opponent                0\n",
       "w                       0\n",
       "l                       0\n",
       "d                       0\n",
       "nc                      0\n",
       "total_rounds            0\n",
       "belt                    0\n",
       "womens_bout             0\n",
       "interim_bout            0\n",
       "strawweight             0\n",
       "flyweight               0\n",
       "bantamweight            0\n",
       "featherweight           0\n",
       "lightweight             0\n",
       "middleweight            0\n",
       "light_heavyweight       0\n",
       "heavyweight             0\n",
       "catch_weight            0\n",
       "open_weight             0\n",
       "super_heavyweight       0\n",
       "superfight              0\n",
       "fight_city              0\n",
       "fight_state             0\n",
       "fight_country           0\n",
       "height                  0\n",
       "weight                  0\n",
       "reach                1279\n",
       "stance                 84\n",
       "slpm                    0\n",
       "stracc                  0\n",
       "sapm                    0\n",
       "strdef                  0\n",
       "tdavg                   0\n",
       "tdacc                   0\n",
       "tddef                   0\n",
       "subavg                  0\n",
       "age_days                0\n",
       "age                   225\n",
       "outcome                 0\n",
       "height_in               0\n",
       "stance_Orthodox         0\n",
       "stance_Sideways         0\n",
       "stance_Southpaw         0\n",
       "stance_Switch           0\n",
       "dtype: int64"
      ]
     },
     "execution_count": 62,
     "metadata": {},
     "output_type": "execute_result"
    }
   ],
   "source": [
    "ufc_cleaned.isnull().sum()"
   ]
  },
  {
   "cell_type": "code",
   "execution_count": 63,
   "id": "69511d91",
   "metadata": {},
   "outputs": [],
   "source": [
    "# drop null rows in reach column"
   ]
  },
  {
   "cell_type": "code",
   "execution_count": 64,
   "id": "e19ce852",
   "metadata": {},
   "outputs": [],
   "source": [
    "ufc_cleaned = ufc_cleaned[ufc_cleaned.reach.notnull()]"
   ]
  },
  {
   "cell_type": "code",
   "execution_count": 65,
   "id": "635f8a28",
   "metadata": {},
   "outputs": [
    {
     "data": {
      "text/plain": [
       "event_name            0\n",
       "fighter               0\n",
       "opponent              0\n",
       "w                     0\n",
       "l                     0\n",
       "d                     0\n",
       "nc                    0\n",
       "total_rounds          0\n",
       "belt                  0\n",
       "womens_bout           0\n",
       "interim_bout          0\n",
       "strawweight           0\n",
       "flyweight             0\n",
       "bantamweight          0\n",
       "featherweight         0\n",
       "lightweight           0\n",
       "middleweight          0\n",
       "light_heavyweight     0\n",
       "heavyweight           0\n",
       "catch_weight          0\n",
       "open_weight           0\n",
       "super_heavyweight     0\n",
       "superfight            0\n",
       "fight_city            0\n",
       "fight_state           0\n",
       "fight_country         0\n",
       "height                0\n",
       "weight                0\n",
       "reach                 0\n",
       "stance               12\n",
       "slpm                  0\n",
       "stracc                0\n",
       "sapm                  0\n",
       "strdef                0\n",
       "tdavg                 0\n",
       "tdacc                 0\n",
       "tddef                 0\n",
       "subavg                0\n",
       "age_days              0\n",
       "age                  11\n",
       "outcome               0\n",
       "height_in             0\n",
       "stance_Orthodox       0\n",
       "stance_Sideways       0\n",
       "stance_Southpaw       0\n",
       "stance_Switch         0\n",
       "dtype: int64"
      ]
     },
     "execution_count": 65,
     "metadata": {},
     "output_type": "execute_result"
    }
   ],
   "source": [
    "ufc_cleaned.isnull().sum()"
   ]
  },
  {
   "cell_type": "code",
   "execution_count": 66,
   "id": "a5c25c53",
   "metadata": {},
   "outputs": [],
   "source": [
    "# drop null rows in stance column"
   ]
  },
  {
   "cell_type": "code",
   "execution_count": 67,
   "id": "56418251",
   "metadata": {},
   "outputs": [],
   "source": [
    "ufc_cleaned = ufc_cleaned[ufc_cleaned.stance.notnull()]"
   ]
  },
  {
   "cell_type": "code",
   "execution_count": 68,
   "id": "8b4d5265",
   "metadata": {},
   "outputs": [],
   "source": [
    "# drop null rows in age column"
   ]
  },
  {
   "cell_type": "code",
   "execution_count": 69,
   "id": "39fb362a",
   "metadata": {},
   "outputs": [],
   "source": [
    "ufc_cleaned = ufc_cleaned[ufc_cleaned.age.notnull()]"
   ]
  },
  {
   "cell_type": "code",
   "execution_count": 70,
   "id": "f2ead227",
   "metadata": {},
   "outputs": [
    {
     "data": {
      "text/plain": [
       "event_name           0\n",
       "fighter              0\n",
       "opponent             0\n",
       "w                    0\n",
       "l                    0\n",
       "d                    0\n",
       "nc                   0\n",
       "total_rounds         0\n",
       "belt                 0\n",
       "womens_bout          0\n",
       "interim_bout         0\n",
       "strawweight          0\n",
       "flyweight            0\n",
       "bantamweight         0\n",
       "featherweight        0\n",
       "lightweight          0\n",
       "middleweight         0\n",
       "light_heavyweight    0\n",
       "heavyweight          0\n",
       "catch_weight         0\n",
       "open_weight          0\n",
       "super_heavyweight    0\n",
       "superfight           0\n",
       "fight_city           0\n",
       "fight_state          0\n",
       "fight_country        0\n",
       "height               0\n",
       "weight               0\n",
       "reach                0\n",
       "stance               0\n",
       "slpm                 0\n",
       "stracc               0\n",
       "sapm                 0\n",
       "strdef               0\n",
       "tdavg                0\n",
       "tdacc                0\n",
       "tddef                0\n",
       "subavg               0\n",
       "age_days             0\n",
       "age                  0\n",
       "outcome              0\n",
       "height_in            0\n",
       "stance_Orthodox      0\n",
       "stance_Sideways      0\n",
       "stance_Southpaw      0\n",
       "stance_Switch        0\n",
       "dtype: int64"
      ]
     },
     "execution_count": 70,
     "metadata": {},
     "output_type": "execute_result"
    }
   ],
   "source": [
    "ufc_cleaned.isnull().sum()"
   ]
  },
  {
   "cell_type": "code",
   "execution_count": 71,
   "id": "0916daf8",
   "metadata": {},
   "outputs": [],
   "source": [
    "# drop null rows in fight_country column"
   ]
  },
  {
   "cell_type": "code",
   "execution_count": 72,
   "id": "a3b8f8b7",
   "metadata": {},
   "outputs": [],
   "source": [
    "ufc_cleaned = ufc_cleaned[ufc_cleaned.fight_country.notnull()]"
   ]
  },
  {
   "cell_type": "code",
   "execution_count": 73,
   "id": "1e788f09",
   "metadata": {},
   "outputs": [
    {
     "data": {
      "text/plain": [
       "event_name           0\n",
       "fighter              0\n",
       "opponent             0\n",
       "w                    0\n",
       "l                    0\n",
       "d                    0\n",
       "nc                   0\n",
       "total_rounds         0\n",
       "belt                 0\n",
       "womens_bout          0\n",
       "interim_bout         0\n",
       "strawweight          0\n",
       "flyweight            0\n",
       "bantamweight         0\n",
       "featherweight        0\n",
       "lightweight          0\n",
       "middleweight         0\n",
       "light_heavyweight    0\n",
       "heavyweight          0\n",
       "catch_weight         0\n",
       "open_weight          0\n",
       "super_heavyweight    0\n",
       "superfight           0\n",
       "fight_city           0\n",
       "fight_state          0\n",
       "fight_country        0\n",
       "height               0\n",
       "weight               0\n",
       "reach                0\n",
       "stance               0\n",
       "slpm                 0\n",
       "stracc               0\n",
       "sapm                 0\n",
       "strdef               0\n",
       "tdavg                0\n",
       "tdacc                0\n",
       "tddef                0\n",
       "subavg               0\n",
       "age_days             0\n",
       "age                  0\n",
       "outcome              0\n",
       "height_in            0\n",
       "stance_Orthodox      0\n",
       "stance_Sideways      0\n",
       "stance_Southpaw      0\n",
       "stance_Switch        0\n",
       "dtype: int64"
      ]
     },
     "execution_count": 73,
     "metadata": {},
     "output_type": "execute_result"
    }
   ],
   "source": [
    "ufc_cleaned.isnull().sum()"
   ]
  },
  {
   "cell_type": "code",
   "execution_count": 79,
   "id": "3197369f",
   "metadata": {},
   "outputs": [],
   "source": [
    "# drop nulls to make sure none were missed\n",
    "df = df.dropna()"
   ]
  },
  {
   "cell_type": "code",
   "execution_count": 80,
   "id": "7a2aebdb",
   "metadata": {},
   "outputs": [
    {
     "data": {
      "text/plain": [
       "event_name           0\n",
       "fighter              0\n",
       "opponent             0\n",
       "w                    0\n",
       "l                    0\n",
       "d                    0\n",
       "nc                   0\n",
       "total_rounds         0\n",
       "belt                 0\n",
       "womens_bout          0\n",
       "interim_bout         0\n",
       "strawweight          0\n",
       "flyweight            0\n",
       "bantamweight         0\n",
       "featherweight        0\n",
       "lightweight          0\n",
       "middleweight         0\n",
       "light_heavyweight    0\n",
       "heavyweight          0\n",
       "catch_weight         0\n",
       "open_weight          0\n",
       "super_heavyweight    0\n",
       "superfight           0\n",
       "fight_city           0\n",
       "fight_state          0\n",
       "fight_country        0\n",
       "height               0\n",
       "weight               0\n",
       "reach                0\n",
       "stance               0\n",
       "slpm                 0\n",
       "stracc               0\n",
       "sapm                 0\n",
       "strdef               0\n",
       "tdavg                0\n",
       "tdacc                0\n",
       "tddef                0\n",
       "subavg               0\n",
       "age_days             0\n",
       "age                  0\n",
       "outcome              0\n",
       "height_in            0\n",
       "stance_Orthodox      0\n",
       "stance_Sideways      0\n",
       "stance_Southpaw      0\n",
       "stance_Switch        0\n",
       "stance_Orthodox      0\n",
       "stance_Southpaw      0\n",
       "stance_Switch        0\n",
       "dtype: int64"
      ]
     },
     "execution_count": 80,
     "metadata": {},
     "output_type": "execute_result"
    }
   ],
   "source": [
    "ufc_cleaned.isnull().sum()"
   ]
  },
  {
   "cell_type": "markdown",
   "id": "c3fb726f",
   "metadata": {},
   "source": [
    "No more null values."
   ]
  },
  {
   "cell_type": "code",
   "execution_count": 74,
   "id": "d291fa98",
   "metadata": {},
   "outputs": [],
   "source": [
    "# create dummy columns for stance column"
   ]
  },
  {
   "cell_type": "code",
   "execution_count": 75,
   "id": "36d5d2f4",
   "metadata": {},
   "outputs": [],
   "source": [
    "dummy_df = pd.get_dummies(ufc_cleaned[['stance']], dummy_na=False, drop_first=[False])\n",
    "ufc_cleaned = pd.concat([ufc_cleaned, dummy_df], axis=1)"
   ]
  },
  {
   "cell_type": "code",
   "execution_count": 77,
   "id": "3b4ee99d",
   "metadata": {},
   "outputs": [
    {
     "data": {
      "text/html": [
       "<div>\n",
       "<style scoped>\n",
       "    .dataframe tbody tr th:only-of-type {\n",
       "        vertical-align: middle;\n",
       "    }\n",
       "\n",
       "    .dataframe tbody tr th {\n",
       "        vertical-align: top;\n",
       "    }\n",
       "\n",
       "    .dataframe thead th {\n",
       "        text-align: right;\n",
       "    }\n",
       "</style>\n",
       "<table border=\"1\" class=\"dataframe\">\n",
       "  <thead>\n",
       "    <tr style=\"text-align: right;\">\n",
       "      <th></th>\n",
       "      <th>event_name</th>\n",
       "      <th>fighter</th>\n",
       "      <th>opponent</th>\n",
       "      <th>w</th>\n",
       "      <th>l</th>\n",
       "      <th>d</th>\n",
       "      <th>nc</th>\n",
       "      <th>total_rounds</th>\n",
       "      <th>belt</th>\n",
       "      <th>womens_bout</th>\n",
       "      <th>...</th>\n",
       "      <th>age</th>\n",
       "      <th>outcome</th>\n",
       "      <th>height_in</th>\n",
       "      <th>stance_Orthodox</th>\n",
       "      <th>stance_Sideways</th>\n",
       "      <th>stance_Southpaw</th>\n",
       "      <th>stance_Switch</th>\n",
       "      <th>stance_Orthodox</th>\n",
       "      <th>stance_Southpaw</th>\n",
       "      <th>stance_Switch</th>\n",
       "    </tr>\n",
       "  </thead>\n",
       "  <tbody>\n",
       "    <tr>\n",
       "      <th>0</th>\n",
       "      <td>UFC 259: Blachowicz vs. Adesanya</td>\n",
       "      <td>Aalon Cruz</td>\n",
       "      <td>Uros Medic</td>\n",
       "      <td>0</td>\n",
       "      <td>1</td>\n",
       "      <td>0</td>\n",
       "      <td>0</td>\n",
       "      <td>3</td>\n",
       "      <td>0</td>\n",
       "      <td>0</td>\n",
       "      <td>...</td>\n",
       "      <td>31.00</td>\n",
       "      <td>loss</td>\n",
       "      <td>72</td>\n",
       "      <td>0</td>\n",
       "      <td>0</td>\n",
       "      <td>0</td>\n",
       "      <td>1</td>\n",
       "      <td>0</td>\n",
       "      <td>0</td>\n",
       "      <td>1</td>\n",
       "    </tr>\n",
       "  </tbody>\n",
       "</table>\n",
       "<p>1 rows × 49 columns</p>\n",
       "</div>"
      ],
      "text/plain": [
       "                         event_name     fighter    opponent  w  l  d  nc  \\\n",
       "0  UFC 259: Blachowicz vs. Adesanya  Aalon Cruz  Uros Medic  0  1  0   0   \n",
       "\n",
       "   total_rounds  belt  womens_bout  ...   age  outcome  height_in  \\\n",
       "0             3     0            0  ... 31.00     loss         72   \n",
       "\n",
       "   stance_Orthodox  stance_Sideways  stance_Southpaw  stance_Switch  \\\n",
       "0                0                0                0              1   \n",
       "\n",
       "   stance_Orthodox  stance_Southpaw  stance_Switch  \n",
       "0                0                0              1  \n",
       "\n",
       "[1 rows x 49 columns]"
      ]
     },
     "execution_count": 77,
     "metadata": {},
     "output_type": "execute_result"
    }
   ],
   "source": [
    "ufc_cleaned.head(1)"
   ]
  },
  {
   "cell_type": "code",
   "execution_count": 81,
   "id": "d0de2bb0",
   "metadata": {},
   "outputs": [],
   "source": [
    "# double check to make sure datatype are good"
   ]
  },
  {
   "cell_type": "code",
   "execution_count": 78,
   "id": "9d1aa925",
   "metadata": {},
   "outputs": [
    {
     "data": {
      "text/plain": [
       "event_name            object\n",
       "fighter               object\n",
       "opponent              object\n",
       "w                      int64\n",
       "l                      int64\n",
       "d                      int64\n",
       "nc                     int64\n",
       "total_rounds           int64\n",
       "belt                   int64\n",
       "womens_bout            int64\n",
       "interim_bout           int64\n",
       "strawweight            int64\n",
       "flyweight              int64\n",
       "bantamweight           int64\n",
       "featherweight          int64\n",
       "lightweight            int64\n",
       "middleweight           int64\n",
       "light_heavyweight      int64\n",
       "heavyweight            int64\n",
       "catch_weight           int64\n",
       "open_weight            int64\n",
       "super_heavyweight      int64\n",
       "superfight             int64\n",
       "fight_city            object\n",
       "fight_state           object\n",
       "fight_country         object\n",
       "height                object\n",
       "weight               float64\n",
       "reach                float64\n",
       "stance                object\n",
       "slpm                 float64\n",
       "stracc                 int64\n",
       "sapm                 float64\n",
       "strdef                 int64\n",
       "tdavg                float64\n",
       "tdacc                  int64\n",
       "tddef                  int64\n",
       "subavg               float64\n",
       "age_days               int64\n",
       "age                  float64\n",
       "outcome               object\n",
       "height_in              int64\n",
       "stance_Orthodox        uint8\n",
       "stance_Sideways        uint8\n",
       "stance_Southpaw        uint8\n",
       "stance_Switch          uint8\n",
       "stance_Orthodox        uint8\n",
       "stance_Southpaw        uint8\n",
       "stance_Switch          uint8\n",
       "dtype: object"
      ]
     },
     "execution_count": 78,
     "metadata": {},
     "output_type": "execute_result"
    }
   ],
   "source": [
    "ufc_cleaned.dtypes"
   ]
  },
  {
   "cell_type": "code",
   "execution_count": 82,
   "id": "172283a2",
   "metadata": {},
   "outputs": [],
   "source": [
    "# Drop height column\n",
    "cols_to_drop = ['height']\n",
    "ufc_cleaned = ufc_cleaned.drop(columns=cols_to_drop)"
   ]
  },
  {
   "cell_type": "markdown",
   "id": "593ad11f",
   "metadata": {},
   "source": [
    "Now that the data is prepped, I'll make a function so that the prep stage won't clutter my final report notebook. "
   ]
  },
  {
   "cell_type": "code",
   "execution_count": 83,
   "id": "d93eb529",
   "metadata": {},
   "outputs": [],
   "source": [
    "def get_n_prep_ufc(): \n",
    "    \n",
    "    # imports\n",
    "    import pandas as pd\n",
    "    # Ignore Warnings\n",
    "    import warnings\n",
    "    warnings.filterwarnings(\"ignore\")\n",
    "    \n",
    "    # read .csv\n",
    "    ufc = pd.read_csv('ufc-master-cleaned.csv')\n",
    "    \n",
    "    # add the columns I would like to work with into a new df\n",
    "    ufc_cleaned = ufc[['event_name', 'fullname', 'fighter_two_name', 'w', 'l', 'd', 'nc', 'total_rounds', 'belt', 'womens_bout', 'interim_bout', 'strawweight', 'flyweight', 'bantamweight', 'featherweight', 'lightweight', 'middleweight', 'light_heavyweight', 'heavyweight', 'catch_weight', 'open_weight', 'super_heavyweight', 'superfight', 'fight_city', 'fight_state', 'fight_country', 'height', 'weight', 'reach', 'stance', 'slpm', 'stracc', 'sapm', 'strdef', 'tdavg', 'tdacc', 'tddef', 'subavg', 'age_days', 'age']].copy(0)\n",
    "    \n",
    "    # Drop duplicates if any\n",
    "    df = ufc_cleaned.drop_duplicates()\n",
    "    \n",
    "    # combine w, l, d, nc into on target column called outcome\n",
    "    cols = ['w', 'l', 'd', 'nc']\n",
    "    ufc_cleaned['outcome'] = ufc_cleaned[cols].apply(lambda row: '_'.join(row.values.astype(str)), axis=1)\n",
    "    \n",
    "    # rename the labels in outcome to be human readable \n",
    "    ufc_cleaned['outcome'].replace({'1_0_0_0': 'win', '0_1_0_0': 'loss', '0_0_1_0': 'draw', '0_0_0_1': 'no_contest'}, inplace=True)\n",
    "    \n",
    "    # rename fullname and fighter_two_name to fighter and opponent respectively\n",
    "    ufc_cleaned.rename(columns={'fullname': 'fighter', 'fighter_two_name': 'opponent'}, inplace=True)\n",
    "    \n",
    "    # clean height column\n",
    "    \n",
    "    # replace the -- with 0' 0\" so my function below will work\n",
    "    ufc_cleaned['height'].replace({'--': \"0' 0\\\"\"}, inplace=True)\n",
    "    \n",
    "    # convert ft to in\n",
    "    def parse_ht(ht):\n",
    "        # format: 7' 0.0\"\n",
    "        ht_ = ht.split(\"' \")\n",
    "        ft_ = float(ht_[0])\n",
    "        in_ = float(ht_[1].replace(\"\\\"\",\"\"))\n",
    "        return (12*ft_) + in_\n",
    "    \n",
    "    # apply parse_ht\n",
    "    ufc_cleaned[\"height_in\"] = ufc_cleaned[\"height\"].apply(lambda x:parse_ht(x))\n",
    "\n",
    "    # convert float to int\n",
    "    ufc_cleaned['height_in'] = ufc_cleaned.height_in.astype(int) \n",
    "    \n",
    "    # handle null values\n",
    "    \n",
    "    # fill fight_state null values with the mode which is Navada\n",
    "    ufc_cleaned['fight_state'] = ufc_cleaned.fight_state.fillna(ufc_cleaned.fight_state.mode()[0])\n",
    "    \n",
    "    # drop null rows in specific columns\n",
    "    ufc_cleaned = ufc_cleaned[ufc_cleaned.weight.notnull()]\n",
    "    ufc_cleaned = ufc_cleaned[ufc_cleaned.reach.notnull()]\n",
    "    ufc_cleaned = ufc_cleaned[ufc_cleaned.stance.notnull()]\n",
    "    ufc_cleaned = ufc_cleaned[ufc_cleaned.age.notnull()]\n",
    "    ufc_cleaned = ufc_cleaned[ufc_cleaned.fight_country.notnull()]\n",
    "    \n",
    "    # drop nulls to make sure none were missed\n",
    "    df = df.dropna()\n",
    "    \n",
    "    # create dummy columns for stance column and concat to df\n",
    "    dummy_df = pd.get_dummies(ufc_cleaned[['stance']], dummy_na=False, drop_first=[False])\n",
    "    ufc_cleaned = pd.concat([ufc_cleaned, dummy_df], axis=1)\n",
    "    \n",
    "    # Drop height column\n",
    "    cols_to_drop = ['height']\n",
    "    ufc_cleaned = ufc_cleaned.drop(columns=cols_to_drop)\n",
    "\n",
    "    return ufc_cleaned\n",
    "    \n",
    "    "
   ]
  },
  {
   "cell_type": "code",
   "execution_count": 84,
   "id": "548edba5",
   "metadata": {},
   "outputs": [],
   "source": [
    "ufc_cleaned = get_n_prep_ufc()"
   ]
  },
  {
   "cell_type": "code",
   "execution_count": 85,
   "id": "ba2e36c4",
   "metadata": {},
   "outputs": [
    {
     "data": {
      "text/html": [
       "<div>\n",
       "<style scoped>\n",
       "    .dataframe tbody tr th:only-of-type {\n",
       "        vertical-align: middle;\n",
       "    }\n",
       "\n",
       "    .dataframe tbody tr th {\n",
       "        vertical-align: top;\n",
       "    }\n",
       "\n",
       "    .dataframe thead th {\n",
       "        text-align: right;\n",
       "    }\n",
       "</style>\n",
       "<table border=\"1\" class=\"dataframe\">\n",
       "  <thead>\n",
       "    <tr style=\"text-align: right;\">\n",
       "      <th></th>\n",
       "      <th>event_name</th>\n",
       "      <th>fighter</th>\n",
       "      <th>opponent</th>\n",
       "      <th>w</th>\n",
       "      <th>l</th>\n",
       "      <th>d</th>\n",
       "      <th>nc</th>\n",
       "      <th>total_rounds</th>\n",
       "      <th>belt</th>\n",
       "      <th>womens_bout</th>\n",
       "      <th>...</th>\n",
       "      <th>tdacc</th>\n",
       "      <th>tddef</th>\n",
       "      <th>subavg</th>\n",
       "      <th>age_days</th>\n",
       "      <th>age</th>\n",
       "      <th>outcome</th>\n",
       "      <th>height_in</th>\n",
       "      <th>stance_Orthodox</th>\n",
       "      <th>stance_Southpaw</th>\n",
       "      <th>stance_Switch</th>\n",
       "    </tr>\n",
       "  </thead>\n",
       "  <tbody>\n",
       "    <tr>\n",
       "      <th>0</th>\n",
       "      <td>UFC 259: Blachowicz vs. Adesanya</td>\n",
       "      <td>Aalon Cruz</td>\n",
       "      <td>Uros Medic</td>\n",
       "      <td>0</td>\n",
       "      <td>1</td>\n",
       "      <td>0</td>\n",
       "      <td>0</td>\n",
       "      <td>3</td>\n",
       "      <td>0</td>\n",
       "      <td>0</td>\n",
       "      <td>...</td>\n",
       "      <td>0</td>\n",
       "      <td>0</td>\n",
       "      <td>0.00</td>\n",
       "      <td>11490</td>\n",
       "      <td>31.00</td>\n",
       "      <td>loss</td>\n",
       "      <td>72</td>\n",
       "      <td>0</td>\n",
       "      <td>0</td>\n",
       "      <td>1</td>\n",
       "    </tr>\n",
       "    <tr>\n",
       "      <th>1</th>\n",
       "      <td>UFC Fight Night: Benavidez vs. Figueiredo</td>\n",
       "      <td>Aalon Cruz</td>\n",
       "      <td>Spike Carlyle</td>\n",
       "      <td>0</td>\n",
       "      <td>1</td>\n",
       "      <td>0</td>\n",
       "      <td>0</td>\n",
       "      <td>3</td>\n",
       "      <td>0</td>\n",
       "      <td>0</td>\n",
       "      <td>...</td>\n",
       "      <td>0</td>\n",
       "      <td>0</td>\n",
       "      <td>0.00</td>\n",
       "      <td>11119</td>\n",
       "      <td>30.00</td>\n",
       "      <td>loss</td>\n",
       "      <td>72</td>\n",
       "      <td>0</td>\n",
       "      <td>0</td>\n",
       "      <td>1</td>\n",
       "    </tr>\n",
       "    <tr>\n",
       "      <th>3</th>\n",
       "      <td>UFC Fight Night: Henderson vs Dos Anjos</td>\n",
       "      <td>Aaron Phillips</td>\n",
       "      <td>Matt Hobar</td>\n",
       "      <td>0</td>\n",
       "      <td>1</td>\n",
       "      <td>0</td>\n",
       "      <td>0</td>\n",
       "      <td>3</td>\n",
       "      <td>0</td>\n",
       "      <td>0</td>\n",
       "      <td>...</td>\n",
       "      <td>0</td>\n",
       "      <td>44</td>\n",
       "      <td>0.40</td>\n",
       "      <td>9149</td>\n",
       "      <td>25.00</td>\n",
       "      <td>loss</td>\n",
       "      <td>69</td>\n",
       "      <td>0</td>\n",
       "      <td>1</td>\n",
       "      <td>0</td>\n",
       "    </tr>\n",
       "    <tr>\n",
       "      <th>4</th>\n",
       "      <td>UFC Fight Night: Kattar vs. Ige</td>\n",
       "      <td>Aaron Phillips</td>\n",
       "      <td>Jack Shore</td>\n",
       "      <td>0</td>\n",
       "      <td>1</td>\n",
       "      <td>0</td>\n",
       "      <td>0</td>\n",
       "      <td>3</td>\n",
       "      <td>0</td>\n",
       "      <td>0</td>\n",
       "      <td>...</td>\n",
       "      <td>0</td>\n",
       "      <td>44</td>\n",
       "      <td>0.40</td>\n",
       "      <td>11302</td>\n",
       "      <td>30.00</td>\n",
       "      <td>loss</td>\n",
       "      <td>69</td>\n",
       "      <td>0</td>\n",
       "      <td>1</td>\n",
       "      <td>0</td>\n",
       "    </tr>\n",
       "    <tr>\n",
       "      <th>5</th>\n",
       "      <td>UFC 173: Barao vs Dillashaw</td>\n",
       "      <td>Aaron Phillips</td>\n",
       "      <td>Sam Sicilia</td>\n",
       "      <td>0</td>\n",
       "      <td>1</td>\n",
       "      <td>0</td>\n",
       "      <td>0</td>\n",
       "      <td>3</td>\n",
       "      <td>0</td>\n",
       "      <td>0</td>\n",
       "      <td>...</td>\n",
       "      <td>0</td>\n",
       "      <td>44</td>\n",
       "      <td>0.40</td>\n",
       "      <td>9058</td>\n",
       "      <td>24.00</td>\n",
       "      <td>loss</td>\n",
       "      <td>69</td>\n",
       "      <td>0</td>\n",
       "      <td>1</td>\n",
       "      <td>0</td>\n",
       "    </tr>\n",
       "  </tbody>\n",
       "</table>\n",
       "<p>5 rows × 44 columns</p>\n",
       "</div>"
      ],
      "text/plain": [
       "                                  event_name         fighter       opponent  \\\n",
       "0           UFC 259: Blachowicz vs. Adesanya      Aalon Cruz     Uros Medic   \n",
       "1  UFC Fight Night: Benavidez vs. Figueiredo      Aalon Cruz  Spike Carlyle   \n",
       "3    UFC Fight Night: Henderson vs Dos Anjos  Aaron Phillips     Matt Hobar   \n",
       "4            UFC Fight Night: Kattar vs. Ige  Aaron Phillips     Jack Shore   \n",
       "5                UFC 173: Barao vs Dillashaw  Aaron Phillips    Sam Sicilia   \n",
       "\n",
       "   w  l  d  nc  total_rounds  belt  womens_bout  ...  tdacc  tddef  subavg  \\\n",
       "0  0  1  0   0             3     0            0  ...      0      0    0.00   \n",
       "1  0  1  0   0             3     0            0  ...      0      0    0.00   \n",
       "3  0  1  0   0             3     0            0  ...      0     44    0.40   \n",
       "4  0  1  0   0             3     0            0  ...      0     44    0.40   \n",
       "5  0  1  0   0             3     0            0  ...      0     44    0.40   \n",
       "\n",
       "   age_days   age  outcome  height_in  stance_Orthodox  stance_Southpaw  \\\n",
       "0     11490 31.00     loss         72                0                0   \n",
       "1     11119 30.00     loss         72                0                0   \n",
       "3      9149 25.00     loss         69                0                1   \n",
       "4     11302 30.00     loss         69                0                1   \n",
       "5      9058 24.00     loss         69                0                1   \n",
       "\n",
       "   stance_Switch  \n",
       "0              1  \n",
       "1              1  \n",
       "3              0  \n",
       "4              0  \n",
       "5              0  \n",
       "\n",
       "[5 rows x 44 columns]"
      ]
     },
     "execution_count": 85,
     "metadata": {},
     "output_type": "execute_result"
    }
   ],
   "source": [
    "ufc_cleaned.head()"
   ]
  },
  {
   "cell_type": "markdown",
   "id": "9b2e670a",
   "metadata": {},
   "source": [
    "### Explore"
   ]
  },
  {
   "cell_type": "code",
   "execution_count": 39,
   "id": "01b5918c",
   "metadata": {},
   "outputs": [],
   "source": [
    "# ufc.corr(method ='pearson')"
   ]
  },
  {
   "cell_type": "code",
   "execution_count": 38,
   "id": "11c90a1a",
   "metadata": {},
   "outputs": [],
   "source": [
    "# c_cov = ufc_cleaned[ufc_cleaned.fullname.isin(['Colby Covington'])]"
   ]
  },
  {
   "cell_type": "code",
   "execution_count": 31,
   "id": "58359081",
   "metadata": {},
   "outputs": [],
   "source": [
    "# c_cov.head()"
   ]
  },
  {
   "cell_type": "code",
   "execution_count": 53,
   "id": "f40c0182",
   "metadata": {},
   "outputs": [],
   "source": []
  },
  {
   "cell_type": "code",
   "execution_count": null,
   "id": "f5b46cee",
   "metadata": {},
   "outputs": [],
   "source": []
  },
  {
   "cell_type": "code",
   "execution_count": null,
   "id": "2c15fff9",
   "metadata": {},
   "outputs": [],
   "source": []
  }
 ],
 "metadata": {
  "kernelspec": {
   "display_name": "Python 3",
   "language": "python",
   "name": "python3"
  },
  "language_info": {
   "codemirror_mode": {
    "name": "ipython",
    "version": 3
   },
   "file_extension": ".py",
   "mimetype": "text/x-python",
   "name": "python",
   "nbconvert_exporter": "python",
   "pygments_lexer": "ipython3",
   "version": "3.8.8"
  }
 },
 "nbformat": 4,
 "nbformat_minor": 5
}
